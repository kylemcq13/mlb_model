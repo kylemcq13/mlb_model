{
 "cells": [
  {
   "cell_type": "code",
   "execution_count": 27,
   "metadata": {},
   "outputs": [],
   "source": [
    "import pandas as pd\n",
    "import numpy as np\n",
    "from configparser import ConfigParser\n",
    "from sqlalchemy import create_engine\n",
    "import matplotlib.pyplot as plt\n",
    "import unidecode\n",
    "from sklearn.model_selection import train_test_split, GridSearchCV\n",
    "from sklearn.pipeline import Pipeline\n",
    "from sklearn.preprocessing import StandardScaler, OneHotEncoder\n",
    "from sklearn.tree import DecisionTreeClassifier\n",
    "from sklearn.impute import SimpleImputer\n",
    "from sklearn.compose import ColumnTransformer\n",
    "from sklearn.metrics import ConfusionMatrixDisplay, confusion_matrix, classification_report\n",
    "from sklearn.metrics import roc_auc_score"
   ]
  },
  {
   "cell_type": "code",
   "execution_count": 28,
   "metadata": {},
   "outputs": [],
   "source": [
    "# establish sql engine connection\n",
    "parser = ConfigParser()\n",
    "parser.read('nb.ini')\n",
    "conn_string = parser.get('my_db', 'conn_string')\n",
    "engine = create_engine(conn_string)"
   ]
  },
  {
   "cell_type": "code",
   "execution_count": 29,
   "metadata": {},
   "outputs": [
    {
     "name": "stdout",
     "output_type": "stream",
     "text": [
      "(48938,)\n"
     ]
    }
   ],
   "source": [
    "sql = '''\n",
    "    SELECT COUNT(*)\n",
    "    FROM statcast_2021\n",
    "    WHERE home_team = 'CWS' or away_team = 'CWS'\n",
    "'''\n",
    "\n",
    "results = engine.execute(sql)\n",
    "engine.dispose()\n",
    "rows = results.fetchall()\n",
    "\n",
    "for row in rows:\n",
    "    print(row)"
   ]
  },
  {
   "cell_type": "code",
   "execution_count": 30,
   "metadata": {},
   "outputs": [],
   "source": [
    "# fetch White Sox data from postgresql database\n",
    "\n",
    "sql1 = '''\n",
    "    SELECT *\n",
    "    FROM statcast_2019\n",
    "    WHERE home_team = 'CWS' or away_team = 'CWS'\n",
    "'''\n",
    "\n",
    "cws_19 = pd.read_sql_query(sql1, engine)\n",
    "\n",
    "sql2 = '''\n",
    "    SELECT *\n",
    "    FROM statcast_2020\n",
    "    WHERE home_team = 'CWS' or away_team = 'CWS'\n",
    "'''\n",
    "\n",
    "cws_20 = pd.read_sql_query(sql2, engine)\n",
    "\n",
    "sql3 = '''\n",
    "    SELECT *\n",
    "    FROM statcast_2021\n",
    "    WHERE home_team = 'CWS' or away_team = 'CWS'\n",
    "'''\n",
    "\n",
    "cws_21 = pd.read_sql_query(sql3, engine)"
   ]
  },
  {
   "cell_type": "code",
   "execution_count": 31,
   "metadata": {},
   "outputs": [
    {
     "data": {
      "text/html": [
       "<div>\n",
       "<style scoped>\n",
       "    .dataframe tbody tr th:only-of-type {\n",
       "        vertical-align: middle;\n",
       "    }\n",
       "\n",
       "    .dataframe tbody tr th {\n",
       "        vertical-align: top;\n",
       "    }\n",
       "\n",
       "    .dataframe thead th {\n",
       "        text-align: right;\n",
       "    }\n",
       "</style>\n",
       "<table border=\"1\" class=\"dataframe\">\n",
       "  <thead>\n",
       "    <tr style=\"text-align: right;\">\n",
       "      <th></th>\n",
       "      <th>player_name</th>\n",
       "      <th>pitch_type</th>\n",
       "      <th>game_date</th>\n",
       "      <th>release_speed</th>\n",
       "      <th>release_pos_x</th>\n",
       "      <th>release_pos_y</th>\n",
       "      <th>release_pos_z</th>\n",
       "      <th>release_spin_rate</th>\n",
       "      <th>release_extension</th>\n",
       "      <th>pfx_x</th>\n",
       "      <th>...</th>\n",
       "      <th>plate_z</th>\n",
       "      <th>vx0</th>\n",
       "      <th>vy0</th>\n",
       "      <th>vz0</th>\n",
       "      <th>ax</th>\n",
       "      <th>ay</th>\n",
       "      <th>az</th>\n",
       "      <th>effective_speed</th>\n",
       "      <th>pitch_name</th>\n",
       "      <th>spin_axis</th>\n",
       "    </tr>\n",
       "  </thead>\n",
       "  <tbody>\n",
       "    <tr>\n",
       "      <th>0</th>\n",
       "      <td>Detwiler, Ross</td>\n",
       "      <td>FF</td>\n",
       "      <td>2019-09-29</td>\n",
       "      <td>90.8</td>\n",
       "      <td>1.70</td>\n",
       "      <td>55.38</td>\n",
       "      <td>6.54</td>\n",
       "      <td>2229.0</td>\n",
       "      <td>5.1</td>\n",
       "      <td>0.70</td>\n",
       "      <td>...</td>\n",
       "      <td>2.72</td>\n",
       "      <td>-6.320060</td>\n",
       "      <td>-131.856935</td>\n",
       "      <td>-6.652703</td>\n",
       "      <td>9.092417</td>\n",
       "      <td>26.618561</td>\n",
       "      <td>-13.781079</td>\n",
       "      <td>88.9</td>\n",
       "      <td>4-Seam Fastball</td>\n",
       "      <td>156.0</td>\n",
       "    </tr>\n",
       "    <tr>\n",
       "      <th>1</th>\n",
       "      <td>Detwiler, Ross</td>\n",
       "      <td>FF</td>\n",
       "      <td>2019-09-29</td>\n",
       "      <td>90.9</td>\n",
       "      <td>1.69</td>\n",
       "      <td>55.19</td>\n",
       "      <td>6.54</td>\n",
       "      <td>2150.0</td>\n",
       "      <td>5.3</td>\n",
       "      <td>0.87</td>\n",
       "      <td>...</td>\n",
       "      <td>2.61</td>\n",
       "      <td>-6.163837</td>\n",
       "      <td>-131.947154</td>\n",
       "      <td>-6.807185</td>\n",
       "      <td>11.107123</td>\n",
       "      <td>27.199879</td>\n",
       "      <td>-14.601518</td>\n",
       "      <td>89.2</td>\n",
       "      <td>4-Seam Fastball</td>\n",
       "      <td>149.0</td>\n",
       "    </tr>\n",
       "    <tr>\n",
       "      <th>2</th>\n",
       "      <td>Detwiler, Ross</td>\n",
       "      <td>FF</td>\n",
       "      <td>2019-09-29</td>\n",
       "      <td>90.5</td>\n",
       "      <td>1.79</td>\n",
       "      <td>55.25</td>\n",
       "      <td>6.56</td>\n",
       "      <td>2257.0</td>\n",
       "      <td>5.2</td>\n",
       "      <td>0.74</td>\n",
       "      <td>...</td>\n",
       "      <td>3.73</td>\n",
       "      <td>-6.465599</td>\n",
       "      <td>-131.532339</td>\n",
       "      <td>-4.017770</td>\n",
       "      <td>9.627689</td>\n",
       "      <td>26.339513</td>\n",
       "      <td>-15.425408</td>\n",
       "      <td>88.9</td>\n",
       "      <td>4-Seam Fastball</td>\n",
       "      <td>153.0</td>\n",
       "    </tr>\n",
       "    <tr>\n",
       "      <th>3</th>\n",
       "      <td>Herrera, Kelvin</td>\n",
       "      <td>FC</td>\n",
       "      <td>2019-09-29</td>\n",
       "      <td>91.1</td>\n",
       "      <td>-2.16</td>\n",
       "      <td>54.71</td>\n",
       "      <td>6.08</td>\n",
       "      <td>2347.0</td>\n",
       "      <td>5.8</td>\n",
       "      <td>-0.05</td>\n",
       "      <td>...</td>\n",
       "      <td>1.02</td>\n",
       "      <td>5.659540</td>\n",
       "      <td>-132.261173</td>\n",
       "      <td>-7.523466</td>\n",
       "      <td>-1.822484</td>\n",
       "      <td>29.552101</td>\n",
       "      <td>-26.184787</td>\n",
       "      <td>89.9</td>\n",
       "      <td>Cutter</td>\n",
       "      <td>187.0</td>\n",
       "    </tr>\n",
       "    <tr>\n",
       "      <th>4</th>\n",
       "      <td>Herrera, Kelvin</td>\n",
       "      <td>FC</td>\n",
       "      <td>2019-09-29</td>\n",
       "      <td>88.2</td>\n",
       "      <td>-2.22</td>\n",
       "      <td>54.78</td>\n",
       "      <td>6.07</td>\n",
       "      <td>2366.0</td>\n",
       "      <td>5.7</td>\n",
       "      <td>0.19</td>\n",
       "      <td>...</td>\n",
       "      <td>2.29</td>\n",
       "      <td>5.356255</td>\n",
       "      <td>-128.270061</td>\n",
       "      <td>-3.958404</td>\n",
       "      <td>0.855951</td>\n",
       "      <td>27.381318</td>\n",
       "      <td>-26.670237</td>\n",
       "      <td>87.1</td>\n",
       "      <td>Cutter</td>\n",
       "      <td>158.0</td>\n",
       "    </tr>\n",
       "    <tr>\n",
       "      <th>...</th>\n",
       "      <td>...</td>\n",
       "      <td>...</td>\n",
       "      <td>...</td>\n",
       "      <td>...</td>\n",
       "      <td>...</td>\n",
       "      <td>...</td>\n",
       "      <td>...</td>\n",
       "      <td>...</td>\n",
       "      <td>...</td>\n",
       "      <td>...</td>\n",
       "      <td>...</td>\n",
       "      <td>...</td>\n",
       "      <td>...</td>\n",
       "      <td>...</td>\n",
       "      <td>...</td>\n",
       "      <td>...</td>\n",
       "      <td>...</td>\n",
       "      <td>...</td>\n",
       "      <td>...</td>\n",
       "      <td>...</td>\n",
       "      <td>...</td>\n",
       "    </tr>\n",
       "    <tr>\n",
       "      <th>48933</th>\n",
       "      <td>Bundy, Dylan</td>\n",
       "      <td>SL</td>\n",
       "      <td>2021-04-01 00:00:00</td>\n",
       "      <td>80.6</td>\n",
       "      <td>-2.19</td>\n",
       "      <td>54.65</td>\n",
       "      <td>6.22</td>\n",
       "      <td>2883.0</td>\n",
       "      <td>5.8</td>\n",
       "      <td>0.42</td>\n",
       "      <td>...</td>\n",
       "      <td>4.34</td>\n",
       "      <td>3.500496</td>\n",
       "      <td>-117.325532</td>\n",
       "      <td>2.858295</td>\n",
       "      <td>3.339777</td>\n",
       "      <td>20.117864</td>\n",
       "      <td>-35.093907</td>\n",
       "      <td>80.3</td>\n",
       "      <td>Slider</td>\n",
       "      <td>51.0</td>\n",
       "    </tr>\n",
       "    <tr>\n",
       "      <th>48934</th>\n",
       "      <td>Bundy, Dylan</td>\n",
       "      <td>SI</td>\n",
       "      <td>2021-04-01 00:00:00</td>\n",
       "      <td>92.3</td>\n",
       "      <td>-2.04</td>\n",
       "      <td>54.35</td>\n",
       "      <td>6.31</td>\n",
       "      <td>2575.0</td>\n",
       "      <td>6.1</td>\n",
       "      <td>-1.26</td>\n",
       "      <td>...</td>\n",
       "      <td>2.54</td>\n",
       "      <td>4.818720</td>\n",
       "      <td>-134.219390</td>\n",
       "      <td>-6.564692</td>\n",
       "      <td>-16.326358</td>\n",
       "      <td>29.144684</td>\n",
       "      <td>-15.376335</td>\n",
       "      <td>92.0</td>\n",
       "      <td>Sinker</td>\n",
       "      <td>199.0</td>\n",
       "    </tr>\n",
       "    <tr>\n",
       "      <th>48935</th>\n",
       "      <td>Bundy, Dylan</td>\n",
       "      <td>SL</td>\n",
       "      <td>2021-04-01 00:00:00</td>\n",
       "      <td>80.0</td>\n",
       "      <td>-2.32</td>\n",
       "      <td>54.64</td>\n",
       "      <td>6.18</td>\n",
       "      <td>2842.0</td>\n",
       "      <td>5.9</td>\n",
       "      <td>0.71</td>\n",
       "      <td>...</td>\n",
       "      <td>2.65</td>\n",
       "      <td>2.316856</td>\n",
       "      <td>-116.614394</td>\n",
       "      <td>-0.511918</td>\n",
       "      <td>6.054594</td>\n",
       "      <td>21.557781</td>\n",
       "      <td>-35.151147</td>\n",
       "      <td>79.6</td>\n",
       "      <td>Slider</td>\n",
       "      <td>26.0</td>\n",
       "    </tr>\n",
       "    <tr>\n",
       "      <th>48936</th>\n",
       "      <td>Bundy, Dylan</td>\n",
       "      <td>SL</td>\n",
       "      <td>2021-04-01 00:00:00</td>\n",
       "      <td>79.8</td>\n",
       "      <td>-2.36</td>\n",
       "      <td>54.60</td>\n",
       "      <td>6.16</td>\n",
       "      <td>2671.0</td>\n",
       "      <td>5.9</td>\n",
       "      <td>0.49</td>\n",
       "      <td>...</td>\n",
       "      <td>2.70</td>\n",
       "      <td>3.053576</td>\n",
       "      <td>-116.159204</td>\n",
       "      <td>-0.225082</td>\n",
       "      <td>3.838962</td>\n",
       "      <td>21.948125</td>\n",
       "      <td>-35.444980</td>\n",
       "      <td>79.2</td>\n",
       "      <td>Slider</td>\n",
       "      <td>50.0</td>\n",
       "    </tr>\n",
       "    <tr>\n",
       "      <th>48937</th>\n",
       "      <td>Bundy, Dylan</td>\n",
       "      <td>FF</td>\n",
       "      <td>2021-04-01 00:00:00</td>\n",
       "      <td>92.0</td>\n",
       "      <td>-2.12</td>\n",
       "      <td>54.38</td>\n",
       "      <td>6.30</td>\n",
       "      <td>2544.0</td>\n",
       "      <td>6.1</td>\n",
       "      <td>-0.38</td>\n",
       "      <td>...</td>\n",
       "      <td>2.05</td>\n",
       "      <td>5.639525</td>\n",
       "      <td>-133.559854</td>\n",
       "      <td>-8.823466</td>\n",
       "      <td>-5.823376</td>\n",
       "      <td>29.745908</td>\n",
       "      <td>-8.633210</td>\n",
       "      <td>91.4</td>\n",
       "      <td>4-Seam Fastball</td>\n",
       "      <td>198.0</td>\n",
       "    </tr>\n",
       "  </tbody>\n",
       "</table>\n",
       "<p>114967 rows × 22 columns</p>\n",
       "</div>"
      ],
      "text/plain": [
       "           player_name pitch_type            game_date  release_speed  \\\n",
       "0       Detwiler, Ross         FF           2019-09-29           90.8   \n",
       "1       Detwiler, Ross         FF           2019-09-29           90.9   \n",
       "2       Detwiler, Ross         FF           2019-09-29           90.5   \n",
       "3      Herrera, Kelvin         FC           2019-09-29           91.1   \n",
       "4      Herrera, Kelvin         FC           2019-09-29           88.2   \n",
       "...                ...        ...                  ...            ...   \n",
       "48933     Bundy, Dylan         SL  2021-04-01 00:00:00           80.6   \n",
       "48934     Bundy, Dylan         SI  2021-04-01 00:00:00           92.3   \n",
       "48935     Bundy, Dylan         SL  2021-04-01 00:00:00           80.0   \n",
       "48936     Bundy, Dylan         SL  2021-04-01 00:00:00           79.8   \n",
       "48937     Bundy, Dylan         FF  2021-04-01 00:00:00           92.0   \n",
       "\n",
       "       release_pos_x  release_pos_y  release_pos_z  release_spin_rate  \\\n",
       "0               1.70          55.38           6.54             2229.0   \n",
       "1               1.69          55.19           6.54             2150.0   \n",
       "2               1.79          55.25           6.56             2257.0   \n",
       "3              -2.16          54.71           6.08             2347.0   \n",
       "4              -2.22          54.78           6.07             2366.0   \n",
       "...              ...            ...            ...                ...   \n",
       "48933          -2.19          54.65           6.22             2883.0   \n",
       "48934          -2.04          54.35           6.31             2575.0   \n",
       "48935          -2.32          54.64           6.18             2842.0   \n",
       "48936          -2.36          54.60           6.16             2671.0   \n",
       "48937          -2.12          54.38           6.30             2544.0   \n",
       "\n",
       "       release_extension  pfx_x  ...  plate_z       vx0         vy0       vz0  \\\n",
       "0                    5.1   0.70  ...     2.72 -6.320060 -131.856935 -6.652703   \n",
       "1                    5.3   0.87  ...     2.61 -6.163837 -131.947154 -6.807185   \n",
       "2                    5.2   0.74  ...     3.73 -6.465599 -131.532339 -4.017770   \n",
       "3                    5.8  -0.05  ...     1.02  5.659540 -132.261173 -7.523466   \n",
       "4                    5.7   0.19  ...     2.29  5.356255 -128.270061 -3.958404   \n",
       "...                  ...    ...  ...      ...       ...         ...       ...   \n",
       "48933                5.8   0.42  ...     4.34  3.500496 -117.325532  2.858295   \n",
       "48934                6.1  -1.26  ...     2.54  4.818720 -134.219390 -6.564692   \n",
       "48935                5.9   0.71  ...     2.65  2.316856 -116.614394 -0.511918   \n",
       "48936                5.9   0.49  ...     2.70  3.053576 -116.159204 -0.225082   \n",
       "48937                6.1  -0.38  ...     2.05  5.639525 -133.559854 -8.823466   \n",
       "\n",
       "              ax         ay         az  effective_speed       pitch_name  \\\n",
       "0       9.092417  26.618561 -13.781079             88.9  4-Seam Fastball   \n",
       "1      11.107123  27.199879 -14.601518             89.2  4-Seam Fastball   \n",
       "2       9.627689  26.339513 -15.425408             88.9  4-Seam Fastball   \n",
       "3      -1.822484  29.552101 -26.184787             89.9           Cutter   \n",
       "4       0.855951  27.381318 -26.670237             87.1           Cutter   \n",
       "...          ...        ...        ...              ...              ...   \n",
       "48933   3.339777  20.117864 -35.093907             80.3           Slider   \n",
       "48934 -16.326358  29.144684 -15.376335             92.0           Sinker   \n",
       "48935   6.054594  21.557781 -35.151147             79.6           Slider   \n",
       "48936   3.838962  21.948125 -35.444980             79.2           Slider   \n",
       "48937  -5.823376  29.745908  -8.633210             91.4  4-Seam Fastball   \n",
       "\n",
       "       spin_axis  \n",
       "0          156.0  \n",
       "1          149.0  \n",
       "2          153.0  \n",
       "3          187.0  \n",
       "4          158.0  \n",
       "...          ...  \n",
       "48933       51.0  \n",
       "48934      199.0  \n",
       "48935       26.0  \n",
       "48936       50.0  \n",
       "48937      198.0  \n",
       "\n",
       "[114967 rows x 22 columns]"
      ]
     },
     "execution_count": 31,
     "metadata": {},
     "output_type": "execute_result"
    }
   ],
   "source": [
    "# set relevant columns, concatenate 2019 through 2021 data\n",
    "\n",
    "cols = ['player_name', 'pitch_type', 'game_date', 'release_speed', 'release_pos_x', \n",
    "         'release_pos_y', 'release_pos_z', 'release_spin_rate', 'release_extension', \n",
    "         'pfx_x', 'pfx_z', 'plate_x', 'plate_z', 'vx0',\n",
    "         'vy0', 'vz0', 'ax', 'ay', 'az', 'effective_speed',\n",
    "         'pitch_name', 'spin_axis']\n",
    "\n",
    "cws_19_ft = cws_19[cols]\n",
    "cws_20_ft = cws_20[cols]\n",
    "cws_21_ft = cws_21[cols]\n",
    "\n",
    "cws_ft = pd.concat([cws_19_ft, cws_20_ft, cws_21_ft])\n",
    "\n",
    "cws_ft"
   ]
  },
  {
   "cell_type": "code",
   "execution_count": 32,
   "metadata": {},
   "outputs": [
    {
     "name": "stdout",
     "output_type": "stream",
     "text": [
      "<class 'pandas.core.frame.DataFrame'>\n",
      "Int64Index: 114967 entries, 0 to 48937\n",
      "Data columns (total 22 columns):\n",
      " #   Column             Non-Null Count   Dtype  \n",
      "---  ------             --------------   -----  \n",
      " 0   player_name        114967 non-null  object \n",
      " 1   pitch_type         114627 non-null  object \n",
      " 2   game_date          114967 non-null  object \n",
      " 3   release_speed      114372 non-null  float64\n",
      " 4   release_pos_x      114369 non-null  float64\n",
      " 5   release_pos_y      114369 non-null  float64\n",
      " 6   release_pos_z      114369 non-null  float64\n",
      " 7   release_spin_rate  113624 non-null  float64\n",
      " 8   release_extension  114290 non-null  float64\n",
      " 9   pfx_x              114369 non-null  float64\n",
      " 10  pfx_z              114369 non-null  float64\n",
      " 11  plate_x            114369 non-null  float64\n",
      " 12  plate_z            114369 non-null  float64\n",
      " 13  vx0                114369 non-null  float64\n",
      " 14  vy0                114369 non-null  float64\n",
      " 15  vz0                114369 non-null  float64\n",
      " 16  ax                 114369 non-null  float64\n",
      " 17  ay                 114369 non-null  float64\n",
      " 18  az                 114369 non-null  float64\n",
      " 19  effective_speed    114390 non-null  float64\n",
      " 20  pitch_name         114627 non-null  object \n",
      " 21  spin_axis          114304 non-null  float64\n",
      "dtypes: float64(18), object(4)\n",
      "memory usage: 20.2+ MB\n"
     ]
    }
   ],
   "source": [
    "cws_ft.info()"
   ]
  },
  {
   "cell_type": "code",
   "execution_count": 33,
   "metadata": {},
   "outputs": [],
   "source": [
    "# remove accents from letters\n",
    "\n",
    "cws_ft['player_name'] = cws_ft['player_name'].str.normalize('NFKD').str.encode('ascii', errors='ignore').str.decode('utf-8')"
   ]
  },
  {
   "cell_type": "code",
   "execution_count": 34,
   "metadata": {},
   "outputs": [],
   "source": [
    "# filter for starting pitchers\n",
    "\n",
    "st_pitchers = cws_ft['player_name'].isin(['Cease, Dylan', 'Giolito, Lucas', 'Lynn, Lance', 'Rodon, Carlos', 'Keuchel, Dallas'])\n",
    "cws_st_pitchers = cws_ft.loc[st_pitchers]"
   ]
  },
  {
   "cell_type": "code",
   "execution_count": 35,
   "metadata": {},
   "outputs": [
    {
     "data": {
      "text/plain": [
       "array(['Cease, Dylan', 'Giolito, Lucas', 'Keuchel, Dallas', 'Lynn, Lance',\n",
       "       'Rodon, Carlos'], dtype=object)"
      ]
     },
     "execution_count": 35,
     "metadata": {},
     "output_type": "execute_result"
    }
   ],
   "source": [
    "# confirm starting pitchers\n",
    "\n",
    "cws_st_pitchers['player_name'].unique()"
   ]
  },
  {
   "cell_type": "markdown",
   "metadata": {},
   "source": [
    "### Data Exploration"
   ]
  },
  {
   "cell_type": "code",
   "execution_count": 36,
   "metadata": {},
   "outputs": [
    {
     "name": "stdout",
     "output_type": "stream",
     "text": [
      "<class 'pandas.core.frame.DataFrame'>\n",
      "Int64Index: 22420 entries, 2410 to 48920\n",
      "Data columns (total 22 columns):\n",
      " #   Column             Non-Null Count  Dtype  \n",
      "---  ------             --------------  -----  \n",
      " 0   player_name        22420 non-null  object \n",
      " 1   pitch_type         22315 non-null  object \n",
      " 2   game_date          22420 non-null  object \n",
      " 3   release_speed      22315 non-null  float64\n",
      " 4   release_pos_x      22315 non-null  float64\n",
      " 5   release_pos_y      22315 non-null  float64\n",
      " 6   release_pos_z      22315 non-null  float64\n",
      " 7   release_spin_rate  22247 non-null  float64\n",
      " 8   release_extension  22293 non-null  float64\n",
      " 9   pfx_x              22315 non-null  float64\n",
      " 10  pfx_z              22315 non-null  float64\n",
      " 11  plate_x            22315 non-null  float64\n",
      " 12  plate_z            22315 non-null  float64\n",
      " 13  vx0                22315 non-null  float64\n",
      " 14  vy0                22315 non-null  float64\n",
      " 15  vz0                22315 non-null  float64\n",
      " 16  ax                 22315 non-null  float64\n",
      " 17  ay                 22315 non-null  float64\n",
      " 18  az                 22315 non-null  float64\n",
      " 19  effective_speed    22315 non-null  float64\n",
      " 20  pitch_name         22315 non-null  object \n",
      " 21  spin_axis          22293 non-null  float64\n",
      "dtypes: float64(18), object(4)\n",
      "memory usage: 3.9+ MB\n"
     ]
    }
   ],
   "source": [
    "# print dataset summary\n",
    "\n",
    "cws_st_pitchers.info()"
   ]
  },
  {
   "cell_type": "code",
   "execution_count": 37,
   "metadata": {},
   "outputs": [
    {
     "data": {
      "text/plain": [
       "player_name          0.000000\n",
       "pitch_type           0.004683\n",
       "game_date            0.000000\n",
       "release_speed        0.004683\n",
       "release_pos_x        0.004683\n",
       "release_pos_y        0.004683\n",
       "release_pos_z        0.004683\n",
       "release_spin_rate    0.007716\n",
       "release_extension    0.005665\n",
       "pfx_x                0.004683\n",
       "pfx_z                0.004683\n",
       "plate_x              0.004683\n",
       "plate_z              0.004683\n",
       "vx0                  0.004683\n",
       "vy0                  0.004683\n",
       "vz0                  0.004683\n",
       "ax                   0.004683\n",
       "ay                   0.004683\n",
       "az                   0.004683\n",
       "effective_speed      0.004683\n",
       "pitch_name           0.004683\n",
       "spin_axis            0.005665\n",
       "dtype: float64"
      ]
     },
     "execution_count": 37,
     "metadata": {},
     "output_type": "execute_result"
    }
   ],
   "source": [
    "# identify null percentages\n",
    "\n",
    "cws_st_pitchers.isnull().sum()/len(cws_st_pitchers)"
   ]
  },
  {
   "cell_type": "code",
   "execution_count": 38,
   "metadata": {},
   "outputs": [],
   "source": [
    "# drop all nulls - won't lose anything\n",
    "\n",
    "cws_st_pitchers = cws_st_pitchers.dropna()"
   ]
  },
  {
   "cell_type": "code",
   "execution_count": 39,
   "metadata": {},
   "outputs": [
    {
     "data": {
      "text/plain": [
       "player_name           object\n",
       "pitch_type            object\n",
       "game_date             object\n",
       "release_speed        float64\n",
       "release_pos_x        float64\n",
       "release_pos_y        float64\n",
       "release_pos_z        float64\n",
       "release_spin_rate    float64\n",
       "release_extension    float64\n",
       "pfx_x                float64\n",
       "pfx_z                float64\n",
       "plate_x              float64\n",
       "plate_z              float64\n",
       "vx0                  float64\n",
       "vy0                  float64\n",
       "vz0                  float64\n",
       "ax                   float64\n",
       "ay                   float64\n",
       "az                   float64\n",
       "effective_speed      float64\n",
       "pitch_name            object\n",
       "spin_axis            float64\n",
       "dtype: object"
      ]
     },
     "execution_count": 39,
     "metadata": {},
     "output_type": "execute_result"
    }
   ],
   "source": [
    "# confirm data types\n",
    "\n",
    "cws_st_pitchers.dtypes"
   ]
  },
  {
   "cell_type": "code",
   "execution_count": 40,
   "metadata": {},
   "outputs": [],
   "source": [
    "# convert game date to pd.datetime type\n",
    "\n",
    "cws_st_pitchers['game_date'] =  pd.to_datetime(cws_st_pitchers['game_date'])"
   ]
  },
  {
   "cell_type": "code",
   "execution_count": 41,
   "metadata": {},
   "outputs": [
    {
     "name": "stdout",
     "output_type": "stream",
     "text": [
      "['SL' 'FF' 'FT' 'CH' 'KC' 'CU' 'FC' 'SI']\n",
      "['Slider' '4-Seam Fastball' '2-Seam Fastball' 'Changeup' 'Knuckle Curve'\n",
      " 'Curveball' 'Cutter' 'Sinker']\n"
     ]
    }
   ],
   "source": [
    "# what does our target variable look like? \n",
    "\n",
    "print(cws_st_pitchers['pitch_type'].unique())\n",
    "print(cws_st_pitchers['pitch_name'].unique())"
   ]
  },
  {
   "cell_type": "code",
   "execution_count": 42,
   "metadata": {},
   "outputs": [],
   "source": [
    "from sklearn.model_selection import train_test_split\n",
    "\n",
    "# set feature and target arrays\n",
    "X, y = cws_st_pitchers.drop([\"pitch_type\", \"pitch_name\", \"game_date\", \"player_name\"], axis=1), cws_st_pitchers[\"pitch_type\"].values.flatten()\n",
    "\n",
    "# create train and test sets\n",
    "X_train, X_test, y_train, y_test = train_test_split(\n",
    "    X, y, random_state=13, test_size=0.3, stratify=y\n",
    ")"
   ]
  },
  {
   "cell_type": "code",
   "execution_count": 43,
   "metadata": {},
   "outputs": [],
   "source": [
    "# set up categorical and numerical pipelines\n",
    "# we don't have any categorical features but set up the pipeline nonetheless\n",
    "\n",
    "num_cols = X.select_dtypes(include='number').columns.to_list()\n",
    "cat_cols = X.select_dtypes(include='object').columns.to_list()\n",
    "\n",
    "num_transformer = Pipeline(steps=[\n",
    "    ('imputer', SimpleImputer(strategy='mean')),\n",
    "    ('scaler', StandardScaler())])\n",
    "\n",
    "cat_transformer = Pipeline(steps=[\n",
    "    ('imputer', SimpleImputer(strategy='constant', fill_value='missing')),\n",
    "    ('onehot', OneHotEncoder(handle_unknown='ignore'))])\n"
   ]
  },
  {
   "cell_type": "code",
   "execution_count": 44,
   "metadata": {},
   "outputs": [],
   "source": [
    "# set up preprocessing pipeline\n",
    "\n",
    "preprocessor = ColumnTransformer(\n",
    "    transformers=[\n",
    "        ('num', num_transformer, num_cols),\n",
    "        ('cat', cat_transformer, cat_cols)])"
   ]
  },
  {
   "cell_type": "code",
   "execution_count": 45,
   "metadata": {},
   "outputs": [],
   "source": [
    "# bring pipelines together for modeling\n",
    "\n",
    "dt_clf = Pipeline(steps=[('preprocessor', preprocessor),\n",
    "                         ('classifier', DecisionTreeClassifier())])"
   ]
  },
  {
   "cell_type": "code",
   "execution_count": 46,
   "metadata": {},
   "outputs": [],
   "source": [
    "# set hyperparameter grid for tuning\n",
    "\n",
    "criterion = ['gini', 'entropy']\n",
    "splitter = ['best', 'random']\n",
    "max_depth = [2, 4, 6 , 8, 10, 12]\n",
    "\n",
    "params = dict(classifier__criterion = criterion,\n",
    "              classifier__splitter = splitter,\n",
    "              classifier__max_depth = max_depth)"
   ]
  },
  {
   "cell_type": "code",
   "execution_count": 47,
   "metadata": {},
   "outputs": [
    {
     "data": {
      "text/plain": [
       "GridSearchCV(estimator=Pipeline(steps=[('preprocessor',\n",
       "                                        ColumnTransformer(transformers=[('num',\n",
       "                                                                         Pipeline(steps=[('imputer',\n",
       "                                                                                          SimpleImputer()),\n",
       "                                                                                         ('scaler',\n",
       "                                                                                          StandardScaler())]),\n",
       "                                                                         ['release_speed',\n",
       "                                                                          'release_pos_x',\n",
       "                                                                          'release_pos_y',\n",
       "                                                                          'release_pos_z',\n",
       "                                                                          'release_spin_rate',\n",
       "                                                                          'release_extension',\n",
       "                                                                          'pfx_x',\n",
       "                                                                          'pfx_z',\n",
       "                                                                          'plate_x',\n",
       "                                                                          'plate_z',\n",
       "                                                                          'vx0',\n",
       "                                                                          'vy0',\n",
       "                                                                          'vz0',\n",
       "                                                                          'ax',\n",
       "                                                                          'ay',\n",
       "                                                                          'az',\n",
       "                                                                          'effective_speed',\n",
       "                                                                          'spin_axis']),\n",
       "                                                                        ('cat',\n",
       "                                                                         Pipeline(steps=[('imputer',\n",
       "                                                                                          SimpleImputer(fill_value='missing',\n",
       "                                                                                                        strategy='constant')),\n",
       "                                                                                         ('onehot',\n",
       "                                                                                          OneHotEncoder(handle_unknown='ignore'))]),\n",
       "                                                                         [])])),\n",
       "                                       ('classifier',\n",
       "                                        DecisionTreeClassifier())]),\n",
       "             param_grid={'classifier__criterion': ['gini', 'entropy'],\n",
       "                         'classifier__max_depth': [2, 4, 6, 8, 10, 12],\n",
       "                         'classifier__splitter': ['best', 'random']})"
      ]
     },
     "execution_count": 47,
     "metadata": {},
     "output_type": "execute_result"
    }
   ],
   "source": [
    "# fit the model\n",
    "\n",
    "dt_clf_GS = GridSearchCV(dt_clf, params)\n",
    "\n",
    "dt_clf_GS.fit(X_train, y_train)"
   ]
  },
  {
   "cell_type": "code",
   "execution_count": 48,
   "metadata": {},
   "outputs": [
    {
     "data": {
      "image/png": "[encoded data removed]",
      "text/plain": [
       "<Figure size 864x576 with 2 Axes>"
      ]
     },
     "metadata": {
      "needs_background": "light"
     },
     "output_type": "display_data"
    }
   ],
   "source": [
    "y_pred = dt_clf_GS.best_estimator_.predict(X_test)\n",
    "\n",
    "# Plot the confusion matrix\n",
    "fig, ax = plt.subplots(figsize=(12, 8))\n",
    "\n",
    "# Create the matrix\n",
    "cm = confusion_matrix(y_test, y_pred)\n",
    "cmp = ConfusionMatrixDisplay(cm, display_labels=dt_clf_GS.best_estimator_.classes_)\n",
    "cmp.plot(ax=ax)\n",
    "\n",
    "plt.show()"
   ]
  },
  {
   "cell_type": "markdown",
   "metadata": {},
   "source": []
  },
  {
   "cell_type": "code",
   "execution_count": 49,
   "metadata": {},
   "outputs": [
    {
     "name": "stdout",
     "output_type": "stream",
     "text": [
      "              precision    recall  f1-score   support\n",
      "\n",
      "          CH       0.98      0.99      0.99      1254\n",
      "          CU       0.88      0.89      0.88       112\n",
      "          FC       0.97      0.99      0.98       547\n",
      "          FF       1.00      0.99      1.00      2742\n",
      "          FT       0.81      0.78      0.79        37\n",
      "          KC       0.99      0.98      0.98       242\n",
      "          SI       0.98      0.97      0.97       559\n",
      "          SL       0.99      0.98      0.98      1182\n",
      "\n",
      "    accuracy                           0.99      6675\n",
      "   macro avg       0.95      0.95      0.95      6675\n",
      "weighted avg       0.99      0.99      0.99      6675\n",
      "\n"
     ]
    }
   ],
   "source": [
    "print(classification_report(y_test, y_pred, target_names=dt_clf_GS.best_estimator_.classes_))"
   ]
  },
  {
   "cell_type": "code",
   "execution_count": 50,
   "metadata": {},
   "outputs": [
    {
     "data": {
      "text/plain": [
       "0.991736112001955"
      ]
     },
     "execution_count": 50,
     "metadata": {},
     "output_type": "execute_result"
    }
   ],
   "source": [
    "# Generate scores with .predict_proba\n",
    "y_pred_probs = dt_clf_GS.best_estimator_.predict_proba(X_test)\n",
    "\n",
    "# Calculate ROC_AUC\n",
    "roc_auc_score(\n",
    "    y_test, y_pred_probs, multi_class=\"ovr\", average=\"weighted\"\n",
    "  )"
   ]
  },
  {
   "cell_type": "code",
   "execution_count": 51,
   "metadata": {},
   "outputs": [
    {
     "data": {
      "image/png": "[encoded data removed]",
      "text/plain": [
       "<Figure size 864x720 with 1 Axes>"
      ]
     },
     "metadata": {
      "needs_background": "light"
     },
     "output_type": "display_data"
    }
   ],
   "source": [
    "features = X.columns.to_list()\n",
    "importances = dt_clf_GS.best_estimator_._final_estimator.feature_importances_\n",
    "indices = np.argsort(importances)\n",
    "\n",
    "plt.figure(figsize=(12,10))\n",
    "plt.title('Pitch Classification Feature Importance')\n",
    "plt.barh(range(len(indices)), importances[indices], color='b', align='center')\n",
    "plt.yticks(range(len(indices)), [features[i] for i in indices])\n",
    "plt.xlabel('Relative Importance')\n",
    "plt.show()\n"
   ]
  },
  {
   "cell_type": "code",
   "execution_count": 52,
   "metadata": {},
   "outputs": [
    {
     "data": {
      "image/png": "[encoded data removed]",
      "text/plain": [
       "<Figure size 576x626.4 with 1 Axes>"
      ]
     },
     "metadata": {
      "needs_background": "light"
     },
     "output_type": "display_data"
    }
   ],
   "source": [
    "import shap\n",
    "shap_values = shap.TreeExplainer(dt_clf_GS.best_estimator_._final_estimator).shap_values(X_train)\n",
    "shap.summary_plot(shap_values, X_train, plot_type=\"bar\")"
   ]
  },
  {
   "cell_type": "code",
   "execution_count": null,
   "metadata": {},
   "outputs": [],
   "source": []
  }
 ],
 "metadata": {
  "interpreter": {
   "hash": "7743e88522c0656e3c4d76210be5b89a02458a7273f3872c633d8ddda606ff01"
  },
  "kernelspec": {
   "display_name": "Python 3.8.5 64-bit ('base': conda)",
   "name": "python3"
  },
  "language_info": {
   "codemirror_mode": {
    "name": "ipython",
    "version": 3
   },
   "file_extension": ".py",
   "mimetype": "text/x-python",
   "name": "python",
   "nbconvert_exporter": "python",
   "pygments_lexer": "ipython3",
   "version": "3.8.5"
  },
  "orig_nbformat": 4
 },
 "nbformat": 4,
 "nbformat_minor": 2
}
