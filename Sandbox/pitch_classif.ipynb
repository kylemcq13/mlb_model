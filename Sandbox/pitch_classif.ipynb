{
 "cells": [
  {
   "cell_type": "code",
   "execution_count": 74,
   "metadata": {},
   "outputs": [],
   "source": [
    "import pandas as pd\n",
    "import numpy as np\n",
    "from configparser import ConfigParser\n",
    "from sqlalchemy import create_engine\n",
    "import matplotlib.pyplot as plt\n",
    "import unidecode\n",
    "from sklearn.model_selection import GridSearchCV\n",
    "from sklearn.pipeline import Pipeline\n",
    "from sklearn.preprocessing import StandardScaler\n",
    "from sklearn.tree import DecisionTreeClassifier\n",
    "from sklearn.metrics import ConfusionMatrixDisplay, confusion_matrix, classification_report"
   ]
  },
  {
   "cell_type": "code",
   "execution_count": 75,
   "metadata": {},
   "outputs": [],
   "source": [
    "# establish sql engine connection\n",
    "parser = ConfigParser()\n",
    "parser.read('nb.ini')\n",
    "conn_string = parser.get('my_db', 'conn_string')\n",
    "engine = create_engine(conn_string)"
   ]
  },
  {
   "cell_type": "code",
   "execution_count": 76,
   "metadata": {},
   "outputs": [],
   "source": [
    "# fetch statcast data from postgresql database\n",
    "\n",
    "sql1 = '''\n",
    "    SELECT *\n",
    "    FROM statcast_2019\n",
    "'''\n",
    "\n",
    "sc_19 = pd.read_sql_query(sql1, engine)\n",
    "\n",
    "sql2 = '''\n",
    "    SELECT *\n",
    "    FROM statcast_2020\n",
    "'''\n",
    "\n",
    "sc_20 = pd.read_sql_query(sql2, engine)\n",
    "\n",
    "sql3 = '''\n",
    "    SELECT *\n",
    "    FROM statcast_2021\n",
    "'''\n",
    "\n",
    "sc_21 = pd.read_sql_query(sql3, engine)"
   ]
  },
  {
   "cell_type": "code",
   "execution_count": 77,
   "metadata": {},
   "outputs": [
    {
     "name": "stdout",
     "output_type": "stream",
     "text": [
      "(1732051, 17)\n"
     ]
    }
   ],
   "source": [
    "# set relevant columns, concatenate 2019 through 2021 data\n",
    "\n",
    "cols = ['player_name', 'pitch_type', 'game_date', 'release_speed', 'release_pos_x', \n",
    "         'release_pos_y', 'release_pos_z', 'release_spin_rate', 'pfx_x', 'pfx_z', 'plate_z',\n",
    "         'vy0', 'ax', 'az', 'effective_speed', 'pitch_name', 'spin_axis']\n",
    "\n",
    "sc_19_ft = sc_19[cols]\n",
    "sc_20_ft = sc_20[cols]\n",
    "sc_21_ft = sc_21[cols]\n",
    "\n",
    "sc_ft = pd.concat([sc_19_ft, sc_20_ft, sc_21_ft])\n",
    "\n",
    "print(sc_ft.shape)"
   ]
  },
  {
   "cell_type": "code",
   "execution_count": 78,
   "metadata": {},
   "outputs": [
    {
     "data": {
      "text/html": [
       "<div>\n",
       "<style scoped>\n",
       "    .dataframe tbody tr th:only-of-type {\n",
       "        vertical-align: middle;\n",
       "    }\n",
       "\n",
       "    .dataframe tbody tr th {\n",
       "        vertical-align: top;\n",
       "    }\n",
       "\n",
       "    .dataframe thead th {\n",
       "        text-align: right;\n",
       "    }\n",
       "</style>\n",
       "<table border=\"1\" class=\"dataframe\">\n",
       "  <thead>\n",
       "    <tr style=\"text-align: right;\">\n",
       "      <th></th>\n",
       "      <th>player_name</th>\n",
       "      <th>pitch_type</th>\n",
       "      <th>game_date</th>\n",
       "      <th>release_speed</th>\n",
       "      <th>release_pos_x</th>\n",
       "      <th>release_pos_y</th>\n",
       "      <th>release_pos_z</th>\n",
       "      <th>release_spin_rate</th>\n",
       "      <th>pfx_x</th>\n",
       "      <th>pfx_z</th>\n",
       "      <th>plate_z</th>\n",
       "      <th>vy0</th>\n",
       "      <th>ax</th>\n",
       "      <th>az</th>\n",
       "      <th>effective_speed</th>\n",
       "      <th>pitch_name</th>\n",
       "      <th>spin_axis</th>\n",
       "    </tr>\n",
       "  </thead>\n",
       "  <tbody>\n",
       "    <tr>\n",
       "      <th>0</th>\n",
       "      <td>Hudson, Daniel</td>\n",
       "      <td>SL</td>\n",
       "      <td>2019-10-30</td>\n",
       "      <td>87.9</td>\n",
       "      <td>-2.65</td>\n",
       "      <td>54.42</td>\n",
       "      <td>5.50</td>\n",
       "      <td>2461.0</td>\n",
       "      <td>0.02</td>\n",
       "      <td>0.21</td>\n",
       "      <td>1.03</td>\n",
       "      <td>-127.797998</td>\n",
       "      <td>-1.384471</td>\n",
       "      <td>-29.091156</td>\n",
       "      <td>87.8</td>\n",
       "      <td>Slider</td>\n",
       "      <td>175.0</td>\n",
       "    </tr>\n",
       "    <tr>\n",
       "      <th>1</th>\n",
       "      <td>Hudson, Daniel</td>\n",
       "      <td>FF</td>\n",
       "      <td>2019-10-30</td>\n",
       "      <td>95.9</td>\n",
       "      <td>-2.77</td>\n",
       "      <td>54.83</td>\n",
       "      <td>5.52</td>\n",
       "      <td>2572.0</td>\n",
       "      <td>-0.57</td>\n",
       "      <td>1.52</td>\n",
       "      <td>1.92</td>\n",
       "      <td>-139.212420</td>\n",
       "      <td>-8.940442</td>\n",
       "      <td>-11.563514</td>\n",
       "      <td>94.4</td>\n",
       "      <td>4-Seam Fastball</td>\n",
       "      <td>201.0</td>\n",
       "    </tr>\n",
       "    <tr>\n",
       "      <th>2</th>\n",
       "      <td>Hudson, Daniel</td>\n",
       "      <td>FF</td>\n",
       "      <td>2019-10-30</td>\n",
       "      <td>96.5</td>\n",
       "      <td>-2.68</td>\n",
       "      <td>54.55</td>\n",
       "      <td>5.42</td>\n",
       "      <td>2637.0</td>\n",
       "      <td>-0.66</td>\n",
       "      <td>1.40</td>\n",
       "      <td>1.35</td>\n",
       "      <td>-139.703293</td>\n",
       "      <td>-11.485524</td>\n",
       "      <td>-12.442450</td>\n",
       "      <td>95.3</td>\n",
       "      <td>4-Seam Fastball</td>\n",
       "      <td>205.0</td>\n",
       "    </tr>\n",
       "    <tr>\n",
       "      <th>3</th>\n",
       "      <td>Hudson, Daniel</td>\n",
       "      <td>FF</td>\n",
       "      <td>2019-10-30</td>\n",
       "      <td>96.0</td>\n",
       "      <td>-2.65</td>\n",
       "      <td>54.60</td>\n",
       "      <td>5.55</td>\n",
       "      <td>2598.0</td>\n",
       "      <td>-0.81</td>\n",
       "      <td>1.50</td>\n",
       "      <td>2.05</td>\n",
       "      <td>-139.133193</td>\n",
       "      <td>-12.790017</td>\n",
       "      <td>-11.667275</td>\n",
       "      <td>94.9</td>\n",
       "      <td>4-Seam Fastball</td>\n",
       "      <td>208.0</td>\n",
       "    </tr>\n",
       "    <tr>\n",
       "      <th>4</th>\n",
       "      <td>Hudson, Daniel</td>\n",
       "      <td>SL</td>\n",
       "      <td>2019-10-30</td>\n",
       "      <td>86.7</td>\n",
       "      <td>-2.73</td>\n",
       "      <td>54.28</td>\n",
       "      <td>5.59</td>\n",
       "      <td>2598.0</td>\n",
       "      <td>-0.05</td>\n",
       "      <td>0.47</td>\n",
       "      <td>2.17</td>\n",
       "      <td>-126.044028</td>\n",
       "      <td>-2.223969</td>\n",
       "      <td>-26.826688</td>\n",
       "      <td>87.0</td>\n",
       "      <td>Slider</td>\n",
       "      <td>186.0</td>\n",
       "    </tr>\n",
       "  </tbody>\n",
       "</table>\n",
       "</div>"
      ],
      "text/plain": [
       "      player_name pitch_type   game_date  release_speed  release_pos_x  \\\n",
       "0  Hudson, Daniel         SL  2019-10-30           87.9          -2.65   \n",
       "1  Hudson, Daniel         FF  2019-10-30           95.9          -2.77   \n",
       "2  Hudson, Daniel         FF  2019-10-30           96.5          -2.68   \n",
       "3  Hudson, Daniel         FF  2019-10-30           96.0          -2.65   \n",
       "4  Hudson, Daniel         SL  2019-10-30           86.7          -2.73   \n",
       "\n",
       "   release_pos_y  release_pos_z  release_spin_rate  pfx_x  pfx_z  plate_z  \\\n",
       "0          54.42           5.50             2461.0   0.02   0.21     1.03   \n",
       "1          54.83           5.52             2572.0  -0.57   1.52     1.92   \n",
       "2          54.55           5.42             2637.0  -0.66   1.40     1.35   \n",
       "3          54.60           5.55             2598.0  -0.81   1.50     2.05   \n",
       "4          54.28           5.59             2598.0  -0.05   0.47     2.17   \n",
       "\n",
       "          vy0         ax         az  effective_speed       pitch_name  \\\n",
       "0 -127.797998  -1.384471 -29.091156             87.8           Slider   \n",
       "1 -139.212420  -8.940442 -11.563514             94.4  4-Seam Fastball   \n",
       "2 -139.703293 -11.485524 -12.442450             95.3  4-Seam Fastball   \n",
       "3 -139.133193 -12.790017 -11.667275             94.9  4-Seam Fastball   \n",
       "4 -126.044028  -2.223969 -26.826688             87.0           Slider   \n",
       "\n",
       "   spin_axis  \n",
       "0      175.0  \n",
       "1      201.0  \n",
       "2      205.0  \n",
       "3      208.0  \n",
       "4      186.0  "
      ]
     },
     "execution_count": 78,
     "metadata": {},
     "output_type": "execute_result"
    }
   ],
   "source": [
    "sc_ft.head()"
   ]
  },
  {
   "cell_type": "code",
   "execution_count": 79,
   "metadata": {},
   "outputs": [],
   "source": [
    "# remove accents from names for standardization\n",
    "\n",
    "sc_ft['player_name'] = sc_ft['player_name'].str.normalize('NFKD').str.encode('ascii', errors='ignore').str.decode('utf-8')"
   ]
  },
  {
   "cell_type": "code",
   "execution_count": 80,
   "metadata": {},
   "outputs": [
    {
     "data": {
      "text/plain": [
       "1255"
      ]
     },
     "execution_count": 80,
     "metadata": {},
     "output_type": "execute_result"
    }
   ],
   "source": [
    "# how many unique pitchers in the dataset\n",
    "\n",
    "sc_ft['player_name'].nunique()"
   ]
  },
  {
   "cell_type": "markdown",
   "metadata": {},
   "source": [
    "### Data Exploration"
   ]
  },
  {
   "cell_type": "code",
   "execution_count": 81,
   "metadata": {},
   "outputs": [
    {
     "data": {
      "text/plain": [
       "player_name          0.000000\n",
       "pitch_type           0.003313\n",
       "game_date            0.000000\n",
       "release_speed        0.004220\n",
       "release_pos_x        0.004334\n",
       "release_pos_y        0.004334\n",
       "release_pos_z        0.004334\n",
       "release_spin_rate    0.013228\n",
       "pfx_x                0.004212\n",
       "pfx_z                0.004212\n",
       "plate_z              0.004212\n",
       "vy0                  0.004212\n",
       "ax                   0.004212\n",
       "az                   0.004212\n",
       "effective_speed      0.002938\n",
       "pitch_name           0.003313\n",
       "spin_axis            0.005926\n",
       "dtype: float64"
      ]
     },
     "execution_count": 81,
     "metadata": {},
     "output_type": "execute_result"
    }
   ],
   "source": [
    "# identify null percentages\n",
    "\n",
    "sc_ft.isnull().sum()/len(sc_ft)"
   ]
  },
  {
   "cell_type": "code",
   "execution_count": 82,
   "metadata": {},
   "outputs": [],
   "source": [
    "# drop all nulls - won't lose anything\n",
    "\n",
    "sc_ft = sc_ft.dropna()"
   ]
  },
  {
   "cell_type": "code",
   "execution_count": 83,
   "metadata": {},
   "outputs": [
    {
     "data": {
      "text/plain": [
       "player_name           object\n",
       "pitch_type            object\n",
       "game_date             object\n",
       "release_speed        float64\n",
       "release_pos_x        float64\n",
       "release_pos_y        float64\n",
       "release_pos_z        float64\n",
       "release_spin_rate    float64\n",
       "pfx_x                float64\n",
       "pfx_z                float64\n",
       "plate_z              float64\n",
       "vy0                  float64\n",
       "ax                   float64\n",
       "az                   float64\n",
       "effective_speed      float64\n",
       "pitch_name            object\n",
       "spin_axis            float64\n",
       "dtype: object"
      ]
     },
     "execution_count": 83,
     "metadata": {},
     "output_type": "execute_result"
    }
   ],
   "source": [
    "# confirm data types\n",
    "\n",
    "sc_ft.dtypes"
   ]
  },
  {
   "cell_type": "code",
   "execution_count": 84,
   "metadata": {},
   "outputs": [],
   "source": [
    "# convert game date to pd.datetime type\n",
    "\n",
    "sc_ft['game_date'] =  pd.to_datetime(sc_ft['game_date'])"
   ]
  },
  {
   "cell_type": "code",
   "execution_count": 85,
   "metadata": {},
   "outputs": [
    {
     "name": "stdout",
     "output_type": "stream",
     "text": [
      "['SL' 'FF' 'CH' 'CU' 'SI' 'FT' 'FC' 'EP' 'KC' 'FS' 'CS' 'FA' 'FO' 'KN'\n",
      " 'SC']\n",
      "['Slider' '4-Seam Fastball' 'Changeup' 'Curveball' 'Sinker'\n",
      " '2-Seam Fastball' 'Cutter' 'Eephus' 'Knuckle Curve' 'Split-Finger'\n",
      " 'Fastball' 'Forkball' 'Knuckleball' 'Screwball']\n"
     ]
    }
   ],
   "source": [
    "# what does our target variable look like? \n",
    "\n",
    "print(sc_ft['pitch_type'].unique())\n",
    "print(sc_ft['pitch_name'].unique())"
   ]
  },
  {
   "cell_type": "code",
   "execution_count": 86,
   "metadata": {},
   "outputs": [
    {
     "data": {
      "text/plain": [
       "FF    610981\n",
       "SL    306573\n",
       "SI    213260\n",
       "CH    192314\n",
       "CU    149071\n",
       "FC    113027\n",
       "FT     59176\n",
       "KC     36536\n",
       "FS     26078\n",
       "FA      1217\n",
       "CS       616\n",
       "EP       123\n",
       "KN       106\n",
       "FO        35\n",
       "SC         1\n",
       "Name: pitch_type, dtype: int64"
      ]
     },
     "execution_count": 86,
     "metadata": {},
     "output_type": "execute_result"
    }
   ],
   "source": [
    "sc_ft['pitch_type'].value_counts()"
   ]
  },
  {
   "cell_type": "markdown",
   "metadata": {},
   "source": [
    "Cleanup:\n",
    "\n",
    "FA is a generic fastball category that statcast uses as a catch all category and instances can be dropped from the training set. CS is an unknown category, EP is an 'ephus' pitch which isn't important to the model. KN, and SC pitch types can be dropped. Since FT has been dropped from Statcast pitch types in 2021, we will not use it to train our model, it will be dropped.\n",
    "\n",
    "CH and FO represent change ups and forkballs, respectively. These two pitches have very similar action and can be lumped into the same category. "
   ]
  },
  {
   "cell_type": "code",
   "execution_count": 87,
   "metadata": {},
   "outputs": [],
   "source": [
    "# drop instances with FA, CS, EP, KN, and SC\n",
    "\n",
    "drop_list = ['FA', 'CS', 'EP', 'KN', 'SC', 'FT']\n",
    "\n",
    "sc_ft = sc_ft[sc_ft.pitch_type.isin(drop_list) == False]"
   ]
  },
  {
   "cell_type": "code",
   "execution_count": 88,
   "metadata": {},
   "outputs": [],
   "source": [
    "# Applying the condition - wrap into function\n",
    "sc_ft['pitch_type'].mask(sc_ft['pitch_type'] == 'FO', 'CH', inplace=True) \n",
    "sc_ft['pitch_type'].mask(sc_ft['pitch_type']== 'KC', 'CU', inplace=True)\n"
   ]
  },
  {
   "cell_type": "code",
   "execution_count": 89,
   "metadata": {},
   "outputs": [
    {
     "data": {
      "text/plain": [
       "FF    610981\n",
       "SL    306573\n",
       "SI    213260\n",
       "CH    192349\n",
       "CU    185607\n",
       "FC    113027\n",
       "FS     26078\n",
       "Name: pitch_type, dtype: int64"
      ]
     },
     "execution_count": 89,
     "metadata": {},
     "output_type": "execute_result"
    }
   ],
   "source": [
    "sc_ft['pitch_type'].value_counts()"
   ]
  },
  {
   "cell_type": "code",
   "execution_count": 90,
   "metadata": {},
   "outputs": [
    {
     "name": "stdout",
     "output_type": "stream",
     "text": [
      "(931760, 13)\n",
      "(716115, 13)\n",
      "(931760,)\n",
      "(716115,)\n"
     ]
    }
   ],
   "source": [
    "# split the data into train/test\n",
    "# statcast data from 2019 and 2020 seasons will be used for training\n",
    "# statcast data from 2021 will be used as our test set\n",
    "\n",
    "X_train = sc_ft.loc[sc_ft['game_date']<'2021-01-01'].drop([\"pitch_type\", \"pitch_name\", \"game_date\", \"player_name\"], axis=1)\n",
    "X_test = sc_ft.loc[sc_ft['game_date']>'2021-01-01'].drop([\"pitch_type\", \"pitch_name\", \"game_date\", \"player_name\"], axis=1)\n",
    "y_train = sc_ft.loc[sc_ft['game_date']<'2021-01-01']['pitch_type'].values.flatten()\n",
    "y_test = sc_ft.loc[sc_ft['game_date']>'2021-01-01']['pitch_type'].values.flatten()\n",
    "\n",
    "print(X_train.shape)\n",
    "print(X_test.shape)\n",
    "print(y_train.shape)\n",
    "print(y_test.shape)"
   ]
  },
  {
   "cell_type": "code",
   "execution_count": 91,
   "metadata": {},
   "outputs": [],
   "source": [
    "# create pipeline with standard scaler and classifier steps\n",
    "dt_clf = Pipeline(steps=[('scaler', StandardScaler()),\n",
    "                         ('classifier', DecisionTreeClassifier())])"
   ]
  },
  {
   "cell_type": "code",
   "execution_count": 92,
   "metadata": {},
   "outputs": [],
   "source": [
    "# set hyperparameter grid for tuning\n",
    "\n",
    "criterion = ['gini', 'entropy']\n",
    "splitter = ['best', 'random']\n",
    "max_depth = [2, 5, 8]\n",
    "\n",
    "params = dict(classifier__criterion = criterion,\n",
    "              classifier__splitter = splitter,\n",
    "              classifier__max_depth = max_depth)"
   ]
  },
  {
   "cell_type": "code",
   "execution_count": 93,
   "metadata": {},
   "outputs": [
    {
     "data": {
      "text/plain": [
       "GridSearchCV(estimator=Pipeline(steps=[('scaler', StandardScaler()),\n",
       "                                       ('classifier',\n",
       "                                        DecisionTreeClassifier())]),\n",
       "             param_grid={'classifier__criterion': ['gini', 'entropy'],\n",
       "                         'classifier__max_depth': [2, 5, 8],\n",
       "                         'classifier__splitter': ['best', 'random']})"
      ]
     },
     "execution_count": 93,
     "metadata": {},
     "output_type": "execute_result"
    }
   ],
   "source": [
    "# fit the model\n",
    "\n",
    "dt_clf_GS = GridSearchCV(dt_clf, params)\n",
    "\n",
    "dt_clf_GS.fit(X_train, y_train)"
   ]
  },
  {
   "cell_type": "code",
   "execution_count": 94,
   "metadata": {},
   "outputs": [
    {
     "data": {
      "image/png": "[encoded data removed]",
      "text/plain": [
       "<Figure size 864x576 with 2 Axes>"
      ]
     },
     "metadata": {
      "needs_background": "light"
     },
     "output_type": "display_data"
    }
   ],
   "source": [
    "y_pred = dt_clf_GS.best_estimator_.predict(X_test)\n",
    "\n",
    "# Plot the confusion matrix\n",
    "fig, ax = plt.subplots(figsize=(12, 8))\n",
    "\n",
    "# Create the matrix\n",
    "cm = confusion_matrix(y_test, y_pred)\n",
    "cmp = ConfusionMatrixDisplay(cm, display_labels=dt_clf_GS.best_estimator_.classes_)\n",
    "cmp.plot(ax=ax)\n",
    "\n",
    "plt.show()"
   ]
  },
  {
   "cell_type": "code",
   "execution_count": 95,
   "metadata": {},
   "outputs": [
    {
     "name": "stdout",
     "output_type": "stream",
     "text": [
      "              precision    recall  f1-score   support\n",
      "\n",
      "          CH       0.80      0.88      0.84     81179\n",
      "          CU       0.85      0.81      0.83     73821\n",
      "          FC       0.58      0.29      0.39     47758\n",
      "          FF       0.89      0.95      0.92    253497\n",
      "          FS       0.69      0.16      0.26     11028\n",
      "          SI       0.85      0.78      0.81    110478\n",
      "          SL       0.74      0.86      0.80    138354\n",
      "\n",
      "    accuracy                           0.83    716115\n",
      "   macro avg       0.77      0.67      0.69    716115\n",
      "weighted avg       0.82      0.83      0.81    716115\n",
      "\n"
     ]
    }
   ],
   "source": [
    "print(classification_report(y_test, y_pred, target_names=dt_clf_GS.best_estimator_.classes_))"
   ]
  },
  {
   "cell_type": "markdown",
   "metadata": {},
   "source": [
    "Overall, this catch all model performs fairly well all things considered. It particularly struggles with the cut fastball, which is to be expected given the similarity in movement in 3d space. It also struggles with the sinker/split finger (FS), mistaking it for a change up in most error cases. \n",
    "\n",
    "Perhaps, a better use case for a pitch classifier would be to parallelize model development per pitcher. This way, each model can learn from each player individually and provide more consistent and accurate results. For \"cold start\" situations, such as a rookie, all MLB pitchers could be clustered based on their individual statcast data and models be built based on each cold start cluster. This way, we can still predict pitch types even without any historical data. Although, I'm willing to bet the MLB has statcast data on players ascending through the minor leagues."
   ]
  },
  {
   "cell_type": "code",
   "execution_count": 96,
   "metadata": {},
   "outputs": [
    {
     "data": {
      "image/png": "[encoded data removed]",
      "text/plain": [
       "<Figure size 864x720 with 1 Axes>"
      ]
     },
     "metadata": {
      "needs_background": "light"
     },
     "output_type": "display_data"
    }
   ],
   "source": [
    "features = X_train.columns.to_list()\n",
    "importances = dt_clf_GS.best_estimator_._final_estimator.feature_importances_\n",
    "indices = np.argsort(importances)\n",
    "\n",
    "plt.figure(figsize=(12,10))\n",
    "plt.title('Pitch Classification Feature Importance')\n",
    "plt.barh(range(len(indices)), importances[indices], color='b', align='center')\n",
    "plt.yticks(range(len(indices)), [features[i] for i in indices])\n",
    "plt.xlabel('Relative Importance')\n",
    "plt.show()\n"
   ]
  },
  {
   "cell_type": "markdown",
   "metadata": {},
   "source": [
    "The model is behaving as I thought it would. It makes a lot of sense that the top 3 predictors are release speed, pfx_z and spin rate. Release speed and spin rate are self explanatory in their definitions, but pfx_z makes sense as this represents whether a pitch has front or backspin. Any fastball is going to have backspin whereas breaking pitches will have front spin. The model does well in differentiating between the two in predicting the pitch type. "
   ]
  },
  {
   "cell_type": "code",
   "execution_count": 97,
   "metadata": {},
   "outputs": [
    {
     "data": {
      "image/png": "[encoded data removed]",
      "text/plain": [
       "<Figure size 576x482.4 with 1 Axes>"
      ]
     },
     "metadata": {
      "needs_background": "light"
     },
     "output_type": "display_data"
    }
   ],
   "source": [
    "import shap\n",
    "shap_values = shap.TreeExplainer(dt_clf_GS.best_estimator_._final_estimator).shap_values(X_train)\n",
    "shap.summary_plot(shap_values, X_train, plot_type=\"bar\")"
   ]
  },
  {
   "cell_type": "code",
   "execution_count": null,
   "metadata": {},
   "outputs": [],
   "source": []
  }
 ],
 "metadata": {
  "interpreter": {
   "hash": "7743e88522c0656e3c4d76210be5b89a02458a7273f3872c633d8ddda606ff01"
  },
  "kernelspec": {
   "display_name": "Python 3.8.5 64-bit ('base': conda)",
   "name": "python3"
  },
  "language_info": {
   "codemirror_mode": {
    "name": "ipython",
    "version": 3
   },
   "file_extension": ".py",
   "mimetype": "text/x-python",
   "name": "python",
   "nbconvert_exporter": "python",
   "pygments_lexer": "ipython3",
   "version": "3.8.5"
  },
  "orig_nbformat": 4
 },
 "nbformat": 4,
 "nbformat_minor": 2
}
