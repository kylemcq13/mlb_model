{
 "cells": [
  {
   "cell_type": "markdown",
   "metadata": {},
   "source": [
    "# Ball in Play Model"
   ]
  },
  {
   "cell_type": "code",
   "execution_count": 1,
   "metadata": {},
   "outputs": [],
   "source": [
    "import pandas as pd\n",
    "import numpy as np\n",
    "from configparser import ConfigParser\n",
    "from sqlalchemy import create_engine\n",
    "import matplotlib.pyplot as plt\n",
    "from sklearn.mixture import GaussianMixture\n",
    "from sklearn.cluster import KMeans\n",
    "from sklearn.preprocessing import StandardScaler\n",
    "from sklearn.preprocessing import RobustScaler\n",
    "from sklearn.linear_model import LinearRegression\n",
    "from sklearn.tree import DecisionTreeRegressor\n",
    "from sklearn.ensemble import RandomForestRegressor\n",
    "import seaborn as sns\n",
    "from sklearn.pipeline import Pipeline\n",
    "from sklearn.model_selection import train_test_split, GridSearchCV\n",
    "from sklearn.compose import ColumnTransformer\n",
    "from sklearn.cluster import DBSCAN\n",
    "from sklearn.metrics import silhouette_score\n"
   ]
  },
  {
   "cell_type": "code",
   "execution_count": 2,
   "metadata": {},
   "outputs": [],
   "source": [
    "# establish sql engine connection\n",
    "parser = ConfigParser()\n",
    "parser.read('nb.ini')\n",
    "conn_string = parser.get('my_db', 'conn_string')\n",
    "engine = create_engine(conn_string)"
   ]
  },
  {
   "cell_type": "code",
   "execution_count": 28,
   "metadata": {},
   "outputs": [
    {
     "name": "stdout",
     "output_type": "stream",
     "text": [
      "Importing 2016 data\n",
      "Importing 2017 data\n",
      "Importing 2018 data\n",
      "Importing 2019 data\n",
      "Importing 2020 data\n",
      "Importing 2021 data\n"
     ]
    }
   ],
   "source": [
    "sql1 = '''\n",
    "        SELECT \"player_name\", \"home_team\", \"away_team\", \"inning_topbot\", \"p_throws\", \"pitch_type\", \"game_date\", \"events\", \"pitcher\", \n",
    "         \"batter\", \"description\", \"launch_speed\", \"launch_angle\", \"release_speed\", \"release_spin_rate\", \"pfx_x\", \"pfx_z\", \n",
    "         \"plate_x\", \"plate_z\", \"effective_speed\", \"pitch_name\", \"spin_axis\", \"delta_run_exp\", \"launch_speed_angle\", \"estimated_woba_using_speedangle\",\n",
    "        \"estimated_ba_using_speedangle\"\n",
    "        FROM statcast_2016\n",
    "    '''\n",
    "print('Importing 2016 data')\n",
    "sc_16 = pd.read_sql_query(sql1, engine)\n",
    "\n",
    "sql2 = '''\n",
    "        SELECT \"player_name\", \"home_team\", \"away_team\", \"inning_topbot\", \"p_throws\", \"pitch_type\", \"game_date\", \"events\", \"pitcher\", \n",
    "         \"batter\", \"description\", \"launch_speed\", \"launch_angle\", \"release_speed\", \"release_spin_rate\", \"pfx_x\", \"pfx_z\", \n",
    "         \"plate_x\", \"plate_z\", \"effective_speed\", \"pitch_name\", \"spin_axis\", \"delta_run_exp\", \"launch_speed_angle\", \"estimated_woba_using_speedangle\",\n",
    "         \"estimated_ba_using_speedangle\"\n",
    "        FROM statcast_2017\n",
    "    '''\n",
    "print('Importing 2017 data')\n",
    "sc_17 = pd.read_sql_query(sql2, engine)\n",
    "\n",
    "sql3 = '''\n",
    "        SELECT \"player_name\", \"home_team\", \"away_team\", \"inning_topbot\", \"p_throws\", \"pitch_type\", \"game_date\", \"events\", \"pitcher\", \n",
    "         \"batter\", \"description\", \"launch_speed\", \"launch_angle\", \"release_speed\", \"release_spin_rate\", \"pfx_x\", \"pfx_z\", \n",
    "         \"plate_x\", \"plate_z\", \"effective_speed\", \"pitch_name\", \"spin_axis\", \"delta_run_exp\", \"launch_speed_angle\", \"estimated_woba_using_speedangle\",\n",
    "         \"estimated_ba_using_speedangle\"\n",
    "        FROM statcast_2018\n",
    "    '''\n",
    "print('Importing 2018 data')\n",
    "sc_18 = pd.read_sql_query(sql3, engine)\n",
    "\n",
    "sql4 = '''\n",
    "        SELECT \"player_name\", \"home_team\", \"away_team\", \"inning_topbot\", \"p_throws\", \"pitch_type\", \"game_date\", \"events\", \"pitcher\", \n",
    "         \"batter\", \"description\", \"launch_speed\", \"launch_angle\", \"release_speed\", \"release_spin_rate\", \"pfx_x\", \"pfx_z\", \n",
    "         \"plate_x\", \"plate_z\", \"effective_speed\", \"pitch_name\", \"spin_axis\", \"delta_run_exp\", \"launch_speed_angle\", \"estimated_woba_using_speedangle\",\n",
    "         \"estimated_ba_using_speedangle\"\n",
    "        FROM statcast_2019\n",
    "    '''\n",
    "print('Importing 2019 data')\n",
    "sc_19 = pd.read_sql_query(sql4, engine)\n",
    "\n",
    "sql5 = '''\n",
    "        SELECT \"player_name\", \"home_team\", \"away_team\", \"inning_topbot\", \"p_throws\", \"pitch_type\", \"game_date\", \"events\", \"pitcher\", \n",
    "         \"batter\", \"description\", \"launch_speed\", \"launch_angle\", \"release_speed\", \"release_spin_rate\", \"pfx_x\", \"pfx_z\", \n",
    "         \"plate_x\", \"plate_z\", \"effective_speed\", \"pitch_name\", \"spin_axis\", \"delta_run_exp\", \"launch_speed_angle\", \"estimated_woba_using_speedangle\",\n",
    "         \"estimated_ba_using_speedangle\"\n",
    "        FROM statcast_2020\n",
    "    '''\n",
    "print('Importing 2020 data')\n",
    "sc_20 = pd.read_sql_query(sql5, engine)\n",
    "\n",
    "sql6 = '''\n",
    "        SELECT \"player_name\", \"home_team\", \"away_team\", \"inning_topbot\", \"p_throws\", \"pitch_type\", \"game_date\", \"events\", \"pitcher\", \n",
    "         \"batter\", \"description\", \"launch_speed\", \"launch_angle\", \"release_speed\", \"release_spin_rate\", \"pfx_x\", \"pfx_z\", \n",
    "         \"plate_x\", \"plate_z\", \"effective_speed\", \"pitch_name\", \"spin_axis\", \"delta_run_exp\", \"launch_speed_angle\", \"estimated_woba_using_speedangle\",\n",
    "         \"estimated_ba_using_speedangle\"\n",
    "        FROM statcast_2021\n",
    "    '''\n",
    "print('Importing 2021 data')\n",
    "sc_21 = pd.read_sql_query(sql6, engine)\n",
    "\n",
    "statcast = pd.concat([sc_16, sc_17, sc_18, sc_19, sc_20, sc_21])"
   ]
  },
  {
   "cell_type": "code",
   "execution_count": 3,
   "metadata": {},
   "outputs": [
    {
     "name": "stdout",
     "output_type": "stream",
     "text": [
      "Importing dataset\n"
     ]
    }
   ],
   "source": [
    "sql1 = '''\n",
    "    select * from clustering \n",
    "    where \"description\" = 'hit_into_play' AND \"game_date\" < '2020-12-31' AND random()<0.05\n",
    "'''\n",
    "print('Importing dataset')\n",
    "training = pd.read_sql_query(sql1, engine)"
   ]
  },
  {
   "cell_type": "code",
   "execution_count": 4,
   "metadata": {},
   "outputs": [
    {
     "data": {
      "image/png": "[encoded data removed]",
      "text/plain": [
       "<Figure size 720x576 with 1 Axes>"
      ]
     },
     "metadata": {
      "needs_background": "light"
     },
     "output_type": "display_data"
    }
   ],
   "source": [
    "plt.figure(figsize=(10,8))\n",
    "sns.histplot(data=training, x=\"delta_run_exp\")\n",
    "plt.title('Statcast Delta Run Exp Distribution')\n",
    "plt.show()"
   ]
  },
  {
   "cell_type": "code",
   "execution_count": 29,
   "metadata": {},
   "outputs": [
    {
     "data": {
      "text/plain": [
       "(34167, 11)"
      ]
     },
     "execution_count": 29,
     "metadata": {},
     "output_type": "execute_result"
    }
   ],
   "source": [
    "training = statcast[[\"game_date\", \"player_name\", \"pitcher\", \n",
    "                     \"batter\", \"description\", \"launch_speed\", \"launch_angle\", \n",
    "                     \"launch_speed_angle\", \"estimated_woba_using_speedangle\",\n",
    "                     \"estimated_ba_using_speedangle\", \"delta_run_exp\" \n",
    "                     ]].sample(frac=0.05)\n",
    "\n",
    "training = training.loc[training['description']=='hit_into_play']\n",
    "\n",
    "training.shape"
   ]
  },
  {
   "cell_type": "code",
   "execution_count": 12,
   "metadata": {},
   "outputs": [
    {
     "data": {
      "text/plain": [
       "Index(['game_date', 'player_name', 'pitcher', 'batter', 'description',\n",
       "       'launch_speed', 'launch_angle', 'launch_speed_angle',\n",
       "       'estimated_woba_using_speedangle', 'estimated_ba_using_speedangle',\n",
       "       'delta_run_exp'],\n",
       "      dtype='object')"
      ]
     },
     "execution_count": 12,
     "metadata": {},
     "output_type": "execute_result"
    }
   ],
   "source": [
    "training.columns"
   ]
  },
  {
   "cell_type": "markdown",
   "metadata": {},
   "source": [
    "## Non Ball in Play Outcomes"
   ]
  },
  {
   "cell_type": "code",
   "execution_count": 14,
   "metadata": {},
   "outputs": [
    {
     "name": "stdout",
     "output_type": "stream",
     "text": [
      "Importing non ball in play dataset\n"
     ]
    }
   ],
   "source": [
    "sql2 = '''\n",
    "    SELECT \"game_date\",\"player_name\", \"pitcher\", \"pitcher_team\", \"batter\", \"description\", \"launch_speed\", \"launch_angle\", \"delta_run_exp\", \"cluster_name\"\n",
    "    FROM clustering\n",
    "    WHERE \"description\"!='hit_into_play'\n",
    "'''\n",
    "print('Importing non ball in play dataset')\n",
    "non_bip = pd.read_sql_query(sql2, engine)"
   ]
  },
  {
   "cell_type": "code",
   "execution_count": 15,
   "metadata": {},
   "outputs": [
    {
     "data": {
      "text/plain": [
       "(305548, 10)"
      ]
     },
     "execution_count": 15,
     "metadata": {},
     "output_type": "execute_result"
    }
   ],
   "source": [
    "non_bip.shape"
   ]
  },
  {
   "cell_type": "code",
   "execution_count": 16,
   "metadata": {},
   "outputs": [],
   "source": [
    "non_bip['e_delta_re'] = non_bip.groupby('description')['delta_run_exp'].transform('mean')"
   ]
  },
  {
   "cell_type": "markdown",
   "metadata": {},
   "source": [
    "## Ball in Play Outcomes"
   ]
  },
  {
   "cell_type": "code",
   "execution_count": 17,
   "metadata": {},
   "outputs": [
    {
     "name": "stdout",
     "output_type": "stream",
     "text": [
      "Importing non ball in play dataset\n"
     ]
    }
   ],
   "source": [
    "sql3 = '''\n",
    "    SELECT \"game_date\", \"player_name\", \"pitcher\", \"pitcher_team\", \"batter\", \"description\", \"launch_speed\", \"launch_angle\", \"delta_run_exp\", \"cluster_name\"\n",
    "    FROM clustering\n",
    "    WHERE \"description\"='hit_into_play' AND \"game_date\" > '2020-12-31'\n",
    "'''\n",
    "print('Importing ball in play dataset')\n",
    "bip = pd.read_sql_query(sql3, engine)"
   ]
  },
  {
   "cell_type": "code",
   "execution_count": 18,
   "metadata": {},
   "outputs": [
    {
     "data": {
      "image/png": "[encoded data removed]",
      "text/plain": [
       "<Figure size 720x576 with 1 Axes>"
      ]
     },
     "metadata": {
      "needs_background": "light"
     },
     "output_type": "display_data"
    }
   ],
   "source": [
    "plt.figure(figsize=(10,8))\n",
    "sns.histplot(data=bip, x=\"delta_run_exp\")\n",
    "plt.title('Statcast Delta Run Exp Distribution')\n",
    "plt.show()"
   ]
  },
  {
   "cell_type": "code",
   "execution_count": 19,
   "metadata": {},
   "outputs": [
    {
     "data": {
      "image/png": "[encoded data removed]",
      "text/plain": [
       "<Figure size 720x576 with 1 Axes>"
      ]
     },
     "metadata": {
      "needs_background": "light"
     },
     "output_type": "display_data"
    }
   ],
   "source": [
    "plt.figure(figsize=(10,8))\n",
    "sns.histplot(data=training, x=\"delta_run_exp\")\n",
    "plt.title('Training Set Delta Run Exp Distribution')\n",
    "plt.show()"
   ]
  },
  {
   "cell_type": "code",
   "execution_count": 13,
   "metadata": {},
   "outputs": [
    {
     "data": {
      "text/plain": [
       "array([ 3.,  4.,  2.,  5., nan,  1.,  6.])"
      ]
     },
     "execution_count": 13,
     "metadata": {},
     "output_type": "execute_result"
    }
   ],
   "source": [
    "training['launch_speed_angle'].unique()"
   ]
  },
  {
   "cell_type": "code",
   "execution_count": 30,
   "metadata": {},
   "outputs": [],
   "source": [
    "training['launch_speed_angle'] = training['launch_speed_angle'].fillna(0)"
   ]
  },
  {
   "cell_type": "code",
   "execution_count": 31,
   "metadata": {},
   "outputs": [],
   "source": [
    "training['estimated_woba_using_speedangle'] = training['estimated_woba_using_speedangle'].fillna(0)\n",
    "training['estimated_ba_using_speedangle'] = training['estimated_ba_using_speedangle'].fillna(0)"
   ]
  },
  {
   "cell_type": "code",
   "execution_count": 32,
   "metadata": {},
   "outputs": [],
   "source": [
    "training['launch_speed'] = training['launch_speed'].fillna(0)\n",
    "training['launch_angle'] = training['launch_angle'].fillna(0)"
   ]
  },
  {
   "cell_type": "code",
   "execution_count": 33,
   "metadata": {},
   "outputs": [],
   "source": [
    "training = pd.get_dummies(training, columns=['launch_speed_angle'])"
   ]
  },
  {
   "cell_type": "code",
   "execution_count": 34,
   "metadata": {},
   "outputs": [
    {
     "data": {
      "text/html": [
       "<div>\n",
       "<style scoped>\n",
       "    .dataframe tbody tr th:only-of-type {\n",
       "        vertical-align: middle;\n",
       "    }\n",
       "\n",
       "    .dataframe tbody tr th {\n",
       "        vertical-align: top;\n",
       "    }\n",
       "\n",
       "    .dataframe thead th {\n",
       "        text-align: right;\n",
       "    }\n",
       "</style>\n",
       "<table border=\"1\" class=\"dataframe\">\n",
       "  <thead>\n",
       "    <tr style=\"text-align: right;\">\n",
       "      <th></th>\n",
       "      <th>game_date</th>\n",
       "      <th>player_name</th>\n",
       "      <th>pitcher</th>\n",
       "      <th>batter</th>\n",
       "      <th>description</th>\n",
       "      <th>launch_speed</th>\n",
       "      <th>launch_angle</th>\n",
       "      <th>estimated_woba_using_speedangle</th>\n",
       "      <th>estimated_ba_using_speedangle</th>\n",
       "      <th>delta_run_exp</th>\n",
       "      <th>launch_speed_angle_0.0</th>\n",
       "      <th>launch_speed_angle_1.0</th>\n",
       "      <th>launch_speed_angle_2.0</th>\n",
       "      <th>launch_speed_angle_3.0</th>\n",
       "      <th>launch_speed_angle_4.0</th>\n",
       "      <th>launch_speed_angle_5.0</th>\n",
       "      <th>launch_speed_angle_6.0</th>\n",
       "    </tr>\n",
       "  </thead>\n",
       "  <tbody>\n",
       "    <tr>\n",
       "      <th>148850</th>\n",
       "      <td>2019-08-27</td>\n",
       "      <td>Leake, Mike</td>\n",
       "      <td>502190</td>\n",
       "      <td>519390</td>\n",
       "      <td>hit_into_play</td>\n",
       "      <td>95.4</td>\n",
       "      <td>-3.0</td>\n",
       "      <td>0.246</td>\n",
       "      <td>0.273</td>\n",
       "      <td>0.987</td>\n",
       "      <td>0</td>\n",
       "      <td>0</td>\n",
       "      <td>1</td>\n",
       "      <td>0</td>\n",
       "      <td>0</td>\n",
       "      <td>0</td>\n",
       "      <td>0</td>\n",
       "    </tr>\n",
       "    <tr>\n",
       "      <th>535537</th>\n",
       "      <td>2019-05-20</td>\n",
       "      <td>Weaver, Luke</td>\n",
       "      <td>596133</td>\n",
       "      <td>571976</td>\n",
       "      <td>hit_into_play</td>\n",
       "      <td>63.9</td>\n",
       "      <td>75.0</td>\n",
       "      <td>0.000</td>\n",
       "      <td>0.000</td>\n",
       "      <td>-0.106</td>\n",
       "      <td>0</td>\n",
       "      <td>0</td>\n",
       "      <td>0</td>\n",
       "      <td>1</td>\n",
       "      <td>0</td>\n",
       "      <td>0</td>\n",
       "      <td>0</td>\n",
       "    </tr>\n",
       "    <tr>\n",
       "      <th>143822</th>\n",
       "      <td>2017-08-30 00:00:00</td>\n",
       "      <td>Wood, Blake</td>\n",
       "      <td>502028</td>\n",
       "      <td>476704</td>\n",
       "      <td>hit_into_play</td>\n",
       "      <td>86.8</td>\n",
       "      <td>-7.0</td>\n",
       "      <td>0.144</td>\n",
       "      <td>0.160</td>\n",
       "      <td>0.653</td>\n",
       "      <td>0</td>\n",
       "      <td>0</td>\n",
       "      <td>1</td>\n",
       "      <td>0</td>\n",
       "      <td>0</td>\n",
       "      <td>0</td>\n",
       "      <td>0</td>\n",
       "    </tr>\n",
       "    <tr>\n",
       "      <th>27793</th>\n",
       "      <td>2016-09-28 00:00:00</td>\n",
       "      <td>Gray, Sonny</td>\n",
       "      <td>543243</td>\n",
       "      <td>594777</td>\n",
       "      <td>hit_into_play</td>\n",
       "      <td>101.4</td>\n",
       "      <td>13.0</td>\n",
       "      <td>0.798</td>\n",
       "      <td>0.847</td>\n",
       "      <td>0.406</td>\n",
       "      <td>0</td>\n",
       "      <td>0</td>\n",
       "      <td>0</td>\n",
       "      <td>0</td>\n",
       "      <td>1</td>\n",
       "      <td>0</td>\n",
       "      <td>0</td>\n",
       "    </tr>\n",
       "    <tr>\n",
       "      <th>191745</th>\n",
       "      <td>2020-08-16 00:00:00</td>\n",
       "      <td>Walden, Marcus</td>\n",
       "      <td>519393</td>\n",
       "      <td>642180</td>\n",
       "      <td>hit_into_play</td>\n",
       "      <td>87.2</td>\n",
       "      <td>-16.0</td>\n",
       "      <td>0.078</td>\n",
       "      <td>0.087</td>\n",
       "      <td>-0.112</td>\n",
       "      <td>0</td>\n",
       "      <td>0</td>\n",
       "      <td>1</td>\n",
       "      <td>0</td>\n",
       "      <td>0</td>\n",
       "      <td>0</td>\n",
       "      <td>0</td>\n",
       "    </tr>\n",
       "    <tr>\n",
       "      <th>...</th>\n",
       "      <td>...</td>\n",
       "      <td>...</td>\n",
       "      <td>...</td>\n",
       "      <td>...</td>\n",
       "      <td>...</td>\n",
       "      <td>...</td>\n",
       "      <td>...</td>\n",
       "      <td>...</td>\n",
       "      <td>...</td>\n",
       "      <td>...</td>\n",
       "      <td>...</td>\n",
       "      <td>...</td>\n",
       "      <td>...</td>\n",
       "      <td>...</td>\n",
       "      <td>...</td>\n",
       "      <td>...</td>\n",
       "      <td>...</td>\n",
       "    </tr>\n",
       "    <tr>\n",
       "      <th>492069</th>\n",
       "      <td>2018-05-29 00:00:00</td>\n",
       "      <td>Tropeano, Nick</td>\n",
       "      <td>607374</td>\n",
       "      <td>600869</td>\n",
       "      <td>hit_into_play</td>\n",
       "      <td>102.4</td>\n",
       "      <td>36.0</td>\n",
       "      <td>0.871</td>\n",
       "      <td>0.453</td>\n",
       "      <td>0.955</td>\n",
       "      <td>0</td>\n",
       "      <td>0</td>\n",
       "      <td>0</td>\n",
       "      <td>0</td>\n",
       "      <td>0</td>\n",
       "      <td>0</td>\n",
       "      <td>1</td>\n",
       "    </tr>\n",
       "    <tr>\n",
       "      <th>127214</th>\n",
       "      <td>2018-09-01 00:00:00</td>\n",
       "      <td>Hendriks, Liam</td>\n",
       "      <td>521230</td>\n",
       "      <td>571745</td>\n",
       "      <td>hit_into_play</td>\n",
       "      <td>77.0</td>\n",
       "      <td>-11.0</td>\n",
       "      <td>0.048</td>\n",
       "      <td>0.053</td>\n",
       "      <td>-0.195</td>\n",
       "      <td>0</td>\n",
       "      <td>0</td>\n",
       "      <td>1</td>\n",
       "      <td>0</td>\n",
       "      <td>0</td>\n",
       "      <td>0</td>\n",
       "      <td>0</td>\n",
       "    </tr>\n",
       "    <tr>\n",
       "      <th>157313</th>\n",
       "      <td>2018-08-25 00:00:00</td>\n",
       "      <td>Chen, Wei-Yin</td>\n",
       "      <td>612672</td>\n",
       "      <td>645277</td>\n",
       "      <td>hit_into_play</td>\n",
       "      <td>70.4</td>\n",
       "      <td>24.0</td>\n",
       "      <td>0.898</td>\n",
       "      <td>0.980</td>\n",
       "      <td>0.592</td>\n",
       "      <td>0</td>\n",
       "      <td>0</td>\n",
       "      <td>0</td>\n",
       "      <td>0</td>\n",
       "      <td>1</td>\n",
       "      <td>0</td>\n",
       "      <td>0</td>\n",
       "    </tr>\n",
       "    <tr>\n",
       "      <th>427543</th>\n",
       "      <td>2016-06-18 00:00:00</td>\n",
       "      <td>Liberatore, Adam</td>\n",
       "      <td>571893</td>\n",
       "      <td>571697</td>\n",
       "      <td>hit_into_play</td>\n",
       "      <td>82.9</td>\n",
       "      <td>-21.0</td>\n",
       "      <td>0.072</td>\n",
       "      <td>0.080</td>\n",
       "      <td>-0.115</td>\n",
       "      <td>0</td>\n",
       "      <td>0</td>\n",
       "      <td>1</td>\n",
       "      <td>0</td>\n",
       "      <td>0</td>\n",
       "      <td>0</td>\n",
       "      <td>0</td>\n",
       "    </tr>\n",
       "    <tr>\n",
       "      <th>496941</th>\n",
       "      <td>2016-06-01 00:00:00</td>\n",
       "      <td>Buchholz, Clay</td>\n",
       "      <td>453329</td>\n",
       "      <td>446308</td>\n",
       "      <td>hit_into_play</td>\n",
       "      <td>93.0</td>\n",
       "      <td>2.0</td>\n",
       "      <td>0.426</td>\n",
       "      <td>0.447</td>\n",
       "      <td>-0.443</td>\n",
       "      <td>0</td>\n",
       "      <td>0</td>\n",
       "      <td>1</td>\n",
       "      <td>0</td>\n",
       "      <td>0</td>\n",
       "      <td>0</td>\n",
       "      <td>0</td>\n",
       "    </tr>\n",
       "  </tbody>\n",
       "</table>\n",
       "<p>34167 rows × 17 columns</p>\n",
       "</div>"
      ],
      "text/plain": [
       "                  game_date       player_name  pitcher  batter    description  \\\n",
       "148850           2019-08-27       Leake, Mike   502190  519390  hit_into_play   \n",
       "535537           2019-05-20      Weaver, Luke   596133  571976  hit_into_play   \n",
       "143822  2017-08-30 00:00:00       Wood, Blake   502028  476704  hit_into_play   \n",
       "27793   2016-09-28 00:00:00       Gray, Sonny   543243  594777  hit_into_play   \n",
       "191745  2020-08-16 00:00:00    Walden, Marcus   519393  642180  hit_into_play   \n",
       "...                     ...               ...      ...     ...            ...   \n",
       "492069  2018-05-29 00:00:00    Tropeano, Nick   607374  600869  hit_into_play   \n",
       "127214  2018-09-01 00:00:00    Hendriks, Liam   521230  571745  hit_into_play   \n",
       "157313  2018-08-25 00:00:00     Chen, Wei-Yin   612672  645277  hit_into_play   \n",
       "427543  2016-06-18 00:00:00  Liberatore, Adam   571893  571697  hit_into_play   \n",
       "496941  2016-06-01 00:00:00    Buchholz, Clay   453329  446308  hit_into_play   \n",
       "\n",
       "        launch_speed  launch_angle  estimated_woba_using_speedangle  \\\n",
       "148850          95.4          -3.0                            0.246   \n",
       "535537          63.9          75.0                            0.000   \n",
       "143822          86.8          -7.0                            0.144   \n",
       "27793          101.4          13.0                            0.798   \n",
       "191745          87.2         -16.0                            0.078   \n",
       "...              ...           ...                              ...   \n",
       "492069         102.4          36.0                            0.871   \n",
       "127214          77.0         -11.0                            0.048   \n",
       "157313          70.4          24.0                            0.898   \n",
       "427543          82.9         -21.0                            0.072   \n",
       "496941          93.0           2.0                            0.426   \n",
       "\n",
       "        estimated_ba_using_speedangle  delta_run_exp  launch_speed_angle_0.0  \\\n",
       "148850                          0.273          0.987                       0   \n",
       "535537                          0.000         -0.106                       0   \n",
       "143822                          0.160          0.653                       0   \n",
       "27793                           0.847          0.406                       0   \n",
       "191745                          0.087         -0.112                       0   \n",
       "...                               ...            ...                     ...   \n",
       "492069                          0.453          0.955                       0   \n",
       "127214                          0.053         -0.195                       0   \n",
       "157313                          0.980          0.592                       0   \n",
       "427543                          0.080         -0.115                       0   \n",
       "496941                          0.447         -0.443                       0   \n",
       "\n",
       "        launch_speed_angle_1.0  launch_speed_angle_2.0  \\\n",
       "148850                       0                       1   \n",
       "535537                       0                       0   \n",
       "143822                       0                       1   \n",
       "27793                        0                       0   \n",
       "191745                       0                       1   \n",
       "...                        ...                     ...   \n",
       "492069                       0                       0   \n",
       "127214                       0                       1   \n",
       "157313                       0                       0   \n",
       "427543                       0                       1   \n",
       "496941                       0                       1   \n",
       "\n",
       "        launch_speed_angle_3.0  launch_speed_angle_4.0  \\\n",
       "148850                       0                       0   \n",
       "535537                       1                       0   \n",
       "143822                       0                       0   \n",
       "27793                        0                       1   \n",
       "191745                       0                       0   \n",
       "...                        ...                     ...   \n",
       "492069                       0                       0   \n",
       "127214                       0                       0   \n",
       "157313                       0                       1   \n",
       "427543                       0                       0   \n",
       "496941                       0                       0   \n",
       "\n",
       "        launch_speed_angle_5.0  launch_speed_angle_6.0  \n",
       "148850                       0                       0  \n",
       "535537                       0                       0  \n",
       "143822                       0                       0  \n",
       "27793                        0                       0  \n",
       "191745                       0                       0  \n",
       "...                        ...                     ...  \n",
       "492069                       0                       1  \n",
       "127214                       0                       0  \n",
       "157313                       0                       0  \n",
       "427543                       0                       0  \n",
       "496941                       0                       0  \n",
       "\n",
       "[34167 rows x 17 columns]"
      ]
     },
     "execution_count": 34,
     "metadata": {},
     "output_type": "execute_result"
    }
   ],
   "source": [
    "training"
   ]
  },
  {
   "cell_type": "code",
   "execution_count": 35,
   "metadata": {},
   "outputs": [
    {
     "data": {
      "text/plain": [
       "launch_speed                       0\n",
       "launch_angle                       0\n",
       "launch_speed_angle_0.0             0\n",
       "launch_speed_angle_1.0             0\n",
       "launch_speed_angle_2.0             0\n",
       "launch_speed_angle_3.0             0\n",
       "launch_speed_angle_4.0             0\n",
       "launch_speed_angle_5.0             0\n",
       "launch_speed_angle_6.0             0\n",
       "estimated_woba_using_speedangle    0\n",
       "estimated_ba_using_speedangle      0\n",
       "dtype: int64"
      ]
     },
     "execution_count": 35,
     "metadata": {},
     "output_type": "execute_result"
    }
   ],
   "source": [
    "training[['launch_speed', 'launch_angle', \"launch_speed_angle_0.0\",\n",
    "                 \"launch_speed_angle_1.0\", \"launch_speed_angle_2.0\",\n",
    "                 \"launch_speed_angle_3.0\", \"launch_speed_angle_4.0\",\n",
    "                 \"launch_speed_angle_5.0\", \"launch_speed_angle_6.0\",\n",
    "                 \"estimated_woba_using_speedangle\",\n",
    "                 \"estimated_ba_using_speedangle\"]].isnull().sum()"
   ]
  },
  {
   "cell_type": "code",
   "execution_count": 36,
   "metadata": {},
   "outputs": [
    {
     "name": "stdout",
     "output_type": "stream",
     "text": [
      "(23916, 11)\n",
      "(10251, 11)\n",
      "rf_reg\n",
      "fitting model\n"
     ]
    },
    {
     "data": {
      "text/plain": [
       "{'regressor__max_depth': 5,\n",
       " 'regressor__max_features': 'log2',\n",
       " 'regressor__n_estimators': 500}"
      ]
     },
     "execution_count": 36,
     "metadata": {},
     "output_type": "execute_result"
    }
   ],
   "source": [
    "from sklearn.model_selection import GridSearchCV\n",
    "\n",
    "# split the data\n",
    "X, y = training[['launch_speed', 'launch_angle', \"launch_speed_angle_0.0\",\n",
    "                 \"launch_speed_angle_1.0\", \"launch_speed_angle_2.0\",\n",
    "                 \"launch_speed_angle_3.0\", \"launch_speed_angle_4.0\",\n",
    "                 \"launch_speed_angle_5.0\", \"launch_speed_angle_6.0\",\n",
    "                 \"estimated_woba_using_speedangle\",\n",
    "                 \"estimated_ba_using_speedangle\"]], training['delta_run_exp']\n",
    "\n",
    "# create train and test sets\n",
    "X_train, X_test, y_train, y_test = train_test_split(\n",
    "    X, y, random_state=13, test_size=0.3)\n",
    "    \n",
    "print(X_train.shape)\n",
    "print(X_test.shape)\n",
    "\n",
    "# bring pipelines together for modeling\n",
    "rf_reg = Pipeline(steps=[('scaler', StandardScaler()),\n",
    "                        ('regressor', RandomForestRegressor(n_jobs=-1))])\n",
    "print('rf_reg')\n",
    "# set hyperparameter grid for tuning\n",
    "\n",
    "param_dist = { \n",
    "          'regressor__n_estimators': [100, 200, 500],\n",
    "          'regressor__max_depth':[None, 5, 8],\n",
    "          'regressor__max_features': ['auto', 'sqrt', 'log2']\n",
    "}\n",
    "\n",
    "print('fitting model')\n",
    "\n",
    "# rf_reg.fit(X_train, y_train)\n",
    "\n",
    "# do search\n",
    "search = GridSearchCV(rf_reg, \n",
    "param_dist, n_jobs=-1, scoring='neg_root_mean_squared_error')\n",
    "search.fit(X_train, y_train)\n",
    "search.best_params_"
   ]
  },
  {
   "cell_type": "code",
   "execution_count": 37,
   "metadata": {},
   "outputs": [
    {
     "name": "stdout",
     "output_type": "stream",
     "text": [
      "rmse:  0.43100940318449943\n",
      "r2:  0.3549802979282547\n",
      "mae:  0.2951290029273792\n"
     ]
    }
   ],
   "source": [
    "from sklearn.metrics import mean_squared_error, r2_score, mean_absolute_error\n",
    "\n",
    "y_pred = search.best_estimator_.predict(X_test)\n",
    "\n",
    "rmse = np.sqrt(mean_squared_error(y_test, y_pred))\n",
    "print('rmse: ', rmse)\n",
    "\n",
    "r2 = r2_score(y_test, y_pred)\n",
    "print('r2: ', r2)\n",
    "\n",
    "mae = mean_absolute_error(y_test, y_pred)\n",
    "print('mae: ', mae)"
   ]
  },
  {
   "cell_type": "code",
   "execution_count": 38,
   "metadata": {},
   "outputs": [
    {
     "data": {
      "image/png": "[encoded data removed]",
      "text/plain": [
       "<Figure size 432x288 with 1 Axes>"
      ]
     },
     "metadata": {
      "needs_background": "light"
     },
     "output_type": "display_data"
    }
   ],
   "source": [
    "features = X_train.columns.to_list()\n",
    "importances = search.best_estimator_._final_estimator.feature_importances_\n",
    "indices = np.argsort(importances)\n",
    "\n",
    "plt.title('Feature Importance')\n",
    "plt.barh(range(len(indices)), importances[indices], color='b', align='center')\n",
    "plt.yticks(range(len(indices)), [features[i] for i in indices])\n",
    "plt.xlabel('Relative Importance')\n",
    "plt.show()"
   ]
  },
  {
   "cell_type": "code",
   "execution_count": 39,
   "metadata": {},
   "outputs": [
    {
     "data": {
      "image/png": "[encoded data removed]",
      "text/plain": [
       "<Figure size 576x424.8 with 1 Axes>"
      ]
     },
     "metadata": {
      "needs_background": "light"
     },
     "output_type": "display_data"
    }
   ],
   "source": [
    "import shap\n",
    "shap_values = shap.TreeExplainer(search.best_estimator_._final_estimator).shap_values(X_train)\n",
    "shap.summary_plot(shap_values, X_train, plot_type=\"bar\")"
   ]
  },
  {
   "cell_type": "code",
   "execution_count": 16,
   "metadata": {},
   "outputs": [
    {
     "name": "stdout",
     "output_type": "stream",
     "text": [
      "2021-12-14 20:00:20.795245\n"
     ]
    }
   ],
   "source": [
    "from datetime import date\n",
    "from datetime import date\n",
    "from datetime import datetime\n",
    "\n",
    "print(datetime.now())"
   ]
  },
  {
   "cell_type": "code",
   "execution_count": 17,
   "metadata": {},
   "outputs": [],
   "source": [
    "# import pickle\n",
    "\n",
    "# today = str(date.today())\n",
    "# # Dump the trained decision tree classifier with Pickle\n",
    "# final_model_pkl_filename = 'run_exp_model_{}.pkl'.format(today)\n",
    "# # Open the file to save as pkl file\n",
    "# final_model_pkl = open(final_model_pkl_filename, 'wb')\n",
    "# pickle.dump(search.best_estimator_, final_model_pkl)\n",
    "# # Close the pickle instances\n",
    "# final_model_pkl.close()"
   ]
  },
  {
   "cell_type": "code",
   "execution_count": 18,
   "metadata": {},
   "outputs": [],
   "source": [
    "# # Loading the saved decision tree model pickle\n",
    "# final_model_pkl_filename = 'run_exp_model_{}.pkl'.format(today)\n",
    "# final_model_pkl = open(final_model_pkl_filename, 'rb')\n",
    "# model = pickle.load(final_model_pkl)\n",
    "# print(\"Loaded RandomForest Model :: \", model)"
   ]
  },
  {
   "cell_type": "code",
   "execution_count": 23,
   "metadata": {},
   "outputs": [],
   "source": [
    "scoring = bip"
   ]
  },
  {
   "cell_type": "code",
   "execution_count": 25,
   "metadata": {},
   "outputs": [
    {
     "data": {
      "text/plain": [
       "(122866, 11)"
      ]
     },
     "execution_count": 25,
     "metadata": {},
     "output_type": "execute_result"
    }
   ],
   "source": [
    "scoring.shape"
   ]
  },
  {
   "cell_type": "code",
   "execution_count": 24,
   "metadata": {},
   "outputs": [],
   "source": [
    "scoring['e_delta_re'] = search.best_estimator_.predict(scoring[['launch_speed','launch_angle']])"
   ]
  },
  {
   "cell_type": "code",
   "execution_count": 26,
   "metadata": {},
   "outputs": [
    {
     "data": {
      "text/plain": [
       "(122866, 11)"
      ]
     },
     "execution_count": 26,
     "metadata": {},
     "output_type": "execute_result"
    }
   ],
   "source": [
    "scoring.shape"
   ]
  },
  {
   "cell_type": "code",
   "execution_count": 57,
   "metadata": {},
   "outputs": [
    {
     "data": {
      "text/plain": [
       "'2021-11-02 00:00:00'"
      ]
     },
     "execution_count": 57,
     "metadata": {},
     "output_type": "execute_result"
    }
   ],
   "source": [
    "scoring['game_date'].max()"
   ]
  },
  {
   "cell_type": "code",
   "execution_count": 27,
   "metadata": {},
   "outputs": [
    {
     "data": {
      "image/png": "[encoded data removed]",
      "text/plain": [
       "<Figure size 720x576 with 1 Axes>"
      ]
     },
     "metadata": {
      "needs_background": "light"
     },
     "output_type": "display_data"
    }
   ],
   "source": [
    "plt.figure(figsize=(10,8))\n",
    "sns.histplot(data=scoring, x=\"e_delta_re\")\n",
    "plt.title('Model Prediction distribution')\n",
    "plt.show()"
   ]
  },
  {
   "cell_type": "code",
   "execution_count": 28,
   "metadata": {},
   "outputs": [],
   "source": [
    "frames = [scoring, non_bip]\n",
    "\n",
    "df_concat = pd.concat(frames)"
   ]
  },
  {
   "cell_type": "code",
   "execution_count": 29,
   "metadata": {},
   "outputs": [],
   "source": [
    "# get average scores per batter per cluster faced\n",
    "\n",
    "df_concat['clust_e_delta_re_mean'] = df_concat.groupby(['batter', 'cluster_name'])['e_delta_re'].transform('mean')"
   ]
  },
  {
   "cell_type": "code",
   "execution_count": 30,
   "metadata": {},
   "outputs": [],
   "source": [
    "# obtain pitcher cluster distributions\n",
    "\n",
    "df_concat_2 = df_concat.groupby(['pitcher', 'cluster_name']).size().unstack(fill_value=0).reset_index()"
   ]
  },
  {
   "cell_type": "code",
   "execution_count": 31,
   "metadata": {},
   "outputs": [],
   "source": [
    "cluster_cols = df_concat_2.iloc[:, 1:]"
   ]
  },
  {
   "cell_type": "code",
   "execution_count": 32,
   "metadata": {},
   "outputs": [],
   "source": [
    "# cols = ['lhp_cukc_0', 'lhp_cukc_1', 'lhp_cukc_2', 'lhp_cukc_3',\n",
    "#         'lhp_ff_0', 'lhp_ff_1', 'lhp_ff_2', 'lhp_ff_3',\n",
    "#         'lhp_mf_0', 'lhp_mf_1', 'lhp_mf_2', 'lhp_mf_3',\n",
    "#         'lhp_off_0', 'lhp_off_1', 'lhp_off_2', 'lhp_off_3',\n",
    "#         'lhp_slct_0', 'lhp_slct_1', 'lhp_slct_2', 'lhp_slct_3',\n",
    "#         'rhp_cukc_0', 'rhp_cukc_1', 'rhp_cukc_2', 'rhp_cukc_3', 'rhp_cukc_4',\n",
    "#         'rhp_ff_0', 'rhp_ff_1', 'rhp_ff_2', 'rhp_ff_3',\n",
    "#         'rhp_mf_0', 'rhp_mf_1', 'rhp_mf_2', 'rhp_mf_3', 'rhp_mf_4',\n",
    "#         'rhp_off_0', 'rhp_off_1', 'rhp_off_2', 'rhp_off_3',\n",
    "#         'rhp_slct_0', 'rhp_slct_1', 'rhp_slct_2', 'rhp_slct_3']\n",
    "\n",
    "cols = cluster_cols.columns\n",
    "\n",
    "df_concat_2[cols] = df_concat_2[cols].div(df_concat_2[cols].sum(axis=1), axis=0)"
   ]
  },
  {
   "cell_type": "code",
   "execution_count": 33,
   "metadata": {},
   "outputs": [
    {
     "data": {
      "text/html": [
       "<div>\n",
       "<style scoped>\n",
       "    .dataframe tbody tr th:only-of-type {\n",
       "        vertical-align: middle;\n",
       "    }\n",
       "\n",
       "    .dataframe tbody tr th {\n",
       "        vertical-align: top;\n",
       "    }\n",
       "\n",
       "    .dataframe thead th {\n",
       "        text-align: right;\n",
       "    }\n",
       "</style>\n",
       "<table border=\"1\" class=\"dataframe\">\n",
       "  <thead>\n",
       "    <tr style=\"text-align: right;\">\n",
       "      <th>cluster_name</th>\n",
       "      <th>pitcher</th>\n",
       "      <th>lhp_cukc_0</th>\n",
       "      <th>lhp_cukc_1</th>\n",
       "      <th>lhp_cukc_2</th>\n",
       "      <th>lhp_cukc_3</th>\n",
       "      <th>lhp_ff_0</th>\n",
       "      <th>lhp_ff_1</th>\n",
       "      <th>lhp_ff_2</th>\n",
       "      <th>lhp_ff_3</th>\n",
       "      <th>lhp_mf_0</th>\n",
       "      <th>...</th>\n",
       "      <th>rhp_mf_3</th>\n",
       "      <th>rhp_mf_4</th>\n",
       "      <th>rhp_off_0</th>\n",
       "      <th>rhp_off_1</th>\n",
       "      <th>rhp_off_2</th>\n",
       "      <th>rhp_off_3</th>\n",
       "      <th>rhp_slct_0</th>\n",
       "      <th>rhp_slct_1</th>\n",
       "      <th>rhp_slct_2</th>\n",
       "      <th>rhp_slct_3</th>\n",
       "    </tr>\n",
       "  </thead>\n",
       "  <tbody>\n",
       "    <tr>\n",
       "      <th>0</th>\n",
       "      <td>112526</td>\n",
       "      <td>0.0</td>\n",
       "      <td>0.0</td>\n",
       "      <td>0.0</td>\n",
       "      <td>0.0</td>\n",
       "      <td>0.000000</td>\n",
       "      <td>0.000000</td>\n",
       "      <td>0.000000</td>\n",
       "      <td>0.000000</td>\n",
       "      <td>0.0</td>\n",
       "      <td>...</td>\n",
       "      <td>0.007634</td>\n",
       "      <td>0.175573</td>\n",
       "      <td>0.012723</td>\n",
       "      <td>0.071247</td>\n",
       "      <td>0.002545</td>\n",
       "      <td>0.000000</td>\n",
       "      <td>0.027990</td>\n",
       "      <td>0.005089</td>\n",
       "      <td>0.015267</td>\n",
       "      <td>0.025445</td>\n",
       "    </tr>\n",
       "    <tr>\n",
       "      <th>1</th>\n",
       "      <td>150274</td>\n",
       "      <td>0.0</td>\n",
       "      <td>0.0</td>\n",
       "      <td>0.0</td>\n",
       "      <td>0.0</td>\n",
       "      <td>0.000000</td>\n",
       "      <td>0.000000</td>\n",
       "      <td>0.000000</td>\n",
       "      <td>0.000000</td>\n",
       "      <td>0.0</td>\n",
       "      <td>...</td>\n",
       "      <td>0.000000</td>\n",
       "      <td>0.000000</td>\n",
       "      <td>0.000000</td>\n",
       "      <td>0.000000</td>\n",
       "      <td>0.000000</td>\n",
       "      <td>0.000000</td>\n",
       "      <td>0.000000</td>\n",
       "      <td>0.000000</td>\n",
       "      <td>0.090909</td>\n",
       "      <td>0.000000</td>\n",
       "    </tr>\n",
       "    <tr>\n",
       "      <th>2</th>\n",
       "      <td>276351</td>\n",
       "      <td>0.0</td>\n",
       "      <td>0.0</td>\n",
       "      <td>0.0</td>\n",
       "      <td>0.0</td>\n",
       "      <td>0.000000</td>\n",
       "      <td>0.000000</td>\n",
       "      <td>0.000000</td>\n",
       "      <td>0.000000</td>\n",
       "      <td>0.0</td>\n",
       "      <td>...</td>\n",
       "      <td>0.005747</td>\n",
       "      <td>0.022989</td>\n",
       "      <td>0.000000</td>\n",
       "      <td>0.000000</td>\n",
       "      <td>0.005747</td>\n",
       "      <td>0.000000</td>\n",
       "      <td>0.189655</td>\n",
       "      <td>0.074713</td>\n",
       "      <td>0.022989</td>\n",
       "      <td>0.000000</td>\n",
       "    </tr>\n",
       "    <tr>\n",
       "      <th>3</th>\n",
       "      <td>276520</td>\n",
       "      <td>0.0</td>\n",
       "      <td>0.0</td>\n",
       "      <td>0.0</td>\n",
       "      <td>0.0</td>\n",
       "      <td>0.000000</td>\n",
       "      <td>0.000000</td>\n",
       "      <td>0.000000</td>\n",
       "      <td>0.000000</td>\n",
       "      <td>0.0</td>\n",
       "      <td>...</td>\n",
       "      <td>0.000000</td>\n",
       "      <td>0.000000</td>\n",
       "      <td>0.000000</td>\n",
       "      <td>0.000000</td>\n",
       "      <td>0.030303</td>\n",
       "      <td>0.030303</td>\n",
       "      <td>0.030303</td>\n",
       "      <td>0.227273</td>\n",
       "      <td>0.075758</td>\n",
       "      <td>0.075758</td>\n",
       "    </tr>\n",
       "    <tr>\n",
       "      <th>4</th>\n",
       "      <td>276542</td>\n",
       "      <td>0.0</td>\n",
       "      <td>0.0</td>\n",
       "      <td>0.0</td>\n",
       "      <td>0.0</td>\n",
       "      <td>0.000000</td>\n",
       "      <td>0.000000</td>\n",
       "      <td>0.000000</td>\n",
       "      <td>0.000000</td>\n",
       "      <td>0.0</td>\n",
       "      <td>...</td>\n",
       "      <td>0.014085</td>\n",
       "      <td>0.049296</td>\n",
       "      <td>0.035211</td>\n",
       "      <td>0.105634</td>\n",
       "      <td>0.000000</td>\n",
       "      <td>0.197183</td>\n",
       "      <td>0.007042</td>\n",
       "      <td>0.000000</td>\n",
       "      <td>0.063380</td>\n",
       "      <td>0.049296</td>\n",
       "    </tr>\n",
       "    <tr>\n",
       "      <th>...</th>\n",
       "      <td>...</td>\n",
       "      <td>...</td>\n",
       "      <td>...</td>\n",
       "      <td>...</td>\n",
       "      <td>...</td>\n",
       "      <td>...</td>\n",
       "      <td>...</td>\n",
       "      <td>...</td>\n",
       "      <td>...</td>\n",
       "      <td>...</td>\n",
       "      <td>...</td>\n",
       "      <td>...</td>\n",
       "      <td>...</td>\n",
       "      <td>...</td>\n",
       "      <td>...</td>\n",
       "      <td>...</td>\n",
       "      <td>...</td>\n",
       "      <td>...</td>\n",
       "      <td>...</td>\n",
       "      <td>...</td>\n",
       "      <td>...</td>\n",
       "    </tr>\n",
       "    <tr>\n",
       "      <th>1672</th>\n",
       "      <td>681867</td>\n",
       "      <td>0.0</td>\n",
       "      <td>0.0</td>\n",
       "      <td>0.0</td>\n",
       "      <td>0.0</td>\n",
       "      <td>0.000000</td>\n",
       "      <td>0.000000</td>\n",
       "      <td>0.000000</td>\n",
       "      <td>0.000000</td>\n",
       "      <td>0.0</td>\n",
       "      <td>...</td>\n",
       "      <td>0.000000</td>\n",
       "      <td>0.000000</td>\n",
       "      <td>0.000000</td>\n",
       "      <td>0.200000</td>\n",
       "      <td>0.000000</td>\n",
       "      <td>0.000000</td>\n",
       "      <td>0.100000</td>\n",
       "      <td>0.100000</td>\n",
       "      <td>0.000000</td>\n",
       "      <td>0.000000</td>\n",
       "    </tr>\n",
       "    <tr>\n",
       "      <th>1673</th>\n",
       "      <td>681911</td>\n",
       "      <td>0.0</td>\n",
       "      <td>0.0</td>\n",
       "      <td>0.0</td>\n",
       "      <td>0.0</td>\n",
       "      <td>0.303665</td>\n",
       "      <td>0.198953</td>\n",
       "      <td>0.162304</td>\n",
       "      <td>0.057592</td>\n",
       "      <td>0.0</td>\n",
       "      <td>...</td>\n",
       "      <td>0.000000</td>\n",
       "      <td>0.000000</td>\n",
       "      <td>0.000000</td>\n",
       "      <td>0.000000</td>\n",
       "      <td>0.000000</td>\n",
       "      <td>0.000000</td>\n",
       "      <td>0.000000</td>\n",
       "      <td>0.000000</td>\n",
       "      <td>0.000000</td>\n",
       "      <td>0.000000</td>\n",
       "    </tr>\n",
       "    <tr>\n",
       "      <th>1674</th>\n",
       "      <td>683232</td>\n",
       "      <td>0.0</td>\n",
       "      <td>0.0</td>\n",
       "      <td>0.0</td>\n",
       "      <td>0.0</td>\n",
       "      <td>0.000000</td>\n",
       "      <td>0.000000</td>\n",
       "      <td>0.000000</td>\n",
       "      <td>0.000000</td>\n",
       "      <td>0.0</td>\n",
       "      <td>...</td>\n",
       "      <td>0.000000</td>\n",
       "      <td>0.000000</td>\n",
       "      <td>0.000000</td>\n",
       "      <td>0.000000</td>\n",
       "      <td>0.000000</td>\n",
       "      <td>0.000000</td>\n",
       "      <td>0.000000</td>\n",
       "      <td>0.000000</td>\n",
       "      <td>0.000000</td>\n",
       "      <td>0.000000</td>\n",
       "    </tr>\n",
       "    <tr>\n",
       "      <th>1675</th>\n",
       "      <td>685493</td>\n",
       "      <td>0.0</td>\n",
       "      <td>0.0</td>\n",
       "      <td>0.0</td>\n",
       "      <td>0.0</td>\n",
       "      <td>0.000000</td>\n",
       "      <td>0.000000</td>\n",
       "      <td>0.000000</td>\n",
       "      <td>0.000000</td>\n",
       "      <td>0.0</td>\n",
       "      <td>...</td>\n",
       "      <td>0.000000</td>\n",
       "      <td>0.000000</td>\n",
       "      <td>0.022222</td>\n",
       "      <td>0.088889</td>\n",
       "      <td>0.000000</td>\n",
       "      <td>0.333333</td>\n",
       "      <td>0.044444</td>\n",
       "      <td>0.022222</td>\n",
       "      <td>0.022222</td>\n",
       "      <td>0.000000</td>\n",
       "    </tr>\n",
       "    <tr>\n",
       "      <th>1676</th>\n",
       "      <td>685503</td>\n",
       "      <td>0.0</td>\n",
       "      <td>0.0</td>\n",
       "      <td>0.0</td>\n",
       "      <td>0.0</td>\n",
       "      <td>0.000000</td>\n",
       "      <td>0.000000</td>\n",
       "      <td>0.000000</td>\n",
       "      <td>0.000000</td>\n",
       "      <td>0.0</td>\n",
       "      <td>...</td>\n",
       "      <td>0.028409</td>\n",
       "      <td>0.005682</td>\n",
       "      <td>0.068182</td>\n",
       "      <td>0.107955</td>\n",
       "      <td>0.005682</td>\n",
       "      <td>0.090909</td>\n",
       "      <td>0.017045</td>\n",
       "      <td>0.130682</td>\n",
       "      <td>0.125000</td>\n",
       "      <td>0.073864</td>\n",
       "    </tr>\n",
       "  </tbody>\n",
       "</table>\n",
       "<p>1677 rows × 43 columns</p>\n",
       "</div>"
      ],
      "text/plain": [
       "cluster_name  pitcher  lhp_cukc_0  lhp_cukc_1  lhp_cukc_2  lhp_cukc_3  \\\n",
       "0              112526         0.0         0.0         0.0         0.0   \n",
       "1              150274         0.0         0.0         0.0         0.0   \n",
       "2              276351         0.0         0.0         0.0         0.0   \n",
       "3              276520         0.0         0.0         0.0         0.0   \n",
       "4              276542         0.0         0.0         0.0         0.0   \n",
       "...               ...         ...         ...         ...         ...   \n",
       "1672           681867         0.0         0.0         0.0         0.0   \n",
       "1673           681911         0.0         0.0         0.0         0.0   \n",
       "1674           683232         0.0         0.0         0.0         0.0   \n",
       "1675           685493         0.0         0.0         0.0         0.0   \n",
       "1676           685503         0.0         0.0         0.0         0.0   \n",
       "\n",
       "cluster_name  lhp_ff_0  lhp_ff_1  lhp_ff_2  lhp_ff_3  lhp_mf_0  ...  rhp_mf_3  \\\n",
       "0             0.000000  0.000000  0.000000  0.000000       0.0  ...  0.007634   \n",
       "1             0.000000  0.000000  0.000000  0.000000       0.0  ...  0.000000   \n",
       "2             0.000000  0.000000  0.000000  0.000000       0.0  ...  0.005747   \n",
       "3             0.000000  0.000000  0.000000  0.000000       0.0  ...  0.000000   \n",
       "4             0.000000  0.000000  0.000000  0.000000       0.0  ...  0.014085   \n",
       "...                ...       ...       ...       ...       ...  ...       ...   \n",
       "1672          0.000000  0.000000  0.000000  0.000000       0.0  ...  0.000000   \n",
       "1673          0.303665  0.198953  0.162304  0.057592       0.0  ...  0.000000   \n",
       "1674          0.000000  0.000000  0.000000  0.000000       0.0  ...  0.000000   \n",
       "1675          0.000000  0.000000  0.000000  0.000000       0.0  ...  0.000000   \n",
       "1676          0.000000  0.000000  0.000000  0.000000       0.0  ...  0.028409   \n",
       "\n",
       "cluster_name  rhp_mf_4  rhp_off_0  rhp_off_1  rhp_off_2  rhp_off_3  \\\n",
       "0             0.175573   0.012723   0.071247   0.002545   0.000000   \n",
       "1             0.000000   0.000000   0.000000   0.000000   0.000000   \n",
       "2             0.022989   0.000000   0.000000   0.005747   0.000000   \n",
       "3             0.000000   0.000000   0.000000   0.030303   0.030303   \n",
       "4             0.049296   0.035211   0.105634   0.000000   0.197183   \n",
       "...                ...        ...        ...        ...        ...   \n",
       "1672          0.000000   0.000000   0.200000   0.000000   0.000000   \n",
       "1673          0.000000   0.000000   0.000000   0.000000   0.000000   \n",
       "1674          0.000000   0.000000   0.000000   0.000000   0.000000   \n",
       "1675          0.000000   0.022222   0.088889   0.000000   0.333333   \n",
       "1676          0.005682   0.068182   0.107955   0.005682   0.090909   \n",
       "\n",
       "cluster_name  rhp_slct_0  rhp_slct_1  rhp_slct_2  rhp_slct_3  \n",
       "0               0.027990    0.005089    0.015267    0.025445  \n",
       "1               0.000000    0.000000    0.090909    0.000000  \n",
       "2               0.189655    0.074713    0.022989    0.000000  \n",
       "3               0.030303    0.227273    0.075758    0.075758  \n",
       "4               0.007042    0.000000    0.063380    0.049296  \n",
       "...                  ...         ...         ...         ...  \n",
       "1672            0.100000    0.100000    0.000000    0.000000  \n",
       "1673            0.000000    0.000000    0.000000    0.000000  \n",
       "1674            0.000000    0.000000    0.000000    0.000000  \n",
       "1675            0.044444    0.022222    0.022222    0.000000  \n",
       "1676            0.017045    0.130682    0.125000    0.073864  \n",
       "\n",
       "[1677 rows x 43 columns]"
      ]
     },
     "execution_count": 33,
     "metadata": {},
     "output_type": "execute_result"
    }
   ],
   "source": [
    "df_concat_2"
   ]
  },
  {
   "cell_type": "code",
   "execution_count": 34,
   "metadata": {},
   "outputs": [],
   "source": [
    "# retrieve distribution percentages for each pitcher\n",
    "\n",
    "cluster_sum = df_concat_2.melt(id_vars=[\"pitcher\"], var_name=\"cluster_name_pitcher\", value_name=\"value\")\n",
    "\n",
    "cluster_sum = cluster_sum[cluster_sum.value != 0]"
   ]
  },
  {
   "cell_type": "code",
   "execution_count": 35,
   "metadata": {},
   "outputs": [
    {
     "data": {
      "text/html": [
       "<div>\n",
       "<style scoped>\n",
       "    .dataframe tbody tr th:only-of-type {\n",
       "        vertical-align: middle;\n",
       "    }\n",
       "\n",
       "    .dataframe tbody tr th {\n",
       "        vertical-align: top;\n",
       "    }\n",
       "\n",
       "    .dataframe thead th {\n",
       "        text-align: right;\n",
       "    }\n",
       "</style>\n",
       "<table border=\"1\" class=\"dataframe\">\n",
       "  <thead>\n",
       "    <tr style=\"text-align: right;\">\n",
       "      <th></th>\n",
       "      <th>game_date</th>\n",
       "      <th>player_name</th>\n",
       "      <th>pitcher</th>\n",
       "      <th>pitcher_team</th>\n",
       "      <th>batter</th>\n",
       "      <th>description</th>\n",
       "      <th>launch_speed</th>\n",
       "      <th>launch_angle</th>\n",
       "      <th>delta_run_exp</th>\n",
       "      <th>cluster_name</th>\n",
       "      <th>e_delta_re</th>\n",
       "      <th>clust_e_delta_re_mean</th>\n",
       "    </tr>\n",
       "  </thead>\n",
       "  <tbody>\n",
       "    <tr>\n",
       "      <th>0</th>\n",
       "      <td>2021-10-30 00:00:00</td>\n",
       "      <td>Wright, Kyle</td>\n",
       "      <td>657140</td>\n",
       "      <td>ATL</td>\n",
       "      <td>503556</td>\n",
       "      <td>hit_into_play</td>\n",
       "      <td>92.9</td>\n",
       "      <td>44.0</td>\n",
       "      <td>-0.411</td>\n",
       "      <td>rhp_mf_3</td>\n",
       "      <td>-0.240690</td>\n",
       "      <td>0.040123</td>\n",
       "    </tr>\n",
       "    <tr>\n",
       "      <th>1</th>\n",
       "      <td>2021-10-30 00:00:00</td>\n",
       "      <td>Wright, Kyle</td>\n",
       "      <td>657140</td>\n",
       "      <td>ATL</td>\n",
       "      <td>663656</td>\n",
       "      <td>hit_into_play</td>\n",
       "      <td>106.4</td>\n",
       "      <td>9.0</td>\n",
       "      <td>0.134</td>\n",
       "      <td>rhp_mf_2</td>\n",
       "      <td>0.450774</td>\n",
       "      <td>0.060820</td>\n",
       "    </tr>\n",
       "    <tr>\n",
       "      <th>2</th>\n",
       "      <td>2021-10-30 00:00:00</td>\n",
       "      <td>Wright, Kyle</td>\n",
       "      <td>657140</td>\n",
       "      <td>ATL</td>\n",
       "      <td>621043</td>\n",
       "      <td>hit_into_play</td>\n",
       "      <td>66.4</td>\n",
       "      <td>-18.0</td>\n",
       "      <td>-0.189</td>\n",
       "      <td>rhp_mf_2</td>\n",
       "      <td>-0.215971</td>\n",
       "      <td>0.064803</td>\n",
       "    </tr>\n",
       "    <tr>\n",
       "      <th>3</th>\n",
       "      <td>2021-10-30 00:00:00</td>\n",
       "      <td>Wright, Kyle</td>\n",
       "      <td>657140</td>\n",
       "      <td>ATL</td>\n",
       "      <td>514888</td>\n",
       "      <td>hit_into_play</td>\n",
       "      <td>105.2</td>\n",
       "      <td>30.0</td>\n",
       "      <td>1.027</td>\n",
       "      <td>rhp_mf_3</td>\n",
       "      <td>1.368161</td>\n",
       "      <td>-0.023741</td>\n",
       "    </tr>\n",
       "    <tr>\n",
       "      <th>4</th>\n",
       "      <td>2021-10-30 00:00:00</td>\n",
       "      <td>Wright, Kyle</td>\n",
       "      <td>657140</td>\n",
       "      <td>ATL</td>\n",
       "      <td>455117</td>\n",
       "      <td>hit_into_play</td>\n",
       "      <td>77.0</td>\n",
       "      <td>-21.0</td>\n",
       "      <td>-0.216</td>\n",
       "      <td>rhp_mf_1</td>\n",
       "      <td>-0.222099</td>\n",
       "      <td>-0.033769</td>\n",
       "    </tr>\n",
       "    <tr>\n",
       "      <th>...</th>\n",
       "      <td>...</td>\n",
       "      <td>...</td>\n",
       "      <td>...</td>\n",
       "      <td>...</td>\n",
       "      <td>...</td>\n",
       "      <td>...</td>\n",
       "      <td>...</td>\n",
       "      <td>...</td>\n",
       "      <td>...</td>\n",
       "      <td>...</td>\n",
       "      <td>...</td>\n",
       "      <td>...</td>\n",
       "    </tr>\n",
       "    <tr>\n",
       "      <th>305543</th>\n",
       "      <td>2021-04-01 00:00:00</td>\n",
       "      <td>Detwiler, Ross</td>\n",
       "      <td>446321</td>\n",
       "      <td>MIA</td>\n",
       "      <td>650490</td>\n",
       "      <td>swinging_strike</td>\n",
       "      <td>0.0</td>\n",
       "      <td>0.0</td>\n",
       "      <td>-0.114</td>\n",
       "      <td>lhp_off_1</td>\n",
       "      <td>-0.223017</td>\n",
       "      <td>0.030058</td>\n",
       "    </tr>\n",
       "    <tr>\n",
       "      <th>305544</th>\n",
       "      <td>2021-04-01 00:00:00</td>\n",
       "      <td>Boyd, Matthew</td>\n",
       "      <td>571510</td>\n",
       "      <td>DET</td>\n",
       "      <td>614177</td>\n",
       "      <td>ball</td>\n",
       "      <td>0.0</td>\n",
       "      <td>0.0</td>\n",
       "      <td>0.312</td>\n",
       "      <td>lhp_off_1</td>\n",
       "      <td>0.213763</td>\n",
       "      <td>0.037109</td>\n",
       "    </tr>\n",
       "    <tr>\n",
       "      <th>305545</th>\n",
       "      <td>2021-04-01 00:00:00</td>\n",
       "      <td>Ryu, Hyun Jin</td>\n",
       "      <td>547943</td>\n",
       "      <td>TOR</td>\n",
       "      <td>457803</td>\n",
       "      <td>ball</td>\n",
       "      <td>0.0</td>\n",
       "      <td>0.0</td>\n",
       "      <td>0.092</td>\n",
       "      <td>lhp_off_0</td>\n",
       "      <td>0.213763</td>\n",
       "      <td>-0.149639</td>\n",
       "    </tr>\n",
       "    <tr>\n",
       "      <th>305546</th>\n",
       "      <td>2021-04-01 00:00:00</td>\n",
       "      <td>Ryu, Hyun Jin</td>\n",
       "      <td>547943</td>\n",
       "      <td>TOR</td>\n",
       "      <td>570482</td>\n",
       "      <td>swinging_strike</td>\n",
       "      <td>0.0</td>\n",
       "      <td>0.0</td>\n",
       "      <td>-0.210</td>\n",
       "      <td>lhp_off_3</td>\n",
       "      <td>-0.223017</td>\n",
       "      <td>-0.020255</td>\n",
       "    </tr>\n",
       "    <tr>\n",
       "      <th>305547</th>\n",
       "      <td>2021-04-01 00:00:00</td>\n",
       "      <td>Hearn, Taylor</td>\n",
       "      <td>621368</td>\n",
       "      <td>TEX</td>\n",
       "      <td>467793</td>\n",
       "      <td>ball</td>\n",
       "      <td>0.0</td>\n",
       "      <td>0.0</td>\n",
       "      <td>0.149</td>\n",
       "      <td>lhp_off_3</td>\n",
       "      <td>0.213763</td>\n",
       "      <td>0.012665</td>\n",
       "    </tr>\n",
       "  </tbody>\n",
       "</table>\n",
       "<p>428414 rows × 12 columns</p>\n",
       "</div>"
      ],
      "text/plain": [
       "                  game_date     player_name  pitcher pitcher_team  batter  \\\n",
       "0       2021-10-30 00:00:00    Wright, Kyle   657140          ATL  503556   \n",
       "1       2021-10-30 00:00:00    Wright, Kyle   657140          ATL  663656   \n",
       "2       2021-10-30 00:00:00    Wright, Kyle   657140          ATL  621043   \n",
       "3       2021-10-30 00:00:00    Wright, Kyle   657140          ATL  514888   \n",
       "4       2021-10-30 00:00:00    Wright, Kyle   657140          ATL  455117   \n",
       "...                     ...             ...      ...          ...     ...   \n",
       "305543  2021-04-01 00:00:00  Detwiler, Ross   446321          MIA  650490   \n",
       "305544  2021-04-01 00:00:00   Boyd, Matthew   571510          DET  614177   \n",
       "305545  2021-04-01 00:00:00   Ryu, Hyun Jin   547943          TOR  457803   \n",
       "305546  2021-04-01 00:00:00   Ryu, Hyun Jin   547943          TOR  570482   \n",
       "305547  2021-04-01 00:00:00   Hearn, Taylor   621368          TEX  467793   \n",
       "\n",
       "            description  launch_speed  launch_angle  delta_run_exp  \\\n",
       "0         hit_into_play          92.9          44.0         -0.411   \n",
       "1         hit_into_play         106.4           9.0          0.134   \n",
       "2         hit_into_play          66.4         -18.0         -0.189   \n",
       "3         hit_into_play         105.2          30.0          1.027   \n",
       "4         hit_into_play          77.0         -21.0         -0.216   \n",
       "...                 ...           ...           ...            ...   \n",
       "305543  swinging_strike           0.0           0.0         -0.114   \n",
       "305544             ball           0.0           0.0          0.312   \n",
       "305545             ball           0.0           0.0          0.092   \n",
       "305546  swinging_strike           0.0           0.0         -0.210   \n",
       "305547             ball           0.0           0.0          0.149   \n",
       "\n",
       "       cluster_name  e_delta_re  clust_e_delta_re_mean  \n",
       "0          rhp_mf_3   -0.240690               0.040123  \n",
       "1          rhp_mf_2    0.450774               0.060820  \n",
       "2          rhp_mf_2   -0.215971               0.064803  \n",
       "3          rhp_mf_3    1.368161              -0.023741  \n",
       "4          rhp_mf_1   -0.222099              -0.033769  \n",
       "...             ...         ...                    ...  \n",
       "305543    lhp_off_1   -0.223017               0.030058  \n",
       "305544    lhp_off_1    0.213763               0.037109  \n",
       "305545    lhp_off_0    0.213763              -0.149639  \n",
       "305546    lhp_off_3   -0.223017              -0.020255  \n",
       "305547    lhp_off_3    0.213763               0.012665  \n",
       "\n",
       "[428414 rows x 12 columns]"
      ]
     },
     "execution_count": 35,
     "metadata": {},
     "output_type": "execute_result"
    }
   ],
   "source": [
    "df_concat"
   ]
  },
  {
   "cell_type": "code",
   "execution_count": 36,
   "metadata": {},
   "outputs": [],
   "source": [
    "# merge df's back together\n",
    "\n",
    "df2 = df_concat[['batter', 'pitcher', 'pitcher_team', 'game_date', 'cluster_name', 'clust_e_delta_re_mean']].merge(cluster_sum, left_on=['pitcher', 'cluster_name'], right_on=['pitcher', 'cluster_name_pitcher'])\n"
   ]
  },
  {
   "cell_type": "code",
   "execution_count": 37,
   "metadata": {},
   "outputs": [],
   "source": [
    "# calculate scores\n",
    "\n",
    "df2['score'] = df2['value'] * df2['clust_e_delta_re_mean']"
   ]
  },
  {
   "cell_type": "code",
   "execution_count": 38,
   "metadata": {},
   "outputs": [],
   "source": [
    "# calculate matchup scores for batter vs pitcher\n",
    "\n",
    "df2['matchup_score'] = df2.groupby(['batter', 'pitcher'])['score'].transform('sum')"
   ]
  },
  {
   "cell_type": "code",
   "execution_count": 39,
   "metadata": {},
   "outputs": [],
   "source": [
    "sql1 = '''\n",
    "    SELECT *\n",
    "    FROM player_lookup\n",
    "'''\n",
    "player_lookup = pd.read_sql_query(sql1, engine)\n",
    "\n",
    "sql_pitching = '''\n",
    "    SELECT distinct(\"IDfg\"), max(\"G\") as G, max(\"GS\") as GS\n",
    "    FROM pitching\n",
    "    GROUP BY \"IDfg\", \"Team\"\n",
    "'''\n",
    "\n",
    "pitching = pd.read_sql_query(sql_pitching, engine)\n",
    "\n",
    "sql_hitting = '''\n",
    "    SELECT distinct(\"IDfg\")\n",
    "    FROM hitting  \n",
    "'''\n",
    "\n",
    "hitting = pd.read_sql_query(sql_hitting, engine)"
   ]
  },
  {
   "cell_type": "code",
   "execution_count": 40,
   "metadata": {},
   "outputs": [
    {
     "data": {
      "text/html": [
       "<div>\n",
       "<style scoped>\n",
       "    .dataframe tbody tr th:only-of-type {\n",
       "        vertical-align: middle;\n",
       "    }\n",
       "\n",
       "    .dataframe tbody tr th {\n",
       "        vertical-align: top;\n",
       "    }\n",
       "\n",
       "    .dataframe thead th {\n",
       "        text-align: right;\n",
       "    }\n",
       "</style>\n",
       "<table border=\"1\" class=\"dataframe\">\n",
       "  <thead>\n",
       "    <tr style=\"text-align: right;\">\n",
       "      <th></th>\n",
       "      <th>index</th>\n",
       "      <th>name_last</th>\n",
       "      <th>name_first</th>\n",
       "      <th>key_mlbam</th>\n",
       "      <th>key_retro</th>\n",
       "      <th>key_bbref</th>\n",
       "      <th>key_fangraphs</th>\n",
       "      <th>mlb_played_first</th>\n",
       "      <th>mlb_played_last</th>\n",
       "    </tr>\n",
       "  </thead>\n",
       "  <tbody>\n",
       "    <tr>\n",
       "      <th>0</th>\n",
       "      <td>0</td>\n",
       "      <td>Aardsma</td>\n",
       "      <td>David</td>\n",
       "      <td>430911</td>\n",
       "      <td>aardd001</td>\n",
       "      <td>aardsda01</td>\n",
       "      <td>1902</td>\n",
       "      <td>2004.0</td>\n",
       "      <td>2015.0</td>\n",
       "    </tr>\n",
       "    <tr>\n",
       "      <th>1</th>\n",
       "      <td>1</td>\n",
       "      <td>Aaron</td>\n",
       "      <td>Hank</td>\n",
       "      <td>110001</td>\n",
       "      <td>aaroh101</td>\n",
       "      <td>aaronha01</td>\n",
       "      <td>1000001</td>\n",
       "      <td>1954.0</td>\n",
       "      <td>1976.0</td>\n",
       "    </tr>\n",
       "    <tr>\n",
       "      <th>2</th>\n",
       "      <td>2</td>\n",
       "      <td>Aaron</td>\n",
       "      <td>Tommie</td>\n",
       "      <td>110002</td>\n",
       "      <td>aarot101</td>\n",
       "      <td>aaronto01</td>\n",
       "      <td>1000002</td>\n",
       "      <td>1962.0</td>\n",
       "      <td>1971.0</td>\n",
       "    </tr>\n",
       "    <tr>\n",
       "      <th>3</th>\n",
       "      <td>3</td>\n",
       "      <td>Aase</td>\n",
       "      <td>Don</td>\n",
       "      <td>110003</td>\n",
       "      <td>aased001</td>\n",
       "      <td>aasedo01</td>\n",
       "      <td>1000003</td>\n",
       "      <td>1977.0</td>\n",
       "      <td>1990.0</td>\n",
       "    </tr>\n",
       "    <tr>\n",
       "      <th>4</th>\n",
       "      <td>4</td>\n",
       "      <td>Abad</td>\n",
       "      <td>Andy</td>\n",
       "      <td>407577</td>\n",
       "      <td>abada001</td>\n",
       "      <td>abadan01</td>\n",
       "      <td>506</td>\n",
       "      <td>2001.0</td>\n",
       "      <td>2006.0</td>\n",
       "    </tr>\n",
       "    <tr>\n",
       "      <th>...</th>\n",
       "      <td>...</td>\n",
       "      <td>...</td>\n",
       "      <td>...</td>\n",
       "      <td>...</td>\n",
       "      <td>...</td>\n",
       "      <td>...</td>\n",
       "      <td>...</td>\n",
       "      <td>...</td>\n",
       "      <td>...</td>\n",
       "    </tr>\n",
       "    <tr>\n",
       "      <th>24083</th>\n",
       "      <td>24083</td>\n",
       "      <td>Zupo</td>\n",
       "      <td>Frank</td>\n",
       "      <td>124788</td>\n",
       "      <td>zupof101</td>\n",
       "      <td>zupofr01</td>\n",
       "      <td>1014464</td>\n",
       "      <td>1957.0</td>\n",
       "      <td>1961.0</td>\n",
       "    </tr>\n",
       "    <tr>\n",
       "      <th>24084</th>\n",
       "      <td>24084</td>\n",
       "      <td>Zuvella</td>\n",
       "      <td>Paul</td>\n",
       "      <td>124789</td>\n",
       "      <td>zuvep001</td>\n",
       "      <td>zuvelpa01</td>\n",
       "      <td>1014465</td>\n",
       "      <td>1982.0</td>\n",
       "      <td>1991.0</td>\n",
       "    </tr>\n",
       "    <tr>\n",
       "      <th>24085</th>\n",
       "      <td>24085</td>\n",
       "      <td>Zuverink</td>\n",
       "      <td>George</td>\n",
       "      <td>124790</td>\n",
       "      <td>zuveg101</td>\n",
       "      <td>zuverge01</td>\n",
       "      <td>1014466</td>\n",
       "      <td>1951.0</td>\n",
       "      <td>1959.0</td>\n",
       "    </tr>\n",
       "    <tr>\n",
       "      <th>24086</th>\n",
       "      <td>24086</td>\n",
       "      <td>Zwilling</td>\n",
       "      <td>Dutch</td>\n",
       "      <td>124791</td>\n",
       "      <td>zwild101</td>\n",
       "      <td>zwilldu01</td>\n",
       "      <td>1014467</td>\n",
       "      <td>1910.0</td>\n",
       "      <td>1916.0</td>\n",
       "    </tr>\n",
       "    <tr>\n",
       "      <th>24087</th>\n",
       "      <td>24087</td>\n",
       "      <td>Zych</td>\n",
       "      <td>Tony</td>\n",
       "      <td>543964</td>\n",
       "      <td>zycht001</td>\n",
       "      <td>zychto01</td>\n",
       "      <td>12876</td>\n",
       "      <td>2015.0</td>\n",
       "      <td>2017.0</td>\n",
       "    </tr>\n",
       "  </tbody>\n",
       "</table>\n",
       "<p>24088 rows × 9 columns</p>\n",
       "</div>"
      ],
      "text/plain": [
       "       index name_last name_first  key_mlbam key_retro  key_bbref  \\\n",
       "0          0   Aardsma      David     430911  aardd001  aardsda01   \n",
       "1          1     Aaron       Hank     110001  aaroh101  aaronha01   \n",
       "2          2     Aaron     Tommie     110002  aarot101  aaronto01   \n",
       "3          3      Aase        Don     110003  aased001   aasedo01   \n",
       "4          4      Abad       Andy     407577  abada001   abadan01   \n",
       "...      ...       ...        ...        ...       ...        ...   \n",
       "24083  24083      Zupo      Frank     124788  zupof101   zupofr01   \n",
       "24084  24084   Zuvella       Paul     124789  zuvep001  zuvelpa01   \n",
       "24085  24085  Zuverink     George     124790  zuveg101  zuverge01   \n",
       "24086  24086  Zwilling      Dutch     124791  zwild101  zwilldu01   \n",
       "24087  24087      Zych       Tony     543964  zycht001   zychto01   \n",
       "\n",
       "       key_fangraphs  mlb_played_first  mlb_played_last  \n",
       "0               1902            2004.0           2015.0  \n",
       "1            1000001            1954.0           1976.0  \n",
       "2            1000002            1962.0           1971.0  \n",
       "3            1000003            1977.0           1990.0  \n",
       "4                506            2001.0           2006.0  \n",
       "...              ...               ...              ...  \n",
       "24083        1014464            1957.0           1961.0  \n",
       "24084        1014465            1982.0           1991.0  \n",
       "24085        1014466            1951.0           1959.0  \n",
       "24086        1014467            1910.0           1916.0  \n",
       "24087          12876            2015.0           2017.0  \n",
       "\n",
       "[24088 rows x 9 columns]"
      ]
     },
     "execution_count": 40,
     "metadata": {},
     "output_type": "execute_result"
    }
   ],
   "source": [
    "player_lookup"
   ]
  },
  {
   "cell_type": "code",
   "execution_count": 41,
   "metadata": {},
   "outputs": [],
   "source": [
    "def player_id(df, player_lookup, pitching, hitting):\n",
    "\n",
    "    # create player lookup table\n",
    "    player_lookup_df = player_lookup.loc[:, ['name_last', 'name_first', 'key_mlbam', 'key_fangraphs']]\n",
    "\n",
    "\n",
    "    # set up pitcher names\n",
    "    df3 = df.merge(player_lookup_df, how='left', left_on = 'pitcher', right_on = 'key_mlbam')\n",
    "    df3['pitcher_name'] = df3['name_last'] + ', ' + df3['name_first']\n",
    "\n",
    "    # set up hitter names\n",
    "    df3 = df3.merge(player_lookup, how='left', left_on='batter', right_on='key_mlbam')\n",
    "    df3['batter_name'] = df3['name_last_y'] + ', ' + df3['name_first_y']\n",
    "\n",
    "    # drop unneeded columns\n",
    "    df3 = df3.drop(columns=['name_last_x', 'name_first_x', 'name_last_y', 'name_first_y'])\n",
    "\n",
    "    # merge on fangraphs keys\n",
    "    df3 = df3.merge(pitching, how='left', left_on='key_fangraphs_x', right_on='IDfg')\n",
    "    df3 = df3.merge(hitting, how='left', left_on='key_fangraphs_y', right_on='IDfg')\n",
    "\n",
    "    # identify starting vs relief pitchers\n",
    "    df3['isStarter'] = ((df3['gs'] / df3['g']) > 0.8)\n",
    "\n",
    "    # drop columns from starter vs reliever calc\n",
    "    df3 = df3.dropna(subset=['g', 'gs'])\n",
    "\n",
    "    return df3\n",
    "\n",
    "df3 = player_id(df=df2, player_lookup=player_lookup, pitching=pitching, hitting=hitting)"
   ]
  },
  {
   "cell_type": "code",
   "execution_count": 42,
   "metadata": {},
   "outputs": [
    {
     "data": {
      "text/plain": [
       "(352502, 26)"
      ]
     },
     "execution_count": 42,
     "metadata": {},
     "output_type": "execute_result"
    }
   ],
   "source": [
    "df3.shape"
   ]
  },
  {
   "cell_type": "code",
   "execution_count": 59,
   "metadata": {},
   "outputs": [
    {
     "name": "stdout",
     "output_type": "stream",
     "text": [
      "2021-11-02 00:00:00\n",
      "2016-04-03 00:00:00\n"
     ]
    }
   ],
   "source": [
    "print(df3['game_date'].max())\n",
    "print(df3['game_date'].min())"
   ]
  },
  {
   "cell_type": "code",
   "execution_count": 54,
   "metadata": {},
   "outputs": [],
   "source": [
    "# create pitcher dataframe for 2021 pitchers only\n",
    "\n",
    "pitcher_df = df3[['pitcher_name', 'pitcher_team', 'game_date']].sort_values('game_date').groupby('pitcher_name').tail(1)\n",
    "pitcher_df_2021 = pitcher_df.loc[pitcher_df['game_date']>'2021-01-01']"
   ]
  },
  {
   "cell_type": "code",
   "execution_count": 58,
   "metadata": {},
   "outputs": [
    {
     "data": {
      "text/plain": [
       "'2021-11-02 00:00:00'"
      ]
     },
     "execution_count": 58,
     "metadata": {},
     "output_type": "execute_result"
    }
   ],
   "source": [
    "pitcher_df['game_date'].max()"
   ]
  },
  {
   "cell_type": "code",
   "execution_count": 55,
   "metadata": {},
   "outputs": [
    {
     "name": "stdout",
     "output_type": "stream",
     "text": [
      "(881, 3)\n",
      "(881, 3)\n"
     ]
    }
   ],
   "source": [
    "print(pitcher_df.shape)\n",
    "print(pitcher_df_2021.shape)"
   ]
  },
  {
   "cell_type": "code",
   "execution_count": 53,
   "metadata": {},
   "outputs": [
    {
     "name": "stdout",
     "output_type": "stream",
     "text": [
      "2016-04-03 00:00:00\n",
      "2021-11-02 00:00:00\n"
     ]
    }
   ],
   "source": [
    "print(df3['game_date'].min())\n",
    "print(df3['game_date'].max())"
   ]
  },
  {
   "cell_type": "code",
   "execution_count": 50,
   "metadata": {},
   "outputs": [
    {
     "name": "stdout",
     "output_type": "stream",
     "text": [
      "(183009, 26)\n",
      "(84446, 5)\n"
     ]
    }
   ],
   "source": [
    "# create final dataset\n",
    "\n",
    "df3_2021 = df3.loc[df3['game_date']>'2021-03-01']\n",
    "df3_2021_reco = df3_2021[['batter_name', 'pitcher_name', 'pitcher_team', 'matchup_score', 'isStarter']].merge(pitcher_df, on='pitcher_name', how='inner').drop(columns=['pitcher_team_x', 'game_date']).rename(columns = {'pitcher_team_y':'pitcher_team'}).drop_duplicates()\n",
    "print(df3_2021.shape)\n",
    "print(df3_2021_reco.shape)"
   ]
  },
  {
   "cell_type": "code",
   "execution_count": 30,
   "metadata": {},
   "outputs": [],
   "source": [
    "df3_2021_reco.to_sql('bp_reco_df', engine, if_exists='replace', \n",
    "               chunksize= 100, method='multi')"
   ]
  },
  {
   "cell_type": "code",
   "execution_count": 62,
   "metadata": {},
   "outputs": [
    {
     "data": {
      "text/html": [
       "<div>\n",
       "<style scoped>\n",
       "    .dataframe tbody tr th:only-of-type {\n",
       "        vertical-align: middle;\n",
       "    }\n",
       "\n",
       "    .dataframe tbody tr th {\n",
       "        vertical-align: top;\n",
       "    }\n",
       "\n",
       "    .dataframe thead th {\n",
       "        text-align: right;\n",
       "    }\n",
       "</style>\n",
       "<table border=\"1\" class=\"dataframe\">\n",
       "  <thead>\n",
       "    <tr style=\"text-align: right;\">\n",
       "      <th></th>\n",
       "      <th>batter_name</th>\n",
       "      <th>pitcher_name</th>\n",
       "      <th>matchup_score</th>\n",
       "      <th>isStarter</th>\n",
       "      <th>pitcher_team</th>\n",
       "    </tr>\n",
       "  </thead>\n",
       "  <tbody>\n",
       "    <tr>\n",
       "      <th>99903</th>\n",
       "      <td>Anderson, Tim</td>\n",
       "      <td>Shaw, Bryan</td>\n",
       "      <td>-0.157581</td>\n",
       "      <td>False</td>\n",
       "      <td>CLE</td>\n",
       "    </tr>\n",
       "    <tr>\n",
       "      <th>128113</th>\n",
       "      <td>Anderson, Tim</td>\n",
       "      <td>Clase, Emmanuel</td>\n",
       "      <td>-0.132685</td>\n",
       "      <td>False</td>\n",
       "      <td>CLE</td>\n",
       "    </tr>\n",
       "    <tr>\n",
       "      <th>120770</th>\n",
       "      <td>Anderson, Tim</td>\n",
       "      <td>Stephan, Trevor</td>\n",
       "      <td>-0.045530</td>\n",
       "      <td>False</td>\n",
       "      <td>CLE</td>\n",
       "    </tr>\n",
       "    <tr>\n",
       "      <th>51838</th>\n",
       "      <td>Anderson, Tim</td>\n",
       "      <td>Mejia, J. C.</td>\n",
       "      <td>-0.044800</td>\n",
       "      <td>False</td>\n",
       "      <td>CLE</td>\n",
       "    </tr>\n",
       "    <tr>\n",
       "      <th>67562</th>\n",
       "      <td>Anderson, Tim</td>\n",
       "      <td>Sandlin, Nick</td>\n",
       "      <td>-0.041274</td>\n",
       "      <td>False</td>\n",
       "      <td>CLE</td>\n",
       "    </tr>\n",
       "    <tr>\n",
       "      <th>92473</th>\n",
       "      <td>Anderson, Tim</td>\n",
       "      <td>Karinchak, James</td>\n",
       "      <td>-0.015408</td>\n",
       "      <td>False</td>\n",
       "      <td>CLE</td>\n",
       "    </tr>\n",
       "    <tr>\n",
       "      <th>46058</th>\n",
       "      <td>Anderson, Tim</td>\n",
       "      <td>Quantrill, Cal</td>\n",
       "      <td>-0.009052</td>\n",
       "      <td>False</td>\n",
       "      <td>CLE</td>\n",
       "    </tr>\n",
       "    <tr>\n",
       "      <th>147317</th>\n",
       "      <td>Anderson, Tim</td>\n",
       "      <td>Hentges, Sam</td>\n",
       "      <td>-0.007070</td>\n",
       "      <td>False</td>\n",
       "      <td>CLE</td>\n",
       "    </tr>\n",
       "    <tr>\n",
       "      <th>117429</th>\n",
       "      <td>Anderson, Tim</td>\n",
       "      <td>Wittgren, Nick</td>\n",
       "      <td>-0.004360</td>\n",
       "      <td>False</td>\n",
       "      <td>CLE</td>\n",
       "    </tr>\n",
       "    <tr>\n",
       "      <th>37535</th>\n",
       "      <td>Anderson, Tim</td>\n",
       "      <td>Garza, Justin</td>\n",
       "      <td>-0.003117</td>\n",
       "      <td>False</td>\n",
       "      <td>CLE</td>\n",
       "    </tr>\n",
       "    <tr>\n",
       "      <th>141382</th>\n",
       "      <td>Anderson, Tim</td>\n",
       "      <td>Gose, Anthony</td>\n",
       "      <td>0.004290</td>\n",
       "      <td>False</td>\n",
       "      <td>CLE</td>\n",
       "    </tr>\n",
       "    <tr>\n",
       "      <th>152968</th>\n",
       "      <td>Anderson, Tim</td>\n",
       "      <td>Allen, Logan</td>\n",
       "      <td>0.008420</td>\n",
       "      <td>False</td>\n",
       "      <td>CLE</td>\n",
       "    </tr>\n",
       "    <tr>\n",
       "      <th>97777</th>\n",
       "      <td>Anderson, Tim</td>\n",
       "      <td>Parker, Blake</td>\n",
       "      <td>0.033829</td>\n",
       "      <td>False</td>\n",
       "      <td>CLE</td>\n",
       "    </tr>\n",
       "  </tbody>\n",
       "</table>\n",
       "</div>"
      ],
      "text/plain": [
       "          batter_name      pitcher_name  matchup_score  isStarter pitcher_team\n",
       "99903   Anderson, Tim       Shaw, Bryan      -0.157581      False          CLE\n",
       "128113  Anderson, Tim   Clase, Emmanuel      -0.132685      False          CLE\n",
       "120770  Anderson, Tim   Stephan, Trevor      -0.045530      False          CLE\n",
       "51838   Anderson, Tim      Mejia, J. C.      -0.044800      False          CLE\n",
       "67562   Anderson, Tim     Sandlin, Nick      -0.041274      False          CLE\n",
       "92473   Anderson, Tim  Karinchak, James      -0.015408      False          CLE\n",
       "46058   Anderson, Tim    Quantrill, Cal      -0.009052      False          CLE\n",
       "147317  Anderson, Tim      Hentges, Sam      -0.007070      False          CLE\n",
       "117429  Anderson, Tim    Wittgren, Nick      -0.004360      False          CLE\n",
       "37535   Anderson, Tim     Garza, Justin      -0.003117      False          CLE\n",
       "141382  Anderson, Tim     Gose, Anthony       0.004290      False          CLE\n",
       "152968  Anderson, Tim      Allen, Logan       0.008420      False          CLE\n",
       "97777   Anderson, Tim     Parker, Blake       0.033829      False          CLE"
      ]
     },
     "execution_count": 62,
     "metadata": {},
     "output_type": "execute_result"
    }
   ],
   "source": [
    "def bp_reco(batter, pitcher_tm, df):\n",
    "    df_reco = df.loc[df['batter_name']==batter]\n",
    "    df_reco_team = df_reco.loc[df_reco['pitcher_team']==pitcher_tm]\n",
    "\n",
    "    return df_reco_team.sort_values(by=['matchup_score'])\n",
    "\n",
    "yoyo = bp_reco('Anderson, Tim', 'CLE', df3_2021_reco)\n",
    "\n",
    "yoyo.loc[yoyo['isStarter']==False]"
   ]
  },
  {
   "cell_type": "code",
   "execution_count": 63,
   "metadata": {},
   "outputs": [
    {
     "name": "stdout",
     "output_type": "stream",
     "text": [
      "Importing 2021 data\n"
     ]
    }
   ],
   "source": [
    "sql6 = '''\n",
    "        SELECT \"player_name\", \"home_team\", \"away_team\", \"inning_topbot\", \"p_throws\", \"pitch_type\", \"game_date\", \"events\", \"pitcher\", \n",
    "         \"batter\", \"description\", \"launch_speed\", \"launch_angle\", \"release_speed\", \"release_spin_rate\", \"pfx_x\", \"pfx_z\", \n",
    "         \"plate_x\", \"plate_z\", \"effective_speed\", \"pitch_name\", \"spin_axis\", \"delta_run_exp\"\n",
    "        FROM statcast_2021\n",
    "    '''\n",
    "print('Importing 2021 data')\n",
    "sc_21 = pd.read_sql_query(sql6, engine, chunksize=100)"
   ]
  },
  {
   "cell_type": "code",
   "execution_count": 70,
   "metadata": {},
   "outputs": [
    {
     "name": "stdout",
     "output_type": "stream",
     "text": [
      "Importing 2016 data\n",
      "Importing 2017 data\n",
      "Importing 2018 data\n",
      "Importing 2019 data\n",
      "Importing 2020 data\n"
     ]
    },
    {
     "ename": "TimeoutError",
     "evalue": "QueuePool limit of size 5 overflow 10 reached, connection timed out, timeout 30 (Background on this error at: http://sqlalche.me/e/13/3o7r)",
     "output_type": "error",
     "traceback": [
      "\u001b[1;31m---------------------------------------------------------------------------\u001b[0m",
      "\u001b[1;31mTimeoutError\u001b[0m                              Traceback (most recent call last)",
      "\u001b[1;32m<ipython-input-70-dd1c48c672c3>\u001b[0m in \u001b[0;36m<module>\u001b[1;34m\u001b[0m\n\u001b[0;32m     42\u001b[0m     '''\n\u001b[0;32m     43\u001b[0m \u001b[0mprint\u001b[0m\u001b[1;33m(\u001b[0m\u001b[1;34m'Importing 2020 data'\u001b[0m\u001b[1;33m)\u001b[0m\u001b[1;33m\u001b[0m\u001b[1;33m\u001b[0m\u001b[0m\n\u001b[1;32m---> 44\u001b[1;33m \u001b[0msc_20\u001b[0m \u001b[1;33m=\u001b[0m \u001b[0mpd\u001b[0m\u001b[1;33m.\u001b[0m\u001b[0mread_sql_query\u001b[0m\u001b[1;33m(\u001b[0m\u001b[0msql5\u001b[0m\u001b[1;33m,\u001b[0m \u001b[0mengine\u001b[0m\u001b[1;33m,\u001b[0m \u001b[0mchunksize\u001b[0m\u001b[1;33m=\u001b[0m\u001b[1;36m100\u001b[0m\u001b[1;33m)\u001b[0m\u001b[1;33m\u001b[0m\u001b[1;33m\u001b[0m\u001b[0m\n\u001b[0m\u001b[0;32m     45\u001b[0m \u001b[1;33m\u001b[0m\u001b[0m\n\u001b[0;32m     46\u001b[0m sql6 = '''\n",
      "\u001b[1;32m~\\AppData\\Roaming\\Python\\Python38\\site-packages\\pandas\\io\\sql.py\u001b[0m in \u001b[0;36mread_sql_query\u001b[1;34m(sql, con, index_col, coerce_float, params, parse_dates, chunksize)\u001b[0m\n\u001b[0;32m    375\u001b[0m     \"\"\"\n\u001b[0;32m    376\u001b[0m     \u001b[0mpandas_sql\u001b[0m \u001b[1;33m=\u001b[0m \u001b[0mpandasSQL_builder\u001b[0m\u001b[1;33m(\u001b[0m\u001b[0mcon\u001b[0m\u001b[1;33m)\u001b[0m\u001b[1;33m\u001b[0m\u001b[1;33m\u001b[0m\u001b[0m\n\u001b[1;32m--> 377\u001b[1;33m     return pandas_sql.read_query(\n\u001b[0m\u001b[0;32m    378\u001b[0m         \u001b[0msql\u001b[0m\u001b[1;33m,\u001b[0m\u001b[1;33m\u001b[0m\u001b[1;33m\u001b[0m\u001b[0m\n\u001b[0;32m    379\u001b[0m         \u001b[0mindex_col\u001b[0m\u001b[1;33m=\u001b[0m\u001b[0mindex_col\u001b[0m\u001b[1;33m,\u001b[0m\u001b[1;33m\u001b[0m\u001b[1;33m\u001b[0m\u001b[0m\n",
      "\u001b[1;32m~\\AppData\\Roaming\\Python\\Python38\\site-packages\\pandas\\io\\sql.py\u001b[0m in \u001b[0;36mread_query\u001b[1;34m(self, sql, index_col, coerce_float, parse_dates, params, chunksize)\u001b[0m\n\u001b[0;32m   1292\u001b[0m         \u001b[0margs\u001b[0m \u001b[1;33m=\u001b[0m \u001b[0m_convert_params\u001b[0m\u001b[1;33m(\u001b[0m\u001b[0msql\u001b[0m\u001b[1;33m,\u001b[0m \u001b[0mparams\u001b[0m\u001b[1;33m)\u001b[0m\u001b[1;33m\u001b[0m\u001b[1;33m\u001b[0m\u001b[0m\n\u001b[0;32m   1293\u001b[0m \u001b[1;33m\u001b[0m\u001b[0m\n\u001b[1;32m-> 1294\u001b[1;33m         \u001b[0mresult\u001b[0m \u001b[1;33m=\u001b[0m \u001b[0mself\u001b[0m\u001b[1;33m.\u001b[0m\u001b[0mexecute\u001b[0m\u001b[1;33m(\u001b[0m\u001b[1;33m*\u001b[0m\u001b[0margs\u001b[0m\u001b[1;33m)\u001b[0m\u001b[1;33m\u001b[0m\u001b[1;33m\u001b[0m\u001b[0m\n\u001b[0m\u001b[0;32m   1295\u001b[0m         \u001b[0mcolumns\u001b[0m \u001b[1;33m=\u001b[0m \u001b[0mresult\u001b[0m\u001b[1;33m.\u001b[0m\u001b[0mkeys\u001b[0m\u001b[1;33m(\u001b[0m\u001b[1;33m)\u001b[0m\u001b[1;33m\u001b[0m\u001b[1;33m\u001b[0m\u001b[0m\n\u001b[0;32m   1296\u001b[0m \u001b[1;33m\u001b[0m\u001b[0m\n",
      "\u001b[1;32m~\\AppData\\Roaming\\Python\\Python38\\site-packages\\pandas\\io\\sql.py\u001b[0m in \u001b[0;36mexecute\u001b[1;34m(self, *args, **kwargs)\u001b[0m\n\u001b[0;32m   1160\u001b[0m     \u001b[1;32mdef\u001b[0m \u001b[0mexecute\u001b[0m\u001b[1;33m(\u001b[0m\u001b[0mself\u001b[0m\u001b[1;33m,\u001b[0m \u001b[1;33m*\u001b[0m\u001b[0margs\u001b[0m\u001b[1;33m,\u001b[0m \u001b[1;33m**\u001b[0m\u001b[0mkwargs\u001b[0m\u001b[1;33m)\u001b[0m\u001b[1;33m:\u001b[0m\u001b[1;33m\u001b[0m\u001b[1;33m\u001b[0m\u001b[0m\n\u001b[0;32m   1161\u001b[0m         \u001b[1;34m\"\"\"Simple passthrough to SQLAlchemy connectable\"\"\"\u001b[0m\u001b[1;33m\u001b[0m\u001b[1;33m\u001b[0m\u001b[0m\n\u001b[1;32m-> 1162\u001b[1;33m         \u001b[1;32mreturn\u001b[0m \u001b[0mself\u001b[0m\u001b[1;33m.\u001b[0m\u001b[0mconnectable\u001b[0m\u001b[1;33m.\u001b[0m\u001b[0mexecution_options\u001b[0m\u001b[1;33m(\u001b[0m\u001b[1;33m)\u001b[0m\u001b[1;33m.\u001b[0m\u001b[0mexecute\u001b[0m\u001b[1;33m(\u001b[0m\u001b[1;33m*\u001b[0m\u001b[0margs\u001b[0m\u001b[1;33m,\u001b[0m \u001b[1;33m**\u001b[0m\u001b[0mkwargs\u001b[0m\u001b[1;33m)\u001b[0m\u001b[1;33m\u001b[0m\u001b[1;33m\u001b[0m\u001b[0m\n\u001b[0m\u001b[0;32m   1163\u001b[0m \u001b[1;33m\u001b[0m\u001b[0m\n\u001b[0;32m   1164\u001b[0m     def read_table(\n",
      "\u001b[1;32m~\\Anaconda3\\lib\\site-packages\\sqlalchemy\\engine\\base.py\u001b[0m in \u001b[0;36mexecute\u001b[1;34m(self, statement, *multiparams, **params)\u001b[0m\n\u001b[0;32m   2232\u001b[0m         \"\"\"\n\u001b[0;32m   2233\u001b[0m \u001b[1;33m\u001b[0m\u001b[0m\n\u001b[1;32m-> 2234\u001b[1;33m         \u001b[0mconnection\u001b[0m \u001b[1;33m=\u001b[0m \u001b[0mself\u001b[0m\u001b[1;33m.\u001b[0m\u001b[0m_contextual_connect\u001b[0m\u001b[1;33m(\u001b[0m\u001b[0mclose_with_result\u001b[0m\u001b[1;33m=\u001b[0m\u001b[1;32mTrue\u001b[0m\u001b[1;33m)\u001b[0m\u001b[1;33m\u001b[0m\u001b[1;33m\u001b[0m\u001b[0m\n\u001b[0m\u001b[0;32m   2235\u001b[0m         \u001b[1;32mreturn\u001b[0m \u001b[0mconnection\u001b[0m\u001b[1;33m.\u001b[0m\u001b[0mexecute\u001b[0m\u001b[1;33m(\u001b[0m\u001b[0mstatement\u001b[0m\u001b[1;33m,\u001b[0m \u001b[1;33m*\u001b[0m\u001b[0mmultiparams\u001b[0m\u001b[1;33m,\u001b[0m \u001b[1;33m**\u001b[0m\u001b[0mparams\u001b[0m\u001b[1;33m)\u001b[0m\u001b[1;33m\u001b[0m\u001b[1;33m\u001b[0m\u001b[0m\n\u001b[0;32m   2236\u001b[0m \u001b[1;33m\u001b[0m\u001b[0m\n",
      "\u001b[1;32m~\\Anaconda3\\lib\\site-packages\\sqlalchemy\\engine\\base.py\u001b[0m in \u001b[0;36m_contextual_connect\u001b[1;34m(self, close_with_result, **kwargs)\u001b[0m\n\u001b[0;32m   2300\u001b[0m         return self._connection_cls(\n\u001b[0;32m   2301\u001b[0m             \u001b[0mself\u001b[0m\u001b[1;33m,\u001b[0m\u001b[1;33m\u001b[0m\u001b[1;33m\u001b[0m\u001b[0m\n\u001b[1;32m-> 2302\u001b[1;33m             \u001b[0mself\u001b[0m\u001b[1;33m.\u001b[0m\u001b[0m_wrap_pool_connect\u001b[0m\u001b[1;33m(\u001b[0m\u001b[0mself\u001b[0m\u001b[1;33m.\u001b[0m\u001b[0mpool\u001b[0m\u001b[1;33m.\u001b[0m\u001b[0mconnect\u001b[0m\u001b[1;33m,\u001b[0m \u001b[1;32mNone\u001b[0m\u001b[1;33m)\u001b[0m\u001b[1;33m,\u001b[0m\u001b[1;33m\u001b[0m\u001b[1;33m\u001b[0m\u001b[0m\n\u001b[0m\u001b[0;32m   2303\u001b[0m             \u001b[0mclose_with_result\u001b[0m\u001b[1;33m=\u001b[0m\u001b[0mclose_with_result\u001b[0m\u001b[1;33m,\u001b[0m\u001b[1;33m\u001b[0m\u001b[1;33m\u001b[0m\u001b[0m\n\u001b[0;32m   2304\u001b[0m             \u001b[1;33m**\u001b[0m\u001b[0mkwargs\u001b[0m\u001b[1;33m\u001b[0m\u001b[1;33m\u001b[0m\u001b[0m\n",
      "\u001b[1;32m~\\Anaconda3\\lib\\site-packages\\sqlalchemy\\engine\\base.py\u001b[0m in \u001b[0;36m_wrap_pool_connect\u001b[1;34m(self, fn, connection)\u001b[0m\n\u001b[0;32m   2334\u001b[0m         \u001b[0mdialect\u001b[0m \u001b[1;33m=\u001b[0m \u001b[0mself\u001b[0m\u001b[1;33m.\u001b[0m\u001b[0mdialect\u001b[0m\u001b[1;33m\u001b[0m\u001b[1;33m\u001b[0m\u001b[0m\n\u001b[0;32m   2335\u001b[0m         \u001b[1;32mtry\u001b[0m\u001b[1;33m:\u001b[0m\u001b[1;33m\u001b[0m\u001b[1;33m\u001b[0m\u001b[0m\n\u001b[1;32m-> 2336\u001b[1;33m             \u001b[1;32mreturn\u001b[0m \u001b[0mfn\u001b[0m\u001b[1;33m(\u001b[0m\u001b[1;33m)\u001b[0m\u001b[1;33m\u001b[0m\u001b[1;33m\u001b[0m\u001b[0m\n\u001b[0m\u001b[0;32m   2337\u001b[0m         \u001b[1;32mexcept\u001b[0m \u001b[0mdialect\u001b[0m\u001b[1;33m.\u001b[0m\u001b[0mdbapi\u001b[0m\u001b[1;33m.\u001b[0m\u001b[0mError\u001b[0m \u001b[1;32mas\u001b[0m \u001b[0me\u001b[0m\u001b[1;33m:\u001b[0m\u001b[1;33m\u001b[0m\u001b[1;33m\u001b[0m\u001b[0m\n\u001b[0;32m   2338\u001b[0m             \u001b[1;32mif\u001b[0m \u001b[0mconnection\u001b[0m \u001b[1;32mis\u001b[0m \u001b[1;32mNone\u001b[0m\u001b[1;33m:\u001b[0m\u001b[1;33m\u001b[0m\u001b[1;33m\u001b[0m\u001b[0m\n",
      "\u001b[1;32m~\\Anaconda3\\lib\\site-packages\\sqlalchemy\\pool\\base.py\u001b[0m in \u001b[0;36mconnect\u001b[1;34m(self)\u001b[0m\n\u001b[0;32m    362\u001b[0m         \"\"\"\n\u001b[0;32m    363\u001b[0m         \u001b[1;32mif\u001b[0m \u001b[1;32mnot\u001b[0m \u001b[0mself\u001b[0m\u001b[1;33m.\u001b[0m\u001b[0m_use_threadlocal\u001b[0m\u001b[1;33m:\u001b[0m\u001b[1;33m\u001b[0m\u001b[1;33m\u001b[0m\u001b[0m\n\u001b[1;32m--> 364\u001b[1;33m             \u001b[1;32mreturn\u001b[0m \u001b[0m_ConnectionFairy\u001b[0m\u001b[1;33m.\u001b[0m\u001b[0m_checkout\u001b[0m\u001b[1;33m(\u001b[0m\u001b[0mself\u001b[0m\u001b[1;33m)\u001b[0m\u001b[1;33m\u001b[0m\u001b[1;33m\u001b[0m\u001b[0m\n\u001b[0m\u001b[0;32m    365\u001b[0m \u001b[1;33m\u001b[0m\u001b[0m\n\u001b[0;32m    366\u001b[0m         \u001b[1;32mtry\u001b[0m\u001b[1;33m:\u001b[0m\u001b[1;33m\u001b[0m\u001b[1;33m\u001b[0m\u001b[0m\n",
      "\u001b[1;32m~\\Anaconda3\\lib\\site-packages\\sqlalchemy\\pool\\base.py\u001b[0m in \u001b[0;36m_checkout\u001b[1;34m(cls, pool, threadconns, fairy)\u001b[0m\n\u001b[0;32m    776\u001b[0m     \u001b[1;32mdef\u001b[0m \u001b[0m_checkout\u001b[0m\u001b[1;33m(\u001b[0m\u001b[0mcls\u001b[0m\u001b[1;33m,\u001b[0m \u001b[0mpool\u001b[0m\u001b[1;33m,\u001b[0m \u001b[0mthreadconns\u001b[0m\u001b[1;33m=\u001b[0m\u001b[1;32mNone\u001b[0m\u001b[1;33m,\u001b[0m \u001b[0mfairy\u001b[0m\u001b[1;33m=\u001b[0m\u001b[1;32mNone\u001b[0m\u001b[1;33m)\u001b[0m\u001b[1;33m:\u001b[0m\u001b[1;33m\u001b[0m\u001b[1;33m\u001b[0m\u001b[0m\n\u001b[0;32m    777\u001b[0m         \u001b[1;32mif\u001b[0m \u001b[1;32mnot\u001b[0m \u001b[0mfairy\u001b[0m\u001b[1;33m:\u001b[0m\u001b[1;33m\u001b[0m\u001b[1;33m\u001b[0m\u001b[0m\n\u001b[1;32m--> 778\u001b[1;33m             \u001b[0mfairy\u001b[0m \u001b[1;33m=\u001b[0m \u001b[0m_ConnectionRecord\u001b[0m\u001b[1;33m.\u001b[0m\u001b[0mcheckout\u001b[0m\u001b[1;33m(\u001b[0m\u001b[0mpool\u001b[0m\u001b[1;33m)\u001b[0m\u001b[1;33m\u001b[0m\u001b[1;33m\u001b[0m\u001b[0m\n\u001b[0m\u001b[0;32m    779\u001b[0m \u001b[1;33m\u001b[0m\u001b[0m\n\u001b[0;32m    780\u001b[0m             \u001b[0mfairy\u001b[0m\u001b[1;33m.\u001b[0m\u001b[0m_pool\u001b[0m \u001b[1;33m=\u001b[0m \u001b[0mpool\u001b[0m\u001b[1;33m\u001b[0m\u001b[1;33m\u001b[0m\u001b[0m\n",
      "\u001b[1;32m~\\Anaconda3\\lib\\site-packages\\sqlalchemy\\pool\\base.py\u001b[0m in \u001b[0;36mcheckout\u001b[1;34m(cls, pool)\u001b[0m\n\u001b[0;32m    493\u001b[0m     \u001b[1;33m@\u001b[0m\u001b[0mclassmethod\u001b[0m\u001b[1;33m\u001b[0m\u001b[1;33m\u001b[0m\u001b[0m\n\u001b[0;32m    494\u001b[0m     \u001b[1;32mdef\u001b[0m \u001b[0mcheckout\u001b[0m\u001b[1;33m(\u001b[0m\u001b[0mcls\u001b[0m\u001b[1;33m,\u001b[0m \u001b[0mpool\u001b[0m\u001b[1;33m)\u001b[0m\u001b[1;33m:\u001b[0m\u001b[1;33m\u001b[0m\u001b[1;33m\u001b[0m\u001b[0m\n\u001b[1;32m--> 495\u001b[1;33m         \u001b[0mrec\u001b[0m \u001b[1;33m=\u001b[0m \u001b[0mpool\u001b[0m\u001b[1;33m.\u001b[0m\u001b[0m_do_get\u001b[0m\u001b[1;33m(\u001b[0m\u001b[1;33m)\u001b[0m\u001b[1;33m\u001b[0m\u001b[1;33m\u001b[0m\u001b[0m\n\u001b[0m\u001b[0;32m    496\u001b[0m         \u001b[1;32mtry\u001b[0m\u001b[1;33m:\u001b[0m\u001b[1;33m\u001b[0m\u001b[1;33m\u001b[0m\u001b[0m\n\u001b[0;32m    497\u001b[0m             \u001b[0mdbapi_connection\u001b[0m \u001b[1;33m=\u001b[0m \u001b[0mrec\u001b[0m\u001b[1;33m.\u001b[0m\u001b[0mget_connection\u001b[0m\u001b[1;33m(\u001b[0m\u001b[1;33m)\u001b[0m\u001b[1;33m\u001b[0m\u001b[1;33m\u001b[0m\u001b[0m\n",
      "\u001b[1;32m~\\Anaconda3\\lib\\site-packages\\sqlalchemy\\pool\\impl.py\u001b[0m in \u001b[0;36m_do_get\u001b[1;34m(self)\u001b[0m\n\u001b[0;32m    126\u001b[0m                 \u001b[1;32mreturn\u001b[0m \u001b[0mself\u001b[0m\u001b[1;33m.\u001b[0m\u001b[0m_do_get\u001b[0m\u001b[1;33m(\u001b[0m\u001b[1;33m)\u001b[0m\u001b[1;33m\u001b[0m\u001b[1;33m\u001b[0m\u001b[0m\n\u001b[0;32m    127\u001b[0m             \u001b[1;32melse\u001b[0m\u001b[1;33m:\u001b[0m\u001b[1;33m\u001b[0m\u001b[1;33m\u001b[0m\u001b[0m\n\u001b[1;32m--> 128\u001b[1;33m                 raise exc.TimeoutError(\n\u001b[0m\u001b[0;32m    129\u001b[0m                     \u001b[1;34m\"QueuePool limit of size %d overflow %d reached, \"\u001b[0m\u001b[1;33m\u001b[0m\u001b[1;33m\u001b[0m\u001b[0m\n\u001b[0;32m    130\u001b[0m                     \u001b[1;34m\"connection timed out, timeout %d\"\u001b[0m\u001b[1;33m\u001b[0m\u001b[1;33m\u001b[0m\u001b[0m\n",
      "\u001b[1;31mTimeoutError\u001b[0m: QueuePool limit of size 5 overflow 10 reached, connection timed out, timeout 30 (Background on this error at: http://sqlalche.me/e/13/3o7r)"
     ]
    }
   ],
   "source": [
    "sql1 = '''\n",
    "        SELECT \"player_name\", \"home_team\", \"away_team\", \"inning_topbot\", \"p_throws\", \"pitch_type\", \"game_date\", \"events\", \"pitcher\", \n",
    "         \"batter\", \"description\", \"launch_speed\", \"launch_angle\", \"release_speed\", \"release_spin_rate\", \"pfx_x\", \"pfx_z\", \n",
    "         \"plate_x\", \"plate_z\", \"effective_speed\", \"pitch_name\", \"spin_axis\", \"delta_run_exp\"\n",
    "        FROM statcast_2016\n",
    "    '''\n",
    "print('Importing 2016 data')\n",
    "sc_16 = pd.read_sql_query(sql1, engine, chunksize=100)\n",
    "\n",
    "sql2 = '''\n",
    "        SELECT \"player_name\", \"home_team\", \"away_team\", \"inning_topbot\", \"p_throws\", \"pitch_type\", \"game_date\", \"events\", \"pitcher\", \n",
    "         \"batter\", \"description\", \"launch_speed\", \"launch_angle\", \"release_speed\", \"release_spin_rate\", \"pfx_x\", \"pfx_z\", \n",
    "         \"plate_x\", \"plate_z\", \"effective_speed\", \"pitch_name\", \"spin_axis\", \"delta_run_exp\"\n",
    "        FROM statcast_2017\n",
    "    '''\n",
    "print('Importing 2017 data')\n",
    "sc_17 = pd.read_sql_query(sql2, engine, chunksize=100)\n",
    "\n",
    "sql3 = '''\n",
    "        SELECT \"player_name\", \"home_team\", \"away_team\", \"inning_topbot\", \"p_throws\", \"pitch_type\", \"game_date\", \"events\", \"pitcher\", \n",
    "         \"batter\", \"description\", \"launch_speed\", \"launch_angle\", \"release_speed\", \"release_spin_rate\", \"pfx_x\", \"pfx_z\", \n",
    "         \"plate_x\", \"plate_z\", \"effective_speed\", \"pitch_name\", \"spin_axis\", \"delta_run_exp\"\n",
    "        FROM statcast_2018\n",
    "    '''\n",
    "print('Importing 2018 data')\n",
    "sc_18 = pd.read_sql_query(sql3, engine, chunksize=100)\n",
    "\n",
    "sql4 = '''\n",
    "        SELECT \"player_name\", \"home_team\", \"away_team\", \"inning_topbot\", \"p_throws\", \"pitch_type\", \"game_date\", \"events\", \"pitcher\", \n",
    "         \"batter\", \"description\", \"launch_speed\", \"launch_angle\", \"release_speed\", \"release_spin_rate\", \"pfx_x\", \"pfx_z\", \n",
    "         \"plate_x\", \"plate_z\", \"effective_speed\", \"pitch_name\", \"spin_axis\", \"delta_run_exp\"\n",
    "        FROM statcast_2019\n",
    "    '''\n",
    "print('Importing 2019 data')\n",
    "sc_19 = pd.read_sql_query(sql4, engine, chunksize=100)\n",
    "\n",
    "sql5 = '''\n",
    "        SELECT \"player_name\", \"home_team\", \"away_team\", \"inning_topbot\", \"p_throws\", \"pitch_type\", \"game_date\", \"events\", \"pitcher\", \n",
    "         \"batter\", \"description\", \"launch_speed\", \"launch_angle\", \"release_speed\", \"release_spin_rate\", \"pfx_x\", \"pfx_z\", \n",
    "         \"plate_x\", \"plate_z\", \"effective_speed\", \"pitch_name\", \"spin_axis\", \"delta_run_exp\"\n",
    "        FROM statcast_2020\n",
    "    '''\n",
    "print('Importing 2020 data')\n",
    "sc_20 = pd.read_sql_query(sql5, engine, chunksize=100)\n",
    "\n",
    "sql6 = '''\n",
    "        SELECT \"player_name\", \"home_team\", \"away_team\", \"inning_topbot\", \"p_throws\", \"pitch_type\", \"game_date\", \"events\", \"pitcher\", \n",
    "         \"batter\", \"description\", \"launch_speed\", \"launch_angle\", \"release_speed\", \"release_spin_rate\", \"pfx_x\", \"pfx_z\", \n",
    "         \"plate_x\", \"plate_z\", \"effective_speed\", \"pitch_name\", \"spin_axis\", \"delta_run_exp\"\n",
    "        FROM statcast_2021\n",
    "    '''\n",
    "print('Importing 2021 data')\n",
    "sc_21 = pd.read_sql_query(sql6, engine)\n",
    "\n",
    "# statcast = pd.concat([sc_16, sc_17, sc_18, sc_19, sc_20, sc_21])"
   ]
  },
  {
   "cell_type": "code",
   "execution_count": 65,
   "metadata": {},
   "outputs": [
    {
     "data": {
      "text/plain": [
       "generator"
      ]
     },
     "execution_count": 65,
     "metadata": {},
     "output_type": "execute_result"
    }
   ],
   "source": [
    "type(sc_16)"
   ]
  },
  {
   "cell_type": "code",
   "execution_count": 68,
   "metadata": {},
   "outputs": [
    {
     "ename": "KeyboardInterrupt",
     "evalue": "",
     "output_type": "error",
     "traceback": [
      "\u001b[1;31m---------------------------------------------------------------------------\u001b[0m",
      "\u001b[1;31mKeyboardInterrupt\u001b[0m                         Traceback (most recent call last)",
      "\u001b[1;32m<ipython-input-68-039553a8b0e9>\u001b[0m in \u001b[0;36m<module>\u001b[1;34m\u001b[0m\n\u001b[0;32m      8\u001b[0m     \u001b[1;32mreturn\u001b[0m \u001b[0mdf\u001b[0m\u001b[1;33m\u001b[0m\u001b[1;33m\u001b[0m\u001b[0m\n\u001b[0;32m      9\u001b[0m \u001b[1;33m\u001b[0m\u001b[0m\n\u001b[1;32m---> 10\u001b[1;33m \u001b[0msc_21\u001b[0m \u001b[1;33m=\u001b[0m \u001b[0mfetch_data\u001b[0m\u001b[1;33m(\u001b[0m\u001b[0msql6\u001b[0m\u001b[1;33m)\u001b[0m\u001b[1;33m\u001b[0m\u001b[1;33m\u001b[0m\u001b[0m\n\u001b[0m",
      "\u001b[1;32m<ipython-input-68-039553a8b0e9>\u001b[0m in \u001b[0;36mfetch_data\u001b[1;34m(sql, chunksize)\u001b[0m\n\u001b[0;32m      5\u001b[0m                          chunksize=chunksize)\n\u001b[0;32m      6\u001b[0m     \u001b[1;32mfor\u001b[0m \u001b[0mchunk\u001b[0m \u001b[1;32min\u001b[0m \u001b[0mreader\u001b[0m\u001b[1;33m:\u001b[0m\u001b[1;33m\u001b[0m\u001b[1;33m\u001b[0m\u001b[0m\n\u001b[1;32m----> 7\u001b[1;33m         \u001b[0mdf\u001b[0m \u001b[1;33m=\u001b[0m \u001b[0mpd\u001b[0m\u001b[1;33m.\u001b[0m\u001b[0mconcat\u001b[0m\u001b[1;33m(\u001b[0m\u001b[1;33m[\u001b[0m\u001b[0mdf\u001b[0m\u001b[1;33m,\u001b[0m \u001b[0mchunk\u001b[0m\u001b[1;33m]\u001b[0m\u001b[1;33m,\u001b[0m \u001b[0mignore_index\u001b[0m\u001b[1;33m=\u001b[0m\u001b[1;32mTrue\u001b[0m\u001b[1;33m)\u001b[0m\u001b[1;33m\u001b[0m\u001b[1;33m\u001b[0m\u001b[0m\n\u001b[0m\u001b[0;32m      8\u001b[0m     \u001b[1;32mreturn\u001b[0m \u001b[0mdf\u001b[0m\u001b[1;33m\u001b[0m\u001b[1;33m\u001b[0m\u001b[0m\n\u001b[0;32m      9\u001b[0m \u001b[1;33m\u001b[0m\u001b[0m\n",
      "\u001b[1;32m~\\AppData\\Roaming\\Python\\Python38\\site-packages\\pandas\\core\\reshape\\concat.py\u001b[0m in \u001b[0;36mconcat\u001b[1;34m(objs, axis, join, ignore_index, keys, levels, names, verify_integrity, sort, copy)\u001b[0m\n\u001b[0;32m    296\u001b[0m     )\n\u001b[0;32m    297\u001b[0m \u001b[1;33m\u001b[0m\u001b[0m\n\u001b[1;32m--> 298\u001b[1;33m     \u001b[1;32mreturn\u001b[0m \u001b[0mop\u001b[0m\u001b[1;33m.\u001b[0m\u001b[0mget_result\u001b[0m\u001b[1;33m(\u001b[0m\u001b[1;33m)\u001b[0m\u001b[1;33m\u001b[0m\u001b[1;33m\u001b[0m\u001b[0m\n\u001b[0m\u001b[0;32m    299\u001b[0m \u001b[1;33m\u001b[0m\u001b[0m\n\u001b[0;32m    300\u001b[0m \u001b[1;33m\u001b[0m\u001b[0m\n",
      "\u001b[1;32m~\\AppData\\Roaming\\Python\\Python38\\site-packages\\pandas\\core\\reshape\\concat.py\u001b[0m in \u001b[0;36mget_result\u001b[1;34m(self)\u001b[0m\n\u001b[0;32m    518\u001b[0m                 \u001b[0mmgrs_indexers\u001b[0m\u001b[1;33m.\u001b[0m\u001b[0mappend\u001b[0m\u001b[1;33m(\u001b[0m\u001b[1;33m(\u001b[0m\u001b[0mobj\u001b[0m\u001b[1;33m.\u001b[0m\u001b[0m_mgr\u001b[0m\u001b[1;33m,\u001b[0m \u001b[0mindexers\u001b[0m\u001b[1;33m)\u001b[0m\u001b[1;33m)\u001b[0m\u001b[1;33m\u001b[0m\u001b[1;33m\u001b[0m\u001b[0m\n\u001b[0;32m    519\u001b[0m \u001b[1;33m\u001b[0m\u001b[0m\n\u001b[1;32m--> 520\u001b[1;33m             new_data = concatenate_block_managers(\n\u001b[0m\u001b[0;32m    521\u001b[0m                 \u001b[0mmgrs_indexers\u001b[0m\u001b[1;33m,\u001b[0m \u001b[0mself\u001b[0m\u001b[1;33m.\u001b[0m\u001b[0mnew_axes\u001b[0m\u001b[1;33m,\u001b[0m \u001b[0mconcat_axis\u001b[0m\u001b[1;33m=\u001b[0m\u001b[0mself\u001b[0m\u001b[1;33m.\u001b[0m\u001b[0mbm_axis\u001b[0m\u001b[1;33m,\u001b[0m \u001b[0mcopy\u001b[0m\u001b[1;33m=\u001b[0m\u001b[0mself\u001b[0m\u001b[1;33m.\u001b[0m\u001b[0mcopy\u001b[0m\u001b[1;33m\u001b[0m\u001b[1;33m\u001b[0m\u001b[0m\n\u001b[0;32m    522\u001b[0m             )\n",
      "\u001b[1;32m~\\AppData\\Roaming\\Python\\Python38\\site-packages\\pandas\\core\\internals\\concat.py\u001b[0m in \u001b[0;36mconcatenate_block_managers\u001b[1;34m(mgrs_indexers, axes, concat_axis, copy)\u001b[0m\n\u001b[0;32m     83\u001b[0m                 \u001b[0m_concatenate_join_units\u001b[0m\u001b[1;33m(\u001b[0m\u001b[0mjoin_units\u001b[0m\u001b[1;33m,\u001b[0m \u001b[0mconcat_axis\u001b[0m\u001b[1;33m,\u001b[0m \u001b[0mcopy\u001b[0m\u001b[1;33m=\u001b[0m\u001b[0mcopy\u001b[0m\u001b[1;33m)\u001b[0m\u001b[1;33m,\u001b[0m\u001b[1;33m\u001b[0m\u001b[1;33m\u001b[0m\u001b[0m\n\u001b[0;32m     84\u001b[0m                 \u001b[0mplacement\u001b[0m\u001b[1;33m=\u001b[0m\u001b[0mplacement\u001b[0m\u001b[1;33m,\u001b[0m\u001b[1;33m\u001b[0m\u001b[1;33m\u001b[0m\u001b[0m\n\u001b[1;32m---> 85\u001b[1;33m                 \u001b[0mndim\u001b[0m\u001b[1;33m=\u001b[0m\u001b[0mlen\u001b[0m\u001b[1;33m(\u001b[0m\u001b[0maxes\u001b[0m\u001b[1;33m)\u001b[0m\u001b[1;33m,\u001b[0m\u001b[1;33m\u001b[0m\u001b[1;33m\u001b[0m\u001b[0m\n\u001b[0m\u001b[0;32m     86\u001b[0m             )\n\u001b[0;32m     87\u001b[0m         \u001b[0mblocks\u001b[0m\u001b[1;33m.\u001b[0m\u001b[0mappend\u001b[0m\u001b[1;33m(\u001b[0m\u001b[0mb\u001b[0m\u001b[1;33m)\u001b[0m\u001b[1;33m\u001b[0m\u001b[1;33m\u001b[0m\u001b[0m\n",
      "\u001b[1;31mKeyboardInterrupt\u001b[0m: "
     ]
    }
   ],
   "source": [
    "def fetch_data(sql, chunksize=100):\n",
    "    df = pd.DataFrame()\n",
    "    reader = pd.read_sql_query(sql,\n",
    "                         engine,\n",
    "                         chunksize=chunksize)\n",
    "    for chunk in reader:\n",
    "        df = pd.concat([df, chunk], ignore_index=True)\n",
    "    return df\n",
    "\n",
    "sc_21 = fetch_data(sql6)"
   ]
  },
  {
   "cell_type": "code",
   "execution_count": 3,
   "metadata": {},
   "outputs": [
    {
     "name": "stdout",
     "output_type": "stream",
     "text": [
      "Importing 2021 data\n"
     ]
    }
   ],
   "source": [
    "sql6 = '''\n",
    "        SELECT \"player_name\", \"home_team\", \"away_team\", \"inning_topbot\", \"p_throws\", \"pitch_type\", \"game_date\", \"events\", \"pitcher\", \n",
    "         \"batter\", \"description\", \"launch_speed\", \"launch_angle\", \"release_speed\", \"release_spin_rate\", \"pfx_x\", \"pfx_z\", \n",
    "         \"plate_x\", \"plate_z\", \"effective_speed\", \"pitch_name\", \"spin_axis\", \"delta_run_exp\"\n",
    "        FROM statcast_2021\n",
    "    '''\n",
    "print('Importing 2021 data')\n",
    "sc_21 = pd.read_sql_query(sql6, engine)"
   ]
  },
  {
   "cell_type": "code",
   "execution_count": 4,
   "metadata": {},
   "outputs": [
    {
     "name": "stdout",
     "output_type": "stream",
     "text": [
      "<class 'pandas.core.frame.DataFrame'>\n",
      "RangeIndex: 720320 entries, 0 to 720319\n",
      "Data columns (total 23 columns):\n",
      " #   Column             Non-Null Count   Dtype         \n",
      "---  ------             --------------   -----         \n",
      " 0   player_name        720320 non-null  object        \n",
      " 1   home_team          720320 non-null  object        \n",
      " 2   away_team          720320 non-null  object        \n",
      " 3   inning_topbot      720320 non-null  object        \n",
      " 4   p_throws           720320 non-null  object        \n",
      " 5   pitch_type         719953 non-null  object        \n",
      " 6   game_date          720320 non-null  datetime64[ns]\n",
      " 7   events             184026 non-null  object        \n",
      " 8   pitcher            720320 non-null  int64         \n",
      " 9   batter             720320 non-null  int64         \n",
      " 10  description        720320 non-null  object        \n",
      " 11  launch_speed       235763 non-null  float64       \n",
      " 12  launch_angle       235763 non-null  float64       \n",
      " 13  release_speed      719915 non-null  float64       \n",
      " 14  release_spin_rate  717291 non-null  float64       \n",
      " 15  pfx_x              719949 non-null  float64       \n",
      " 16  pfx_z              719949 non-null  float64       \n",
      " 17  plate_x            719949 non-null  float64       \n",
      " 18  plate_z            719949 non-null  float64       \n",
      " 19  effective_speed    719709 non-null  float64       \n",
      " 20  pitch_name         719953 non-null  object        \n",
      " 21  spin_axis          717327 non-null  float64       \n",
      " 22  delta_run_exp      720277 non-null  float64       \n",
      "dtypes: datetime64[ns](1), float64(11), int64(2), object(9)\n",
      "memory usage: 126.4+ MB\n"
     ]
    }
   ],
   "source": [
    "sc_21.info()"
   ]
  },
  {
   "cell_type": "code",
   "execution_count": 6,
   "metadata": {},
   "outputs": [
    {
     "name": "stdout",
     "output_type": "stream",
     "text": [
      "64\n"
     ]
    }
   ],
   "source": [
    "import struct\n",
    "\n",
    "version = struct.calcsize(\"P\")*8 \n",
    "\n",
    "print(version)"
   ]
  },
  {
   "cell_type": "code",
   "execution_count": null,
   "metadata": {},
   "outputs": [],
   "source": []
  }
 ],
 "metadata": {
  "interpreter": {
   "hash": "7743e88522c0656e3c4d76210be5b89a02458a7273f3872c633d8ddda606ff01"
  },
  "kernelspec": {
   "display_name": "Python 3.8.5 64-bit ('base': conda)",
   "name": "python3"
  },
  "language_info": {
   "codemirror_mode": {
    "name": "ipython",
    "version": 3
   },
   "file_extension": ".py",
   "mimetype": "text/x-python",
   "name": "python",
   "nbconvert_exporter": "python",
   "pygments_lexer": "ipython3",
   "version": "3.8.5"
  },
  "orig_nbformat": 4
 },
 "nbformat": 4,
 "nbformat_minor": 2
}
