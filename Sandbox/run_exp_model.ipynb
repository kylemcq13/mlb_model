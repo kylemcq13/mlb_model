{
 "cells": [
  {
   "cell_type": "markdown",
   "metadata": {},
   "source": [
    "# Ball in Play Model"
   ]
  },
  {
   "cell_type": "code",
   "execution_count": 48,
   "metadata": {},
   "outputs": [],
   "source": [
    "import pandas as pd\n",
    "import numpy as np\n",
    "from configparser import ConfigParser\n",
    "from sqlalchemy import create_engine\n",
    "import matplotlib.pyplot as plt\n",
    "from sklearn.mixture import GaussianMixture\n",
    "from sklearn.cluster import KMeans\n",
    "from sklearn.preprocessing import StandardScaler\n",
    "from sklearn.preprocessing import RobustScaler\n",
    "from sklearn.linear_model import LinearRegression\n",
    "from sklearn.tree import DecisionTreeRegressor\n",
    "from sklearn.ensemble import RandomForestRegressor\n",
    "import seaborn as sns\n",
    "from sklearn.pipeline import Pipeline\n",
    "from sklearn.model_selection import train_test_split, GridSearchCV\n",
    "from sklearn.compose import ColumnTransformer\n",
    "from sklearn.cluster import DBSCAN\n",
    "from sklearn.metrics import silhouette_score\n"
   ]
  },
  {
   "cell_type": "code",
   "execution_count": 49,
   "metadata": {},
   "outputs": [],
   "source": [
    "# establish sql engine connection\n",
    "parser = ConfigParser()\n",
    "parser.read('nb.ini')\n",
    "conn_string = parser.get('my_db', 'conn_string')\n",
    "engine = create_engine(conn_string)"
   ]
  },
  {
   "cell_type": "code",
   "execution_count": 50,
   "metadata": {},
   "outputs": [],
   "source": [
    "## fetch clustered data from postgresql database\n",
    "\n",
    "sql1 = '''\n",
    "    SELECT *\n",
    "    FROM clustering\n",
    "'''\n",
    "df = pd.read_sql_query(sql1, engine)"
   ]
  },
  {
   "cell_type": "code",
   "execution_count": 51,
   "metadata": {},
   "outputs": [
    {
     "data": {
      "text/plain": [
       "(967707, 40)"
      ]
     },
     "execution_count": 51,
     "metadata": {},
     "output_type": "execute_result"
    }
   ],
   "source": [
    "df.shape"
   ]
  },
  {
   "cell_type": "markdown",
   "metadata": {},
   "source": [
    "## Non Ball in Play Outcomes"
   ]
  },
  {
   "cell_type": "code",
   "execution_count": 5,
   "metadata": {},
   "outputs": [],
   "source": [
    "non_bip = df.loc[df['description']!='hit_into_play']"
   ]
  },
  {
   "cell_type": "code",
   "execution_count": 6,
   "metadata": {},
   "outputs": [
    {
     "data": {
      "text/plain": [
       "array(['foul', 'called_strike', 'ball', 'hit_by_pitch', 'swinging_strike',\n",
       "       'blocked_ball', 'foul_bunt', 'foul_tip', 'missed_bunt',\n",
       "       'swinging_strike_blocked', 'bunt_foul_tip', 'foul_pitchout'],\n",
       "      dtype=object)"
      ]
     },
     "execution_count": 6,
     "metadata": {},
     "output_type": "execute_result"
    }
   ],
   "source": [
    "non_bip['description'].unique()"
   ]
  },
  {
   "cell_type": "code",
   "execution_count": 7,
   "metadata": {},
   "outputs": [
    {
     "name": "stderr",
     "output_type": "stream",
     "text": [
      "<ipython-input-7-040f997c7f75>:1: SettingWithCopyWarning: \n",
      "A value is trying to be set on a copy of a slice from a DataFrame.\n",
      "Try using .loc[row_indexer,col_indexer] = value instead\n",
      "\n",
      "See the caveats in the documentation: https://pandas.pydata.org/pandas-docs/stable/user_guide/indexing.html#returning-a-view-versus-a-copy\n",
      "  non_bip['e_delta_re'] = non_bip.groupby('description')['delta_run_exp'].transform('mean')\n"
     ]
    }
   ],
   "source": [
    "non_bip['e_delta_re'] = non_bip.groupby('description')['delta_run_exp'].transform('mean')"
   ]
  },
  {
   "cell_type": "code",
   "execution_count": 8,
   "metadata": {},
   "outputs": [
    {
     "data": {
      "text/plain": [
       "array(['none', 'strikeout', 'hit_by_pitch', 'walk', 'caught_stealing_2b',\n",
       "       'strikeout_double_play', 'wild_pitch', 'stolen_base_2b',\n",
       "       'other_out', 'caught_stealing_3b', 'caught_stealing_home',\n",
       "       'pickoff_1b', 'pickoff_2b', 'pickoff_3b', 'catcher_interf',\n",
       "       'field_out', 'passed_ball', 'pickoff_caught_stealing_home',\n",
       "       'stolen_base_3b', 'ejection', 'pickoff_caught_stealing_2b',\n",
       "       'pickoff_caught_stealing_3b', 'runner_double_play',\n",
       "       'stolen_base_home', 'game_advisory'], dtype=object)"
      ]
     },
     "execution_count": 8,
     "metadata": {},
     "output_type": "execute_result"
    }
   ],
   "source": [
    "pd.set_option('display.max_columns', None)\n",
    "non_bip.events.unique()"
   ]
  },
  {
   "cell_type": "markdown",
   "metadata": {},
   "source": [
    "## Ball in Play Outcomes"
   ]
  },
  {
   "cell_type": "code",
   "execution_count": 52,
   "metadata": {},
   "outputs": [],
   "source": [
    "bip = df.loc[df['description']=='hit_into_play']"
   ]
  },
  {
   "cell_type": "code",
   "execution_count": 10,
   "metadata": {},
   "outputs": [
    {
     "data": {
      "text/plain": [
       "array(['sac_fly', 'field_out', 'double', 'field_error', 'single',\n",
       "       'home_run', 'grounded_into_double_play', 'force_out',\n",
       "       'fielders_choice', 'triple', 'sac_bunt', 'double_play',\n",
       "       'fielders_choice_out', 'sac_fly_double_play',\n",
       "       'sac_bunt_double_play', 'triple_play', 'catcher_interf',\n",
       "       'game_advisory'], dtype=object)"
      ]
     },
     "execution_count": 10,
     "metadata": {},
     "output_type": "execute_result"
    }
   ],
   "source": [
    "bip.events.unique()"
   ]
  },
  {
   "cell_type": "code",
   "execution_count": 11,
   "metadata": {},
   "outputs": [],
   "source": [
    "# bip = bip[bip.launch_speed != 0]"
   ]
  },
  {
   "cell_type": "code",
   "execution_count": 55,
   "metadata": {},
   "outputs": [
    {
     "data": {
      "text/plain": [
       "count    662159.000000\n",
       "mean          0.385430\n",
       "std           0.582794\n",
       "min           0.000000\n",
       "25%           0.000000\n",
       "50%           0.000000\n",
       "75%           0.900000\n",
       "max           2.000000\n",
       "Name: woba_value, dtype: float64"
      ]
     },
     "execution_count": 55,
     "metadata": {},
     "output_type": "execute_result"
    }
   ],
   "source": [
    "bip['woba_value'].describe()"
   ]
  },
  {
   "cell_type": "code",
   "execution_count": 57,
   "metadata": {},
   "outputs": [
    {
     "data": {
      "image/png": "[encoded data removed]",
      "text/plain": [
       "<Figure size 720x576 with 1 Axes>"
      ]
     },
     "metadata": {
      "needs_background": "light"
     },
     "output_type": "display_data"
    }
   ],
   "source": [
    "plt.figure(figsize=(10,8))\n",
    "sns.histplot(data=bip, x=\"delta_run_exp\")\n",
    "plt.title('Statcast Delta Run Exp Distribution')\n",
    "plt.show()"
   ]
  },
  {
   "cell_type": "code",
   "execution_count": 58,
   "metadata": {},
   "outputs": [],
   "source": [
    "bip_5k = bip.sample(n=5000)\n",
    "bip_10k = bip.sample(n=10000)\n",
    "bip_25k = bip.sample(n=25000)"
   ]
  },
  {
   "cell_type": "code",
   "execution_count": 59,
   "metadata": {},
   "outputs": [
    {
     "data": {
      "image/png": "[encoded data removed]",
      "text/plain": [
       "<Figure size 720x576 with 1 Axes>"
      ]
     },
     "metadata": {
      "needs_background": "light"
     },
     "output_type": "display_data"
    }
   ],
   "source": [
    "plt.figure(figsize=(10,8))\n",
    "sns.histplot(data=bip_10k, x=\"delta_run_exp\")\n",
    "plt.title('Training Set Delta Run Exp Distribution')\n",
    "plt.show()"
   ]
  },
  {
   "cell_type": "code",
   "execution_count": 60,
   "metadata": {},
   "outputs": [
    {
     "name": "stdout",
     "output_type": "stream",
     "text": [
      "(7000, 2)\n",
      "(3000, 2)\n",
      "rf_reg\n",
      "fitting model\n"
     ]
    },
    {
     "data": {
      "text/plain": [
       "{'regressor__max_depth': 8,\n",
       " 'regressor__max_features': 'log2',\n",
       " 'regressor__n_estimators': 500}"
      ]
     },
     "execution_count": 60,
     "metadata": {},
     "output_type": "execute_result"
    }
   ],
   "source": [
    "from sklearn.model_selection import GridSearchCV\n",
    "\n",
    "# split the data\n",
    "X, y = bip_10k[['launch_speed', 'launch_angle']], bip_10k['delta_run_exp']\n",
    "\n",
    "# create train and test sets\n",
    "X_train, X_test, y_train, y_test = train_test_split(\n",
    "    X, y, random_state=13, test_size=0.3)\n",
    "    \n",
    "print(X_train.shape)\n",
    "print(X_test.shape)\n",
    "\n",
    "# bring pipelines together for modeling\n",
    "rf_reg = Pipeline(steps=[('scaler', StandardScaler()),\n",
    "                        ('regressor', RandomForestRegressor(n_jobs=-1))])\n",
    "print('rf_reg')\n",
    "# set hyperparameter grid for tuning\n",
    "\n",
    "param_dist = { \n",
    "          'regressor__n_estimators': [100, 200, 500],\n",
    "          'regressor__max_depth':[None, 5, 8],\n",
    "          'regressor__max_features': ['auto', 'sqrt', 'log2']\n",
    "}\n",
    "\n",
    "print('fitting model')\n",
    "\n",
    "# rf_reg.fit(X_train, y_train)\n",
    "\n",
    "# do search\n",
    "search = GridSearchCV(rf_reg, \n",
    "param_dist, n_jobs=-1, scoring='neg_root_mean_squared_error')\n",
    "search.fit(X_train, y_train)\n",
    "search.best_params_"
   ]
  },
  {
   "cell_type": "code",
   "execution_count": 61,
   "metadata": {},
   "outputs": [
    {
     "name": "stdout",
     "output_type": "stream",
     "text": [
      "rmse:  0.4333448043323931\n",
      "r2:  0.35629518809692895\n",
      "mae:  0.2987532625388376\n"
     ]
    }
   ],
   "source": [
    "from sklearn.metrics import mean_squared_error, r2_score, mean_absolute_error\n",
    "\n",
    "y_pred = search.best_estimator_.predict(X_test)\n",
    "\n",
    "rmse = np.sqrt(mean_squared_error(y_test, y_pred))\n",
    "print('rmse: ', rmse)\n",
    "\n",
    "r2 = r2_score(y_test, y_pred)\n",
    "print('r2: ', r2)\n",
    "\n",
    "mae = mean_absolute_error(y_test, y_pred)\n",
    "print('mae: ', mae)"
   ]
  },
  {
   "cell_type": "code",
   "execution_count": 38,
   "metadata": {},
   "outputs": [
    {
     "data": {
      "image/png": "[encoded data removed]",
      "text/plain": [
       "<Figure size 432x288 with 1 Axes>"
      ]
     },
     "metadata": {
      "needs_background": "light"
     },
     "output_type": "display_data"
    }
   ],
   "source": [
    "features = X_train.columns.to_list()\n",
    "importances = search.best_estimator_._final_estimator.feature_importances_\n",
    "indices = np.argsort(importances)\n",
    "\n",
    "plt.title('Feature Importance')\n",
    "plt.barh(range(len(indices)), importances[indices], color='b', align='center')\n",
    "plt.yticks(range(len(indices)), [features[i] for i in indices])\n",
    "plt.xlabel('Relative Importance')\n",
    "plt.show()"
   ]
  },
  {
   "cell_type": "code",
   "execution_count": 39,
   "metadata": {},
   "outputs": [
    {
     "data": {
      "image/png": "[encoded data removed]",
      "text/plain": [
       "<Figure size 576x165.6 with 1 Axes>"
      ]
     },
     "metadata": {
      "needs_background": "light"
     },
     "output_type": "display_data"
    }
   ],
   "source": [
    "import shap\n",
    "shap_values = shap.TreeExplainer(search.best_estimator_._final_estimator).shap_values(X_train)\n",
    "shap.summary_plot(shap_values, X_train, plot_type=\"bar\")"
   ]
  },
  {
   "cell_type": "code",
   "execution_count": 62,
   "metadata": {},
   "outputs": [
    {
     "name": "stderr",
     "output_type": "stream",
     "text": [
      "\n",
      "A value is trying to be set on a copy of a slice from a DataFrame.\n",
      "Try using .loc[row_indexer,col_indexer] = value instead\n",
      "\n",
      "See the caveats in the documentation: https://pandas.pydata.org/pandas-docs/stable/user_guide/indexing.html#returning-a-view-versus-a-copy\n"
     ]
    }
   ],
   "source": [
    "bip['e_delta_re'] = search.best_estimator_.predict(bip[['launch_speed','launch_angle']])"
   ]
  },
  {
   "cell_type": "code",
   "execution_count": 63,
   "metadata": {},
   "outputs": [
    {
     "data": {
      "image/png": "[encoded data removed]",
      "text/plain": [
       "<Figure size 720x576 with 1 Axes>"
      ]
     },
     "metadata": {
      "needs_background": "light"
     },
     "output_type": "display_data"
    }
   ],
   "source": [
    "plt.figure(figsize=(10,8))\n",
    "sns.histplot(data=bip, x=\"e_delta_re\")\n",
    "plt.title('Model Prediction distribution')\n",
    "plt.show()"
   ]
  },
  {
   "cell_type": "code",
   "execution_count": 64,
   "metadata": {},
   "outputs": [],
   "source": [
    "frames = [bip, non_bip]\n",
    "\n",
    "df_concat = pd.concat(frames)"
   ]
  },
  {
   "cell_type": "code",
   "execution_count": 66,
   "metadata": {},
   "outputs": [],
   "source": [
    "# get average scores per batter per cluster faced\n",
    "\n",
    "df_concat['clust_e_delta_re_mean'] = df_concat.groupby(['batter', 'cluster_name'])['e_delta_re'].transform('mean')"
   ]
  },
  {
   "cell_type": "code",
   "execution_count": 88,
   "metadata": {},
   "outputs": [],
   "source": [
    "# obtain pitcher cluster distributions\n",
    "\n",
    "df_concat_2 = df_concat.groupby(['pitcher', 'cluster_name']).size().unstack(fill_value=0).reset_index()"
   ]
  },
  {
   "cell_type": "code",
   "execution_count": 92,
   "metadata": {},
   "outputs": [],
   "source": [
    "cluster_cols = df_concat_2.iloc[:, 1:]"
   ]
  },
  {
   "cell_type": "code",
   "execution_count": 94,
   "metadata": {},
   "outputs": [],
   "source": [
    "# cols = ['lhp_cukc_0', 'lhp_cukc_1', 'lhp_cukc_2', 'lhp_cukc_3',\n",
    "#         'lhp_ff_0', 'lhp_ff_1', 'lhp_ff_2', 'lhp_ff_3',\n",
    "#         'lhp_mf_0', 'lhp_mf_1', 'lhp_mf_2', 'lhp_mf_3',\n",
    "#         'lhp_off_0', 'lhp_off_1', 'lhp_off_2', 'lhp_off_3',\n",
    "#         'lhp_slct_0', 'lhp_slct_1', 'lhp_slct_2', 'lhp_slct_3',\n",
    "#         'rhp_cukc_0', 'rhp_cukc_1', 'rhp_cukc_2', 'rhp_cukc_3', 'rhp_cukc_4',\n",
    "#         'rhp_ff_0', 'rhp_ff_1', 'rhp_ff_2', 'rhp_ff_3',\n",
    "#         'rhp_mf_0', 'rhp_mf_1', 'rhp_mf_2', 'rhp_mf_3', 'rhp_mf_4',\n",
    "#         'rhp_off_0', 'rhp_off_1', 'rhp_off_2', 'rhp_off_3',\n",
    "#         'rhp_slct_0', 'rhp_slct_1', 'rhp_slct_2', 'rhp_slct_3']\n",
    "\n",
    "cols = cluster_cols.columns\n",
    "\n",
    "df_concat_2[cols] = df_concat_2[cols].div(df_concat_2[cols].sum(axis=1), axis=0)"
   ]
  },
  {
   "cell_type": "code",
   "execution_count": 96,
   "metadata": {},
   "outputs": [],
   "source": [
    "# retrieve distribution percentages for each pitcher\n",
    "\n",
    "cluster_sum = df_concat_2.melt(id_vars=[\"pitcher\"], var_name=\"cluster_name_pitcher\", value_name=\"value\")\n",
    "\n",
    "cluster_sum = cluster_sum[cluster_sum.value != 0]"
   ]
  },
  {
   "cell_type": "code",
   "execution_count": 100,
   "metadata": {},
   "outputs": [],
   "source": [
    "# merge df's back together\n",
    "\n",
    "df2 = df_concat[['batter', 'pitcher', 'pitcher_team', 'game_date', 'cluster_name', 'clust_e_delta_re_mean']].merge(cluster_sum, left_on=['pitcher', 'cluster_name'], right_on=['pitcher', 'cluster_name_pitcher'])\n"
   ]
  },
  {
   "cell_type": "code",
   "execution_count": 102,
   "metadata": {},
   "outputs": [],
   "source": [
    "# calculate scores\n",
    "\n",
    "df2['score'] = df2['value'] * df2['clust_e_delta_re_mean']"
   ]
  },
  {
   "cell_type": "code",
   "execution_count": 103,
   "metadata": {},
   "outputs": [],
   "source": [
    "# calculate matchup scores for batter vs pitcher\n",
    "\n",
    "df2['matchup_score'] = df2.groupby(['batter', 'pitcher'])['score'].transform('sum')"
   ]
  },
  {
   "cell_type": "code",
   "execution_count": 104,
   "metadata": {},
   "outputs": [],
   "source": [
    "sql1 = '''\n",
    "    SELECT *\n",
    "    FROM player_lookup\n",
    "'''\n",
    "player_lookup = pd.read_sql_query(sql1, engine)\n",
    "\n",
    "sql_pitching = '''\n",
    "    SELECT distinct(\"IDfg\"), max(\"G\") as G, max(\"GS\") as GS\n",
    "    FROM pitching\n",
    "    GROUP BY \"IDfg\", \"Team\"\n",
    "'''\n",
    "\n",
    "pitching = pd.read_sql_query(sql_pitching, engine)\n",
    "\n",
    "sql_hitting = '''\n",
    "    SELECT distinct(\"IDfg\")\n",
    "    FROM hitting  \n",
    "'''\n",
    "\n",
    "hitting = pd.read_sql_query(sql_hitting, engine)"
   ]
  },
  {
   "cell_type": "code",
   "execution_count": 27,
   "metadata": {},
   "outputs": [],
   "source": [
    "# create player lookup table\n",
    "player_lookup = player_lookup[['name_last', 'name_first', 'key_mlbam', 'key_fangraphs']]\n",
    "\n",
    "# set up pitcher names\n",
    "df3 = df2.merge(player_lookup, how='left', left_on = 'pitcher', right_on = 'key_mlbam')\n",
    "df3['pitcher_name'] = df3['name_last'] + ', ' + df3['name_first']\n",
    "\n",
    "# set up hitter names\n",
    "df3 = df3.merge(player_lookup, how='left', left_on='batter', right_on='key_mlbam')\n",
    "df3['batter_name'] = df3['name_last_y'] + ', ' + df3['name_first_y']\n",
    "\n",
    "# drop unneeded columns\n",
    "df3 = df3.drop(columns=['name_last_x', 'name_first_x', 'name_last_y', 'name_first_y'])\n",
    "\n",
    "# merge on fangraphs keys\n",
    "df3 = df3.merge(pitching, how='left', left_on='key_fangraphs_x', right_on='IDfg')\n",
    "df3 = df3.merge(hitting, how='left', left_on='key_fangraphs_y', right_on='IDfg')\n",
    "\n",
    "# identify starting vs relief pitchers\n",
    "df3['isStarter'] = ((df3['gs'] / df3['g']) > 0.8)\n",
    "\n",
    "# drop columns from starter vs reliever calc\n",
    "df3 = df3.dropna(subset=['g', 'gs'])"
   ]
  },
  {
   "cell_type": "code",
   "execution_count": 28,
   "metadata": {},
   "outputs": [],
   "source": [
    "# create pitcher dataframe for 2021 pitchers only\n",
    "\n",
    "pitcher_df = df3[['pitcher_name', 'pitcher_team', 'game_date']].sort_values('game_date').groupby('pitcher_name').tail(1)\n",
    "pitcher_df_2021 = pitcher_df.loc[pitcher_df['game_date']>'2021-01-01']"
   ]
  },
  {
   "cell_type": "code",
   "execution_count": 29,
   "metadata": {},
   "outputs": [
    {
     "data": {
      "text/html": [
       "<div>\n",
       "<style scoped>\n",
       "    .dataframe tbody tr th:only-of-type {\n",
       "        vertical-align: middle;\n",
       "    }\n",
       "\n",
       "    .dataframe tbody tr th {\n",
       "        vertical-align: top;\n",
       "    }\n",
       "\n",
       "    .dataframe thead th {\n",
       "        text-align: right;\n",
       "    }\n",
       "</style>\n",
       "<table border=\"1\" class=\"dataframe\">\n",
       "  <thead>\n",
       "    <tr style=\"text-align: right;\">\n",
       "      <th></th>\n",
       "      <th>batter_name</th>\n",
       "      <th>pitcher_name</th>\n",
       "      <th>matchup_score</th>\n",
       "      <th>isStarter</th>\n",
       "      <th>pitcher_team</th>\n",
       "    </tr>\n",
       "  </thead>\n",
       "  <tbody>\n",
       "    <tr>\n",
       "      <th>0</th>\n",
       "      <td>Grichuk, Randal</td>\n",
       "      <td>Kluber, Corey</td>\n",
       "      <td>0.009679</td>\n",
       "      <td>True</td>\n",
       "      <td>NYY</td>\n",
       "    </tr>\n",
       "    <tr>\n",
       "      <th>1</th>\n",
       "      <td>Espinal, Santiago</td>\n",
       "      <td>Kluber, Corey</td>\n",
       "      <td>0.031792</td>\n",
       "      <td>True</td>\n",
       "      <td>NYY</td>\n",
       "    </tr>\n",
       "    <tr>\n",
       "      <th>3</th>\n",
       "      <td>Springer, George</td>\n",
       "      <td>Kluber, Corey</td>\n",
       "      <td>0.103629</td>\n",
       "      <td>True</td>\n",
       "      <td>NYY</td>\n",
       "    </tr>\n",
       "    <tr>\n",
       "      <th>4</th>\n",
       "      <td>Lowe, Nathaniel</td>\n",
       "      <td>Kluber, Corey</td>\n",
       "      <td>-0.005626</td>\n",
       "      <td>True</td>\n",
       "      <td>NYY</td>\n",
       "    </tr>\n",
       "    <tr>\n",
       "      <th>5</th>\n",
       "      <td>Kiner-Falefa, Isiah</td>\n",
       "      <td>Kluber, Corey</td>\n",
       "      <td>-0.038098</td>\n",
       "      <td>True</td>\n",
       "      <td>NYY</td>\n",
       "    </tr>\n",
       "    <tr>\n",
       "      <th>...</th>\n",
       "      <td>...</td>\n",
       "      <td>...</td>\n",
       "      <td>...</td>\n",
       "      <td>...</td>\n",
       "      <td>...</td>\n",
       "    </tr>\n",
       "    <tr>\n",
       "      <th>715951</th>\n",
       "      <td>Rosario, Eddie</td>\n",
       "      <td>Luetge, Lucas</td>\n",
       "      <td>-0.001468</td>\n",
       "      <td>False</td>\n",
       "      <td>NYY</td>\n",
       "    </tr>\n",
       "    <tr>\n",
       "      <th>715991</th>\n",
       "      <td>Raleigh, Cal</td>\n",
       "      <td>Luetge, Lucas</td>\n",
       "      <td>-0.026305</td>\n",
       "      <td>False</td>\n",
       "      <td>NYY</td>\n",
       "    </tr>\n",
       "    <tr>\n",
       "      <th>716007</th>\n",
       "      <td>Diaz, Lewin</td>\n",
       "      <td>Luetge, Lucas</td>\n",
       "      <td>-0.013012</td>\n",
       "      <td>False</td>\n",
       "      <td>NYY</td>\n",
       "    </tr>\n",
       "    <tr>\n",
       "      <th>716015</th>\n",
       "      <td>Miller, Brad</td>\n",
       "      <td>Luetge, Lucas</td>\n",
       "      <td>-0.000465</td>\n",
       "      <td>False</td>\n",
       "      <td>NYY</td>\n",
       "    </tr>\n",
       "    <tr>\n",
       "      <th>716311</th>\n",
       "      <td>Davis, Jonathan</td>\n",
       "      <td>Phillips, Brett</td>\n",
       "      <td>0.005688</td>\n",
       "      <td>False</td>\n",
       "      <td>TB</td>\n",
       "    </tr>\n",
       "  </tbody>\n",
       "</table>\n",
       "<p>84676 rows × 5 columns</p>\n",
       "</div>"
      ],
      "text/plain": [
       "                batter_name     pitcher_name  matchup_score  isStarter  \\\n",
       "0           Grichuk, Randal    Kluber, Corey       0.009679       True   \n",
       "1         Espinal, Santiago    Kluber, Corey       0.031792       True   \n",
       "3          Springer, George    Kluber, Corey       0.103629       True   \n",
       "4           Lowe, Nathaniel    Kluber, Corey      -0.005626       True   \n",
       "5       Kiner-Falefa, Isiah    Kluber, Corey      -0.038098       True   \n",
       "...                     ...              ...            ...        ...   \n",
       "715951       Rosario, Eddie    Luetge, Lucas      -0.001468      False   \n",
       "715991         Raleigh, Cal    Luetge, Lucas      -0.026305      False   \n",
       "716007          Diaz, Lewin    Luetge, Lucas      -0.013012      False   \n",
       "716015         Miller, Brad    Luetge, Lucas      -0.000465      False   \n",
       "716311      Davis, Jonathan  Phillips, Brett       0.005688      False   \n",
       "\n",
       "       pitcher_team  \n",
       "0               NYY  \n",
       "1               NYY  \n",
       "3               NYY  \n",
       "4               NYY  \n",
       "5               NYY  \n",
       "...             ...  \n",
       "715951          NYY  \n",
       "715991          NYY  \n",
       "716007          NYY  \n",
       "716015          NYY  \n",
       "716311           TB  \n",
       "\n",
       "[84676 rows x 5 columns]"
      ]
     },
     "execution_count": 29,
     "metadata": {},
     "output_type": "execute_result"
    }
   ],
   "source": [
    "# create final dataset\n",
    "\n",
    "df3_2021 = df3.loc[df3['game_date']>'2021-03-01']\n",
    "df3_2021_reco = df3_2021[['batter_name', 'pitcher_name', 'pitcher_team', 'matchup_score', 'isStarter']].merge(pitcher_df_2021, on='pitcher_name', how='inner').drop(columns=['pitcher_team_x', 'game_date']).rename(columns = {'pitcher_team_y':'pitcher_team'}).drop_duplicates()\n",
    "df3_2021_reco"
   ]
  },
  {
   "cell_type": "code",
   "execution_count": 30,
   "metadata": {},
   "outputs": [],
   "source": [
    "df3_2021_reco.to_sql('bp_reco_df', engine, if_exists='replace', \n",
    "               chunksize= 100, method='multi')"
   ]
  },
  {
   "cell_type": "code",
   "execution_count": 31,
   "metadata": {},
   "outputs": [
    {
     "data": {
      "text/html": [
       "<div>\n",
       "<style scoped>\n",
       "    .dataframe tbody tr th:only-of-type {\n",
       "        vertical-align: middle;\n",
       "    }\n",
       "\n",
       "    .dataframe tbody tr th {\n",
       "        vertical-align: top;\n",
       "    }\n",
       "\n",
       "    .dataframe thead th {\n",
       "        text-align: right;\n",
       "    }\n",
       "</style>\n",
       "<table border=\"1\" class=\"dataframe\">\n",
       "  <thead>\n",
       "    <tr style=\"text-align: right;\">\n",
       "      <th></th>\n",
       "      <th>index</th>\n",
       "      <th>batter_name</th>\n",
       "      <th>pitcher_name</th>\n",
       "      <th>matchup_score</th>\n",
       "      <th>isStarter</th>\n",
       "      <th>pitcher_team</th>\n",
       "    </tr>\n",
       "  </thead>\n",
       "  <tbody>\n",
       "    <tr>\n",
       "      <th>74602</th>\n",
       "      <td>632766</td>\n",
       "      <td>Moncada, Yoan</td>\n",
       "      <td>Alexander, Tyler</td>\n",
       "      <td>-0.044056</td>\n",
       "      <td>False</td>\n",
       "      <td>DET</td>\n",
       "    </tr>\n",
       "    <tr>\n",
       "      <th>74494</th>\n",
       "      <td>631813</td>\n",
       "      <td>Moncada, Yoan</td>\n",
       "      <td>Soto, Gregory</td>\n",
       "      <td>-0.005018</td>\n",
       "      <td>False</td>\n",
       "      <td>DET</td>\n",
       "    </tr>\n",
       "    <tr>\n",
       "      <th>66784</th>\n",
       "      <td>563913</td>\n",
       "      <td>Moncada, Yoan</td>\n",
       "      <td>Krol, Ian</td>\n",
       "      <td>-0.004176</td>\n",
       "      <td>False</td>\n",
       "      <td>DET</td>\n",
       "    </tr>\n",
       "    <tr>\n",
       "      <th>20747</th>\n",
       "      <td>199603</td>\n",
       "      <td>Moncada, Yoan</td>\n",
       "      <td>Hutchison, Drew</td>\n",
       "      <td>-0.002986</td>\n",
       "      <td>False</td>\n",
       "      <td>DET</td>\n",
       "    </tr>\n",
       "    <tr>\n",
       "      <th>59193</th>\n",
       "      <td>496524</td>\n",
       "      <td>Moncada, Yoan</td>\n",
       "      <td>Lange, Alex</td>\n",
       "      <td>0.004058</td>\n",
       "      <td>False</td>\n",
       "      <td>DET</td>\n",
       "    </tr>\n",
       "    <tr>\n",
       "      <th>32686</th>\n",
       "      <td>294525</td>\n",
       "      <td>Moncada, Yoan</td>\n",
       "      <td>Foley, Jason</td>\n",
       "      <td>0.006832</td>\n",
       "      <td>False</td>\n",
       "      <td>DET</td>\n",
       "    </tr>\n",
       "    <tr>\n",
       "      <th>25077</th>\n",
       "      <td>233131</td>\n",
       "      <td>Moncada, Yoan</td>\n",
       "      <td>Garcia, Bryan</td>\n",
       "      <td>0.010291</td>\n",
       "      <td>False</td>\n",
       "      <td>DET</td>\n",
       "    </tr>\n",
       "    <tr>\n",
       "      <th>25415</th>\n",
       "      <td>234980</td>\n",
       "      <td>Moncada, Yoan</td>\n",
       "      <td>Cisnero, Jose</td>\n",
       "      <td>0.012709</td>\n",
       "      <td>False</td>\n",
       "      <td>DET</td>\n",
       "    </tr>\n",
       "    <tr>\n",
       "      <th>29643</th>\n",
       "      <td>271825</td>\n",
       "      <td>Moncada, Yoan</td>\n",
       "      <td>Funkhouser, Kyle</td>\n",
       "      <td>0.012914</td>\n",
       "      <td>False</td>\n",
       "      <td>DET</td>\n",
       "    </tr>\n",
       "    <tr>\n",
       "      <th>52639</th>\n",
       "      <td>454953</td>\n",
       "      <td>Moncada, Yoan</td>\n",
       "      <td>Farmer, Buck</td>\n",
       "      <td>0.022628</td>\n",
       "      <td>False</td>\n",
       "      <td>DET</td>\n",
       "    </tr>\n",
       "    <tr>\n",
       "      <th>6788</th>\n",
       "      <td>63478</td>\n",
       "      <td>Moncada, Yoan</td>\n",
       "      <td>Fulmer, Michael</td>\n",
       "      <td>0.030537</td>\n",
       "      <td>False</td>\n",
       "      <td>DET</td>\n",
       "    </tr>\n",
       "    <tr>\n",
       "      <th>6193</th>\n",
       "      <td>59503</td>\n",
       "      <td>Moncada, Yoan</td>\n",
       "      <td>Urena, Jose</td>\n",
       "      <td>0.033600</td>\n",
       "      <td>False</td>\n",
       "      <td>DET</td>\n",
       "    </tr>\n",
       "    <tr>\n",
       "      <th>53702</th>\n",
       "      <td>461609</td>\n",
       "      <td>Moncada, Yoan</td>\n",
       "      <td>Jimenez, Joe</td>\n",
       "      <td>0.071064</td>\n",
       "      <td>False</td>\n",
       "      <td>DET</td>\n",
       "    </tr>\n",
       "  </tbody>\n",
       "</table>\n",
       "</div>"
      ],
      "text/plain": [
       "        index    batter_name      pitcher_name  matchup_score  isStarter  \\\n",
       "74602  632766  Moncada, Yoan  Alexander, Tyler      -0.044056      False   \n",
       "74494  631813  Moncada, Yoan     Soto, Gregory      -0.005018      False   \n",
       "66784  563913  Moncada, Yoan         Krol, Ian      -0.004176      False   \n",
       "20747  199603  Moncada, Yoan   Hutchison, Drew      -0.002986      False   \n",
       "59193  496524  Moncada, Yoan       Lange, Alex       0.004058      False   \n",
       "32686  294525  Moncada, Yoan      Foley, Jason       0.006832      False   \n",
       "25077  233131  Moncada, Yoan     Garcia, Bryan       0.010291      False   \n",
       "25415  234980  Moncada, Yoan     Cisnero, Jose       0.012709      False   \n",
       "29643  271825  Moncada, Yoan  Funkhouser, Kyle       0.012914      False   \n",
       "52639  454953  Moncada, Yoan      Farmer, Buck       0.022628      False   \n",
       "6788    63478  Moncada, Yoan   Fulmer, Michael       0.030537      False   \n",
       "6193    59503  Moncada, Yoan       Urena, Jose       0.033600      False   \n",
       "53702  461609  Moncada, Yoan      Jimenez, Joe       0.071064      False   \n",
       "\n",
       "      pitcher_team  \n",
       "74602          DET  \n",
       "74494          DET  \n",
       "66784          DET  \n",
       "20747          DET  \n",
       "59193          DET  \n",
       "32686          DET  \n",
       "25077          DET  \n",
       "25415          DET  \n",
       "29643          DET  \n",
       "52639          DET  \n",
       "6788           DET  \n",
       "6193           DET  \n",
       "53702          DET  "
      ]
     },
     "execution_count": 31,
     "metadata": {},
     "output_type": "execute_result"
    }
   ],
   "source": [
    "import pandas as pd\n",
    "from configparser import ConfigParser\n",
    "from sqlalchemy import create_engine\n",
    "\n",
    "# establish sql engine connection\n",
    "parser = ConfigParser()\n",
    "parser.read('nb.ini')\n",
    "conn_string = parser.get('my_db', 'conn_string')\n",
    "engine = create_engine(conn_string)\n",
    "\n",
    "# fetch statcast data from postgresql database\n",
    "\n",
    "sql1 = '''\n",
    "        SELECT *\n",
    "        FROM bp_reco_df\n",
    "    '''\n",
    "bp_reco_df = pd.read_sql_query(sql1, engine)\n",
    "\n",
    "def bp_reco(batter, pitcher_tm, df):\n",
    "    df_reco = df.loc[df['batter_name']==batter]\n",
    "    df_reco_team = df_reco.loc[df_reco['pitcher_team']==pitcher_tm]\n",
    "\n",
    "    return df_reco_team.sort_values(by=['matchup_score'])\n",
    "\n",
    "yoyo = bp_reco('Moncada, Yoan', 'DET', bp_reco_df)\n",
    "\n",
    "yoyo.loc[yoyo['isStarter']==False]"
   ]
  },
  {
   "cell_type": "code",
   "execution_count": null,
   "metadata": {},
   "outputs": [],
   "source": []
  }
 ],
 "metadata": {
  "interpreter": {
   "hash": "7743e88522c0656e3c4d76210be5b89a02458a7273f3872c633d8ddda606ff01"
  },
  "kernelspec": {
   "display_name": "Python 3.8.5 64-bit ('base': conda)",
   "name": "python3"
  },
  "language_info": {
   "codemirror_mode": {
    "name": "ipython",
    "version": 3
   },
   "file_extension": ".py",
   "mimetype": "text/x-python",
   "name": "python",
   "nbconvert_exporter": "python",
   "pygments_lexer": "ipython3",
   "version": "3.8.5"
  },
  "orig_nbformat": 4
 },
 "nbformat": 4,
 "nbformat_minor": 2
}
